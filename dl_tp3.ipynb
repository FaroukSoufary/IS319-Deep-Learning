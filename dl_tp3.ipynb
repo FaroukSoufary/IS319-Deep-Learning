{
  "cells": [
    {
      "cell_type": "markdown",
      "id": "abb49b5c-7533-4bf0-bcce-37373d6fa072",
      "metadata": {
        "deletable": false,
        "editable": false,
        "id": "abb49b5c-7533-4bf0-bcce-37373d6fa072",
        "nbgrader": {
          "cell_type": "markdown",
          "checksum": "d1502bbeee981ecc3a7a4464df92be0c",
          "grade": false,
          "grade_id": "cell-a975d7bfb06f30ae",
          "locked": true,
          "schema_version": 3,
          "solution": false,
          "task": false
        }
      },
      "source": [
        "# IS319 - Deep Learning\n",
        "\n",
        "## TP3 - Recurrent neural networks\n",
        "\n",
        "Credits: Andrej Karpathy\n",
        "\n",
        "The goal of this TP is to experiment with recurrent neural networks for a character-level language model to generate text that looks like training text data."
      ]
    },
    {
      "cell_type": "code",
      "execution_count": 86,
      "id": "16d03ccd-089a-4553-bd96-7bd0c0f71949",
      "metadata": {
        "id": "16d03ccd-089a-4553-bd96-7bd0c0f71949"
      },
      "outputs": [],
      "source": [
        "import torch\n",
        "import torch.nn as nn\n",
        "import torch.nn.functional as F\n",
        "import matplotlib.pyplot as plt\n",
        "device = torch.device('cuda' if torch.cuda.is_available() else 'cpu')"
      ]
    },
    {
      "cell_type": "markdown",
      "id": "c4c736b5-43df-4aca-9ba3-dd34ed8366f4",
      "metadata": {
        "id": "c4c736b5-43df-4aca-9ba3-dd34ed8366f4"
      },
      "source": [
        "## 1. Text data preprocessing\n",
        "\n",
        "Several text datasets are provided, feel free to experiment with different ones throughout the TP. At the beginning, use a small subset of a given dataset (for example use only 10k characters)."
      ]
    },
    {
      "cell_type": "code",
      "execution_count": 87,
      "id": "LdINbAH3tFYw",
      "metadata": {
        "colab": {
          "base_uri": "https://localhost:8080/"
        },
        "id": "LdINbAH3tFYw",
        "outputId": "32b26b47-e05e-472e-94b6-9fb654cae885"
      },
      "outputs": [
        {
          "name": "stdout",
          "output_type": "stream",
          "text": [
            "tar: text-datasets.tgz: Cannot open: No such file or directory\n",
            "tar: Error is not recoverable: exiting now\n"
          ]
        }
      ],
      "source": [
        "!tar -xvf text-datasets.tgz"
      ]
    },
    {
      "cell_type": "code",
      "execution_count": 88,
      "id": "e56a81b9-b733-4d87-b8d7-2184d5e5c2de",
      "metadata": {
        "colab": {
          "base_uri": "https://localhost:8080/"
        },
        "id": "e56a81b9-b733-4d87-b8d7-2184d5e5c2de",
        "outputId": "2b992603-fe62-4cbc-d0cf-c927c8c649a7"
      },
      "outputs": [
        {
          "name": "stdout",
          "output_type": "stream",
          "text": [
            "Dataset `baudelaire.txt` contains 10000 characters.\n",
            "Excerpt of the dataset:\n",
            "LES FLEURS DU MAL\n",
            "\n",
            "par\n",
            "\n",
            "CHARLES BAUDELAIRE\n",
            "\n",
            "\n",
            "AU LECTEUR\n",
            "\n",
            "\n",
            "La sottise, l'erreur, le péché, la lésine,\n",
            "Occupent nos esprits et travaillent nos corps,\n",
            "Et nous alimentons nos aimables remords,\n",
            "Comme les mendiants nourrissent leur vermine.\n",
            "\n",
            "Nos péchés sont têtus, nos repentirs sont lâches,\n",
            "Nous nous faisons payer grassement nos aveux,\n",
            "Et nous rentrons gaîment dans le chemin bourbeux,\n",
            "Croyant par de vils pleurs laver toutes nos taches.\n",
            "\n",
            "Sur l'oreiller du mal c'est Satan Trismégiste\n",
            "Qui berce longuement notre esprit enchanté,\n",
            "Et le riche métal de notre volonté\n",
            "Est tout vaporisé par ce savant chimiste.\n",
            "\n",
            "C'est le Diable qui tient les fils qui nous remuent!\n",
            "Aux objets répugnants nous trouvons des appas;\n",
            "Chaque jour vers l'Enfer nous descendons d'un pas,\n",
            "Sans horreur, à travers des ténèbres qui puent.\n",
            "\n",
            "Ainsi qu'un débauché pauvre qui baise et mange\n",
            "Le sein martyrisé d'une antique catin,\n",
            "Nous volons au passage un plaisir clandestin\n",
            "Que nous pressons bien fort comme une vieille orange.\n",
            "\n",
            "Serré, fourmillant, comme un million d'helminthes,\n",
            "Dans nos cerveaux ribote un peuple de Démons,\n",
            "Et, quand nous respirons, la Mort dans nos poumons\n",
            "Descend, fleuve invisible, avec de sourdes plaintes.\n",
            "\n",
            "Si le viol, le poison, le poignard, l'incendie,\n",
            "N'ont pas encore brodé de leurs plaisants desseins\n",
            "Le canevas banal de nos piteux destins,\n",
            "C'est que notre âme, hélas! n'est pas assez hardie.\n",
            "\n",
            "Mais parmi les chacals, les panthères, les lices,\n",
            "Les singes, les scorpions, les vautours, les serpents,\n",
            "Les monstres glapissants, hurlants, grognants, rampants\n",
            "Dans la ménagerie infâme de nos vices,\n",
            "\n",
            "Il en est un plus laid, plus méchant, plus immonde!\n",
            "Quoiqu'il ne pousse ni grands gestes ni grands cris,\n",
            "Il ferait volontiers de la terre un débris\n",
            "Et dans un bâillement avalerait le monde;\n",
            "\n",
            "C'est l'Ennui!--L'oeil chargé d'un pleur involontaire,\n",
            "Il rêve d'échafauds en fumant son houka.\n",
            "Tu le connais, lecteur, ce monstre délicat,\n",
            "--Hypocrite lecteur,--mon semblable,--mon frère!\n",
            "\n",
            "\n",
            "\n",
            "\n",
            "SPLEEN ET IDÉAL\n",
            "\n",
            "BENEDICTION\n",
            "\n",
            "\n",
            "L\n"
          ]
        }
      ],
      "source": [
        "text_data_fname = 'baudelaire.txt'  # ~0.1m characters (French)\n",
        "# text_data_fname = 'proust.txt'      # ~7.3m characters (French)\n",
        "# text_data_fname = 'shakespeare.txt' # ~0.1m characters (English)\n",
        "# text_data_fname = 'lotr.txt'        # ~2.5m characters (English)\n",
        "# text_data_fname = 'doom.c'          # ~1m characters (C Code)\n",
        "# text_data_fname = 'linux.c'         # ~11.5m characters (C code)\n",
        "\n",
        "text_data = open(text_data_fname, 'r').read()\n",
        "text_data = text_data[:10000] # use a small subset\n",
        "print(f'Dataset `{text_data_fname}` contains {len(text_data)} characters.')\n",
        "print('Excerpt of the dataset:')\n",
        "print(text_data[:2000])"
      ]
    },
    {
      "cell_type": "markdown",
      "id": "d9b9a404-8b09-4ab1-9529-98ff57650ef5",
      "metadata": {
        "deletable": false,
        "editable": false,
        "id": "d9b9a404-8b09-4ab1-9529-98ff57650ef5",
        "nbgrader": {
          "cell_type": "markdown",
          "checksum": "d6b030743489f86ece30d79835434297",
          "grade": false,
          "grade_id": "cell-9695c6f2cf95337c",
          "locked": true,
          "schema_version": 3,
          "solution": false,
          "task": false
        }
      },
      "source": [
        "**(Question)** Create a character-level vocabulary for your text data. Create two dictionaries: `ctoi` mapping each character to an index, and the reverse `itoc` mapping each index to its corresponding character. Implement the functions to convert text to tensor and tensor to text using these mappings. Apply these functions to some text data."
      ]
    },
    {
      "cell_type": "code",
      "execution_count": 106,
      "id": "885ecc8a-c654-463b-9353-f7a18a607199",
      "metadata": {
        "colab": {
          "base_uri": "https://localhost:8080/"
        },
        "deletable": false,
        "id": "885ecc8a-c654-463b-9353-f7a18a607199",
        "nbgrader": {
          "cell_type": "code",
          "checksum": "e3eb46710b4006993f4eb9c557a2376f",
          "grade": true,
          "grade_id": "vocabulary",
          "locked": false,
          "points": 1,
          "schema_version": 3,
          "solution": true,
          "task": false
        },
        "outputId": "2d836c27-9154-454d-b3b0-74ee9efeb0bb"
      },
      "outputs": [
        {
          "name": "stdout",
          "output_type": "stream",
          "text": [
            "{'x': 0, 'g': 1, 'b': 2, 'E': 3, 'R': 4, '\\n': 5, 'j': 6, 'p': 7, 'ô': 8, 'I': 9, 'T': 10, 'S': 11, 'ê': 12, 'â': 13, 'W': 14, 'm': 15, '_': 16, '?': 17, 'F': 18, ' ': 19, 'h': 20, 'U': 21, \"'\": 22, 'D': 23, 'r': 24, 'n': 25, 'd': 26, 'f': 27, 'Q': 28, '!': 29, 'L': 30, 'ù': 31, 'û': 32, 'G': 33, 'P': 34, 'e': 35, 'ç': 36, 'l': 37, '.': 38, ',': 39, 'è': 40, 'É': 41, ';': 42, '«': 43, 'q': 44, 'M': 45, 'y': 46, 'V': 47, 'î': 48, 'u': 49, 'k': 50, ':': 51, 'J': 52, 'é': 53, 'O': 54, 'B': 55, 'A': 56, 'v': 57, 'c': 58, '»': 59, 'i': 60, 'o': 61, 'C': 62, 't': 63, 'à': 64, '-': 65, 'N': 66, 's': 67, 'H': 68, 'a': 69, 'z': 70}\n",
            "{0: 'x', 1: 'g', 2: 'b', 3: 'E', 4: 'R', 5: '\\n', 6: 'j', 7: 'p', 8: 'ô', 9: 'I', 10: 'T', 11: 'S', 12: 'ê', 13: 'â', 14: 'W', 15: 'm', 16: '_', 17: '?', 18: 'F', 19: ' ', 20: 'h', 21: 'U', 22: \"'\", 23: 'D', 24: 'r', 25: 'n', 26: 'd', 27: 'f', 28: 'Q', 29: '!', 30: 'L', 31: 'ù', 32: 'û', 33: 'G', 34: 'P', 35: 'e', 36: 'ç', 37: 'l', 38: '.', 39: ',', 40: 'è', 41: 'É', 42: ';', 43: '«', 44: 'q', 45: 'M', 46: 'y', 47: 'V', 48: 'î', 49: 'u', 50: 'k', 51: ':', 52: 'J', 53: 'é', 54: 'O', 55: 'B', 56: 'A', 57: 'v', 58: 'c', 59: '»', 60: 'i', 61: 'o', 62: 'C', 63: 't', 64: 'à', 65: '-', 66: 'N', 67: 's', 68: 'H', 69: 'a', 70: 'z'}\n",
            "71\n",
            "tensor([30,  3, 11, 19, 18, 30,  3, 21,  4, 11])\n",
            "LES FLEURS\n"
          ]
        }
      ],
      "source": [
        "# Create the vocabulary and the two mapping dictionaries\n",
        "# YOUR CODE HERE\n",
        "import numpy as np\n",
        "\n",
        "idx = 0\n",
        "ctoi = {}\n",
        "itoc = {}\n",
        "\n",
        "voc = set(text_data)\n",
        "\n",
        "for elt in voc:\n",
        "    ctoi[elt] = idx\n",
        "    itoc[idx] = elt\n",
        "    idx += 1\n",
        "\n",
        "print(ctoi)\n",
        "print(itoc)\n",
        "print(len(ctoi))\n",
        "\n",
        "# Implement the function converting text to tensor\n",
        "def text_to_tensor(text, ctoi):\n",
        "    # YOUR CODE HERE\n",
        "    return torch.LongTensor(np.array([ctoi[c] for c in text]))\n",
        "    #tensor = torch.zeros(len(text), 1, len(ctoi))\n",
        "    #for i, letter in enumerate(text):\n",
        "    #  tensor[i][0][ctoi[letter]] = 1\n",
        "    #return tensor\n",
        "\n",
        "\n",
        "# Implement the function converting tensor to text\n",
        "def tensor_to_text(tensor, itoc):\n",
        "    # YOUR CODE HERE\n",
        "    return ''.join([itoc[elt.item()] for elt in tensor])#torch.argmax(tensor, dim=2)])\n",
        "\n",
        "# Apply your functions to some text data\n",
        "# YOUR CODE HERE\n",
        "#raise NotImplementedError()\n",
        "a = text_to_tensor(text_data[:10], ctoi)\n",
        "\n",
        "print(a)\n",
        "print(tensor_to_text(a, itoc))\n",
        "\n"
      ]
    },
    {
      "cell_type": "markdown",
      "id": "b8da1b7f-549d-45d9-8fea-309ee0e76a90",
      "metadata": {
        "deletable": false,
        "editable": false,
        "id": "b8da1b7f-549d-45d9-8fea-309ee0e76a90",
        "nbgrader": {
          "cell_type": "markdown",
          "checksum": "fbfd5a4df6e6081581ad38d7180fddfb",
          "grade": false,
          "grade_id": "cell-172b8befc4633227",
          "locked": true,
          "schema_version": 3,
          "solution": false,
          "task": false
        }
      },
      "source": [
        "## 2. Setup a character-level recurrent neural network"
      ]
    },
    {
      "cell_type": "markdown",
      "id": "3d33cfac-93f7-4980-8510-fcf675d3a06b",
      "metadata": {
        "deletable": false,
        "editable": false,
        "id": "3d33cfac-93f7-4980-8510-fcf675d3a06b",
        "nbgrader": {
          "cell_type": "markdown",
          "checksum": "6cb30929efdd10eb6066750f4b94bf14",
          "grade": false,
          "grade_id": "embedding",
          "locked": true,
          "points": 2,
          "schema_version": 3,
          "solution": false,
          "task": true
        }
      },
      "source": [
        "**(Question)** Setup a simple embedding layer with `nn.Embedding` to project character indices to `embedding_dim` dimensional vectors. Explain precisely how this layer works and what are its outputs for a given input sequence."
      ]
    },
    {
      "cell_type": "code",
      "execution_count": 103,
      "id": "609747a0-6634-4232-92cb-72946ef516b0",
      "metadata": {
        "colab": {
          "base_uri": "https://localhost:8080/",
          "height": 373
        },
        "deletable": false,
        "id": "609747a0-6634-4232-92cb-72946ef516b0",
        "nbgrader": {
          "cell_type": "code",
          "checksum": "a9dd84493589d73c13fac37411610a2e",
          "grade": true,
          "grade_id": "cell-a3b5adeb8111779b",
          "locked": false,
          "points": 0,
          "schema_version": 3,
          "solution": true,
          "task": false
        },
        "outputId": "ce1b75e1-b68f-4656-e3eb-7e516e65f093"
      },
      "outputs": [
        {
          "data": {
            "text/plain": [
              "tensor([[-1.0499, -2.5538, -0.8329,  0.2914, -1.7585],\n",
              "        [-0.5466,  0.7686, -0.3067, -0.6744, -0.1041],\n",
              "        [ 0.2995,  0.6213, -1.7441, -0.9082,  0.3287],\n",
              "        [ 0.0716, -0.2112,  0.7629,  2.0637, -0.6587],\n",
              "        [ 1.3853, -0.3015, -0.1482,  0.0467,  1.3081],\n",
              "        [-1.0499, -2.5538, -0.8329,  0.2914, -1.7585],\n",
              "        [-0.5466,  0.7686, -0.3067, -0.6744, -0.1041],\n",
              "        [ 0.0631,  0.7991, -0.8591,  1.1461,  1.1999],\n",
              "        [ 0.4302,  0.0691,  1.5564, -1.0611,  1.5152],\n",
              "        [ 0.2995,  0.6213, -1.7441, -0.9082,  0.3287]],\n",
              "       grad_fn=<EmbeddingBackward0>)"
            ]
          },
          "execution_count": 103,
          "metadata": {},
          "output_type": "execute_result"
        }
      ],
      "source": [
        "# YOUR CODE HERE\n",
        "embedding = nn.Embedding(len(ctoi),5)\n",
        "\n",
        "embedding(text_to_tensor(text_data[:10], ctoi))"
      ]
    },
    {
      "cell_type": "markdown",
      "id": "26f7a5e3-f137-49ef-a135-a855029b724b",
      "metadata": {
        "deletable": false,
        "id": "26f7a5e3-f137-49ef-a135-a855029b724b",
        "nbgrader": {
          "cell_type": "markdown",
          "checksum": "ba287efa3849a2ddcb98b94b287fd199",
          "grade": true,
          "grade_id": "cell-4065672821a5801f",
          "locked": false,
          "points": 0,
          "schema_version": 3,
          "solution": true,
          "task": false
        }
      },
      "source": []
    },
    {
      "cell_type": "markdown",
      "id": "7ebc7b1c-6469-4c63-9965-7a7f39734302",
      "metadata": {
        "deletable": false,
        "editable": false,
        "id": "7ebc7b1c-6469-4c63-9965-7a7f39734302",
        "nbgrader": {
          "cell_type": "markdown",
          "checksum": "6897eae892e4aa50cceac9bca0a83f82",
          "grade": false,
          "grade_id": "base-rnn",
          "locked": true,
          "points": 2,
          "schema_version": 3,
          "solution": false,
          "task": true
        }
      },
      "source": [
        "**(Question)** Setup a single-layer RNN with `nn.RNN` (without defining a custom class). Use `hidden_dim` size for hidden states. Explain precisely the outputs of this layer for a given input sequence."
      ]
    },
    {
      "cell_type": "code",
      "execution_count": 91,
      "id": "162dd7af-cf96-4279-b512-1507433c7826",
      "metadata": {
        "deletable": false,
        "id": "162dd7af-cf96-4279-b512-1507433c7826",
        "nbgrader": {
          "cell_type": "code",
          "checksum": "095b1c904c7c5fa3d5371de208f7300a",
          "grade": true,
          "grade_id": "cell-c0b3cdd14603b6d1",
          "locked": false,
          "points": 0,
          "schema_version": 3,
          "solution": true,
          "task": false
        }
      },
      "outputs": [],
      "source": [
        "# YOUR CODE HERE\n",
        "rnn = nn.RNN(input_size=5, hidden_size=20)"
      ]
    },
    {
      "cell_type": "markdown",
      "id": "56780e84-8767-4941-ba0a-2047b106fc35",
      "metadata": {
        "deletable": false,
        "id": "56780e84-8767-4941-ba0a-2047b106fc35",
        "nbgrader": {
          "cell_type": "markdown",
          "checksum": "2f3230528c7fabd5b26931934ac4e8b0",
          "grade": true,
          "grade_id": "cell-9c6c3e3359e2c37e",
          "locked": false,
          "points": 0,
          "schema_version": 3,
          "solution": true,
          "task": false
        }
      },
      "source": [
        "YOUR ANSWER HERE"
      ]
    },
    {
      "cell_type": "markdown",
      "id": "76df8c7a-2a3d-43a0-9666-a797d1a3dbca",
      "metadata": {
        "deletable": false,
        "editable": false,
        "id": "76df8c7a-2a3d-43a0-9666-a797d1a3dbca",
        "nbgrader": {
          "cell_type": "markdown",
          "checksum": "3993b8b02d0be0e16de189c4850bbfce",
          "grade": false,
          "grade_id": "rnn-model",
          "locked": true,
          "points": 2,
          "schema_version": 3,
          "solution": false,
          "task": true
        }
      },
      "source": [
        "**(Question)** Create a simple RNN model with a custom `nn.Module` class. It should contain: an embedding layer, a single-layer RNN, and a dense output layer. For each character of the input sequence, the model should predict the probability of the next character. The forward method should return the probabilities for next characters and the corresponding hidden states.\n",
        "After completing the class, create a model and apply the forward pass on some input text. Understand and explain the results.\n",
        "\n",
        "*Note:* depending on how you implement the loss function later, it can be convenient to return logits instead of probabilities, i.e. raw values of the output layer before any activation function."
      ]
    },
    {
      "cell_type": "code",
      "execution_count": 92,
      "id": "6cc835a8-a05f-4f78-b50e-4edbdb04305f",
      "metadata": {
        "deletable": false,
        "id": "6cc835a8-a05f-4f78-b50e-4edbdb04305f",
        "nbgrader": {
          "cell_type": "code",
          "checksum": "b587c6f505f5d3719869ae8a57fcb5c6",
          "grade": true,
          "grade_id": "cell-e55d41dd89bcf74f",
          "locked": false,
          "points": 0,
          "schema_version": 3,
          "solution": true,
          "task": false
        }
      },
      "outputs": [
        {
          "name": "stdout",
          "output_type": "stream",
          "text": [
            "torch.Size([100, 100])\n"
          ]
        }
      ],
      "source": [
        "class CharRNN(nn.Module):\n",
        "    def __init__(self, vocab_size, embedding_dim, hidden_dim, num_layers=1):\n",
        "        '''Initialize model parameters and layers.'''\n",
        "        super().__init__()\n",
        "        # YOUR CODE HERE\n",
        "        self.embedding = nn.Embedding(vocab_size,embedding_dim)\n",
        "        self.rnn = nn.RNN(input_size=embedding_dim, hidden_size=hidden_dim, num_layers=num_layers)\n",
        "        self.dense = nn.Linear(hidden_dim, vocab_size)\n",
        "\n",
        "    def forward(self, tensor_data, hidden_state=None):\n",
        "        '''Apply the forward pass for some text data already converted to tensor.'''\n",
        "        # YOUR CODE HERE\n",
        "        embedding = self.embedding(tensor_data)\n",
        "        output, hidden = self.rnn(embedding, hidden_state)\n",
        "        logits = self.dense(output)\n",
        "        return logits, hidden\n",
        "\n",
        "# Initialize a model and apply the forward pass on some input text\n",
        "# YOUR CODE HERE\n",
        "charRNN = CharRNN(len(ctoi),5,20)\n",
        "logits, _ = charRNN.forward(text_to_tensor(text_data[:1],ctoi))\n",
        "\n",
        "print(text_data[0])\n",
        "print(logits.shape)\n",
        "output = F.softmax()\n",
        "print(output)"
      ]
    },
    {
      "cell_type": "markdown",
      "id": "80eb09a2-2c5e-4dd6-922e-a7f0c6cbff85",
      "metadata": {
        "deletable": false,
        "id": "80eb09a2-2c5e-4dd6-922e-a7f0c6cbff85",
        "nbgrader": {
          "cell_type": "markdown",
          "checksum": "ae8f4a875df816da1463fc833e40cea4",
          "grade": true,
          "grade_id": "cell-093600fc493e6e4f",
          "locked": false,
          "points": 0,
          "schema_version": 3,
          "solution": true,
          "task": false
        }
      },
      "source": [
        "YOUR ANSWER HERE"
      ]
    },
    {
      "cell_type": "markdown",
      "id": "41614741-8bf2-4ead-8205-788623404a27",
      "metadata": {
        "deletable": false,
        "editable": false,
        "id": "41614741-8bf2-4ead-8205-788623404a27",
        "nbgrader": {
          "cell_type": "markdown",
          "checksum": "9bb6ca5b49b7c8b46253cf2a7f1200c5",
          "grade": false,
          "grade_id": "rnn-overfit",
          "locked": true,
          "schema_version": 3,
          "solution": false,
          "task": false
        }
      },
      "source": [
        "**(Question)** Implement a simple training loop to overfit on a small input sequence. The loss function should be a categorical cross entropy on the predicted characters. Monitor the loss function value over the iterations."
      ]
    },
    {
      "cell_type": "code",
      "execution_count": 96,
      "id": "474f97eb-685f-41c1-8249-1eb4df9e168c",
      "metadata": {
        "colab": {
          "base_uri": "https://localhost:8080/",
          "height": 442
        },
        "deletable": false,
        "id": "474f97eb-685f-41c1-8249-1eb4df9e168c",
        "nbgrader": {
          "cell_type": "code",
          "checksum": "fa15210da5aabdca4ecf3228efec88be",
          "grade": true,
          "grade_id": "cell-1904f4989149b1ef",
          "locked": false,
          "points": 3,
          "schema_version": 3,
          "solution": true,
          "task": false
        },
        "outputId": "36089518-13b4-4dc8-8cea-4f9c680adb96"
      },
      "outputs": [
        {
          "name": "stdout",
          "output_type": "stream",
          "text": [
            "torch.Size([100, 71])\n",
            "torch.Size([100, 71])\n",
            "torch.Size([100]) torch.Size([100])\n",
            "Iteration 10/200, Loss: 4.261947154998779\n",
            "Iteration 20/200, Loss: 4.261857509613037\n",
            "Iteration 30/200, Loss: 4.261765956878662\n",
            "Iteration 40/200, Loss: 4.2616729736328125\n",
            "Iteration 50/200, Loss: 4.261578559875488\n",
            "Iteration 60/200, Loss: 4.261481285095215\n",
            "Iteration 70/200, Loss: 4.261382579803467\n",
            "Iteration 80/200, Loss: 4.2612810134887695\n",
            "Iteration 90/200, Loss: 4.261176586151123\n",
            "Iteration 100/200, Loss: 4.261070728302002\n",
            "Iteration 110/200, Loss: 4.260961532592773\n",
            "Iteration 120/200, Loss: 4.260849475860596\n",
            "Iteration 130/200, Loss: 4.260733604431152\n",
            "Iteration 140/200, Loss: 4.260614395141602\n",
            "Iteration 150/200, Loss: 4.260491847991943\n",
            "Iteration 160/200, Loss: 4.260364532470703\n",
            "Iteration 170/200, Loss: 4.260232925415039\n",
            "Iteration 180/200, Loss: 4.260096549987793\n",
            "Iteration 190/200, Loss: 4.259955406188965\n",
            "Iteration 200/200, Loss: 4.259807109832764\n"
          ]
        }
      ],
      "source": [
        "# Sample a small input sequence into tensor `input_seq` and store its corresponding expected sequence into tensor `target_seq`\n",
        "# YOUR CODE HERE\n",
        "vocab_size = len(ctoi)\n",
        "embedding_dim = 8\n",
        "hidden_dim = 30\n",
        "input_seq = text_to_tensor(text_data[:100], ctoi)\n",
        "\n",
        "id = torch.eye(len(ctoi))\n",
        "one_hot_input = id[input_seq]\n",
        "print(one_hot_input.shape)\n",
        "\n",
        "target_seq = torch.cat([input_seq[1:], input_seq[:1]])\n",
        "one_hot_target = id[target_seq]\n",
        "print(one_hot_target.shape)\n",
        "criterion = nn.CrossEntropyLoss()\n",
        "\n",
        "print(input_seq.shape, target_seq.shape)\n",
        "\n",
        "# Implement a training loop overfitting an input sequence and monitoring the loss function\n",
        "def train_overfit(model, input_seq, target_seq, n_iters=200, learning_rate=0.2):\n",
        "    # YOUR CODE HERE\n",
        "    optimizer = torch.optim.SGD(model.parameters(), lr = learning_rate)\n",
        "    hidden = None\n",
        "\n",
        "    for iter in range(1, n_iters + 1):\n",
        "      logits, hidden = model.forward(input_seq)\n",
        "      output = F.softmax(logits, dim=1)\n",
        "      loss = criterion(output, target_seq)\n",
        "\n",
        "      optimizer.zero_grad()\n",
        "      loss.backward()\n",
        "      optimizer.step()\n",
        "\n",
        "      if iter % 10 == 0:\n",
        "          print(f'Iteration {iter}/{n_iters}, Loss: {loss.item()}')\n",
        "\n",
        "\n",
        "\n",
        "# Initialize a model and make it overfit the input sequence\n",
        "# YOUR CODE HERE\n",
        "\n",
        "charRNN = CharRNN(vocab_size, embedding_dim, hidden_dim)\n",
        "train_overfit(charRNN, input_seq, one_hot_target)"
      ]
    },
    {
      "cell_type": "markdown",
      "id": "68c66f34-7afb-4920-b6d2-5642d28a0770",
      "metadata": {
        "deletable": false,
        "editable": false,
        "id": "68c66f34-7afb-4920-b6d2-5642d28a0770",
        "nbgrader": {
          "cell_type": "markdown",
          "checksum": "9cd6d0a90166cea96ce250f8d8f2e083",
          "grade": false,
          "grade_id": "rnn-argmax",
          "locked": true,
          "points": 2,
          "schema_version": 3,
          "solution": false,
          "task": true
        }
      },
      "source": [
        "**(Question)** Implement a `predict_argmax` method for your `RNN` model. Then, verify your overfitting: use some characters of your input sequence as context to predict the remaining ones. Experiment with the current model and analyze the results."
      ]
    },
    {
      "cell_type": "code",
      "execution_count": 105,
      "id": "4d0350ae-a23a-4802-a2a5-012193ede15b",
      "metadata": {
        "colab": {
          "base_uri": "https://localhost:8080/",
          "height": 210
        },
        "deletable": false,
        "id": "4d0350ae-a23a-4802-a2a5-012193ede15b",
        "nbgrader": {
          "cell_type": "code",
          "checksum": "0114ed939e7dd8b656bd0f03bd576a89",
          "grade": true,
          "grade_id": "cell-2d706c010aeccb0d",
          "locked": false,
          "points": 0,
          "schema_version": 3,
          "solution": true,
          "task": false
        },
        "outputId": "615e47b2-8178-4d39-cb7b-ade0f6c71a1b"
      },
      "outputs": [
        {
          "name": "stdout",
          "output_type": "stream",
          "text": [
            "Iteration 10/200, Loss: 4.2622971534729\n",
            "Iteration 20/200, Loss: 4.262202739715576\n",
            "Iteration 30/200, Loss: 4.262106418609619\n",
            "Iteration 40/200, Loss: 4.262007713317871\n",
            "Iteration 50/200, Loss: 4.261906623840332\n",
            "Iteration 60/200, Loss: 4.261804103851318\n",
            "Iteration 70/200, Loss: 4.2616987228393555\n",
            "Iteration 80/200, Loss: 4.261590480804443\n",
            "Iteration 90/200, Loss: 4.261480331420898\n",
            "Iteration 100/200, Loss: 4.261367321014404\n",
            "Iteration 110/200, Loss: 4.261251926422119\n",
            "Iteration 120/200, Loss: 4.261132717132568\n",
            "Iteration 130/200, Loss: 4.261010646820068\n",
            "Iteration 140/200, Loss: 4.260885715484619\n",
            "Iteration 150/200, Loss: 4.260756492614746\n",
            "Iteration 160/200, Loss: 4.260623931884766\n",
            "Iteration 170/200, Loss: 4.2604875564575195\n",
            "Iteration 180/200, Loss: 4.26034688949585\n",
            "Iteration 190/200, Loss: 4.260201454162598\n",
            "Iteration 200/200, Loss: 4.260051250457764\n"
          ]
        },
        {
          "ename": "ValueError",
          "evalue": "RNN: Expected input to be 2D or 3D, got 1D tensor instead",
          "output_type": "error",
          "traceback": [
            "\u001b[0;31m---------------------------------------------------------------------------\u001b[0m",
            "\u001b[0;31mValueError\u001b[0m                                Traceback (most recent call last)",
            "\u001b[1;32m/home/aabibi/IS319/tp3/dl_tp3.ipynb Cell 21\u001b[0m line \u001b[0;36m3\n\u001b[1;32m     <a href='vscode-notebook-cell:/home/aabibi/IS319/tp3/dl_tp3.ipynb#X26sZmlsZQ%3D%3D?line=26'>27</a>\u001b[0m charRNN \u001b[39m=\u001b[39m CharRNN(vocab_size, embedding_dim, hidden_dim)\n\u001b[1;32m     <a href='vscode-notebook-cell:/home/aabibi/IS319/tp3/dl_tp3.ipynb#X26sZmlsZQ%3D%3D?line=27'>28</a>\u001b[0m train_overfit(charRNN, input_seq, one_hot_target)\n\u001b[0;32m---> <a href='vscode-notebook-cell:/home/aabibi/IS319/tp3/dl_tp3.ipynb#X26sZmlsZQ%3D%3D?line=29'>30</a>\u001b[0m \u001b[39mprint\u001b[39m(charRNN\u001b[39m.\u001b[39;49mpredict_argmax(text_to_tensor(text_data[:\u001b[39m2\u001b[39;49m],ctoi),\u001b[39m10\u001b[39;49m))\n",
            "\u001b[1;32m/home/aabibi/IS319/tp3/dl_tp3.ipynb Cell 21\u001b[0m line \u001b[0;36m1\n\u001b[1;32m     <a href='vscode-notebook-cell:/home/aabibi/IS319/tp3/dl_tp3.ipynb#X26sZmlsZQ%3D%3D?line=10'>11</a>\u001b[0m \u001b[39m# Use the last prediction and last hidden state as inputs to the next forward pass\u001b[39;00m\n\u001b[1;32m     <a href='vscode-notebook-cell:/home/aabibi/IS319/tp3/dl_tp3.ipynb#X26sZmlsZQ%3D%3D?line=11'>12</a>\u001b[0m \u001b[39m# Do this in a loop to predict the next `n_predictions` characters\u001b[39;00m\n\u001b[1;32m     <a href='vscode-notebook-cell:/home/aabibi/IS319/tp3/dl_tp3.ipynb#X26sZmlsZQ%3D%3D?line=12'>13</a>\u001b[0m \u001b[39m# YOUR CODE HERE\u001b[39;00m\n\u001b[1;32m     <a href='vscode-notebook-cell:/home/aabibi/IS319/tp3/dl_tp3.ipynb#X26sZmlsZQ%3D%3D?line=13'>14</a>\u001b[0m \u001b[39mfor\u001b[39;00m _ \u001b[39min\u001b[39;00m \u001b[39mrange\u001b[39m(n_predictions):\n\u001b[0;32m---> <a href='vscode-notebook-cell:/home/aabibi/IS319/tp3/dl_tp3.ipynb#X26sZmlsZQ%3D%3D?line=14'>15</a>\u001b[0m     logits, hidden \u001b[39m=\u001b[39m \u001b[39mself\u001b[39;49m\u001b[39m.\u001b[39;49mforward(pred, hidden)\n\u001b[1;32m     <a href='vscode-notebook-cell:/home/aabibi/IS319/tp3/dl_tp3.ipynb#X26sZmlsZQ%3D%3D?line=15'>16</a>\u001b[0m     output \u001b[39m=\u001b[39m F\u001b[39m.\u001b[39msoftmax(logits, dim\u001b[39m=\u001b[39m\u001b[39m1\u001b[39m)\n\u001b[1;32m     <a href='vscode-notebook-cell:/home/aabibi/IS319/tp3/dl_tp3.ipynb#X26sZmlsZQ%3D%3D?line=16'>17</a>\u001b[0m     pred \u001b[39m=\u001b[39m torch\u001b[39m.\u001b[39margmax(output)\n",
            "\u001b[1;32m/home/aabibi/IS319/tp3/dl_tp3.ipynb Cell 21\u001b[0m line \u001b[0;36m1\n\u001b[1;32m     <a href='vscode-notebook-cell:/home/aabibi/IS319/tp3/dl_tp3.ipynb#X26sZmlsZQ%3D%3D?line=11'>12</a>\u001b[0m \u001b[39m# YOUR CODE HERE\u001b[39;00m\n\u001b[1;32m     <a href='vscode-notebook-cell:/home/aabibi/IS319/tp3/dl_tp3.ipynb#X26sZmlsZQ%3D%3D?line=12'>13</a>\u001b[0m embedding \u001b[39m=\u001b[39m \u001b[39mself\u001b[39m\u001b[39m.\u001b[39membedding(tensor_data)\n\u001b[0;32m---> <a href='vscode-notebook-cell:/home/aabibi/IS319/tp3/dl_tp3.ipynb#X26sZmlsZQ%3D%3D?line=13'>14</a>\u001b[0m output, hidden \u001b[39m=\u001b[39m \u001b[39mself\u001b[39;49m\u001b[39m.\u001b[39;49mrnn(embedding, hidden_state)\n\u001b[1;32m     <a href='vscode-notebook-cell:/home/aabibi/IS319/tp3/dl_tp3.ipynb#X26sZmlsZQ%3D%3D?line=14'>15</a>\u001b[0m logits \u001b[39m=\u001b[39m \u001b[39mself\u001b[39m\u001b[39m.\u001b[39mdense(output)\n\u001b[1;32m     <a href='vscode-notebook-cell:/home/aabibi/IS319/tp3/dl_tp3.ipynb#X26sZmlsZQ%3D%3D?line=15'>16</a>\u001b[0m \u001b[39mreturn\u001b[39;00m logits, hidden\n",
            "File \u001b[0;32m~/IA/lib/python3.11/site-packages/torch/nn/modules/module.py:1518\u001b[0m, in \u001b[0;36mModule._wrapped_call_impl\u001b[0;34m(self, *args, **kwargs)\u001b[0m\n\u001b[1;32m   1516\u001b[0m     \u001b[39mreturn\u001b[39;00m \u001b[39mself\u001b[39m\u001b[39m.\u001b[39m_compiled_call_impl(\u001b[39m*\u001b[39margs, \u001b[39m*\u001b[39m\u001b[39m*\u001b[39mkwargs)  \u001b[39m# type: ignore[misc]\u001b[39;00m\n\u001b[1;32m   1517\u001b[0m \u001b[39melse\u001b[39;00m:\n\u001b[0;32m-> 1518\u001b[0m     \u001b[39mreturn\u001b[39;00m \u001b[39mself\u001b[39;49m\u001b[39m.\u001b[39;49m_call_impl(\u001b[39m*\u001b[39;49margs, \u001b[39m*\u001b[39;49m\u001b[39m*\u001b[39;49mkwargs)\n",
            "File \u001b[0;32m~/IA/lib/python3.11/site-packages/torch/nn/modules/module.py:1527\u001b[0m, in \u001b[0;36mModule._call_impl\u001b[0;34m(self, *args, **kwargs)\u001b[0m\n\u001b[1;32m   1522\u001b[0m \u001b[39m# If we don't have any hooks, we want to skip the rest of the logic in\u001b[39;00m\n\u001b[1;32m   1523\u001b[0m \u001b[39m# this function, and just call forward.\u001b[39;00m\n\u001b[1;32m   1524\u001b[0m \u001b[39mif\u001b[39;00m \u001b[39mnot\u001b[39;00m (\u001b[39mself\u001b[39m\u001b[39m.\u001b[39m_backward_hooks \u001b[39mor\u001b[39;00m \u001b[39mself\u001b[39m\u001b[39m.\u001b[39m_backward_pre_hooks \u001b[39mor\u001b[39;00m \u001b[39mself\u001b[39m\u001b[39m.\u001b[39m_forward_hooks \u001b[39mor\u001b[39;00m \u001b[39mself\u001b[39m\u001b[39m.\u001b[39m_forward_pre_hooks\n\u001b[1;32m   1525\u001b[0m         \u001b[39mor\u001b[39;00m _global_backward_pre_hooks \u001b[39mor\u001b[39;00m _global_backward_hooks\n\u001b[1;32m   1526\u001b[0m         \u001b[39mor\u001b[39;00m _global_forward_hooks \u001b[39mor\u001b[39;00m _global_forward_pre_hooks):\n\u001b[0;32m-> 1527\u001b[0m     \u001b[39mreturn\u001b[39;00m forward_call(\u001b[39m*\u001b[39;49margs, \u001b[39m*\u001b[39;49m\u001b[39m*\u001b[39;49mkwargs)\n\u001b[1;32m   1529\u001b[0m \u001b[39mtry\u001b[39;00m:\n\u001b[1;32m   1530\u001b[0m     result \u001b[39m=\u001b[39m \u001b[39mNone\u001b[39;00m\n",
            "File \u001b[0;32m~/IA/lib/python3.11/site-packages/torch/nn/modules/rnn.py:522\u001b[0m, in \u001b[0;36mRNN.forward\u001b[0;34m(self, input, hx)\u001b[0m\n\u001b[1;32m    520\u001b[0m batch_sizes \u001b[39m=\u001b[39m \u001b[39mNone\u001b[39;00m\n\u001b[1;32m    521\u001b[0m \u001b[39mif\u001b[39;00m \u001b[39minput\u001b[39m\u001b[39m.\u001b[39mdim() \u001b[39mnot\u001b[39;00m \u001b[39min\u001b[39;00m (\u001b[39m2\u001b[39m, \u001b[39m3\u001b[39m):\n\u001b[0;32m--> 522\u001b[0m     \u001b[39mraise\u001b[39;00m \u001b[39mValueError\u001b[39;00m(\u001b[39mf\u001b[39m\u001b[39m\"\u001b[39m\u001b[39mRNN: Expected input to be 2D or 3D, got \u001b[39m\u001b[39m{\u001b[39;00m\u001b[39minput\u001b[39m\u001b[39m.\u001b[39mdim()\u001b[39m}\u001b[39;00m\u001b[39mD tensor instead\u001b[39m\u001b[39m\"\u001b[39m)\n\u001b[1;32m    523\u001b[0m is_batched \u001b[39m=\u001b[39m \u001b[39minput\u001b[39m\u001b[39m.\u001b[39mdim() \u001b[39m==\u001b[39m \u001b[39m3\u001b[39m\n\u001b[1;32m    524\u001b[0m batch_dim \u001b[39m=\u001b[39m \u001b[39m0\u001b[39m \u001b[39mif\u001b[39;00m \u001b[39mself\u001b[39m\u001b[39m.\u001b[39mbatch_first \u001b[39melse\u001b[39;00m \u001b[39m1\u001b[39m\n",
            "\u001b[0;31mValueError\u001b[0m: RNN: Expected input to be 2D or 3D, got 1D tensor instead"
          ]
        }
      ],
      "source": [
        "class CharRNN(CharRNN):\n",
        "    def predict_argmax(self, context_tensor, n_predictions):\n",
        "        # Apply the forward pass for the context tensor\n",
        "        # Then, store the last prediction and last hidden state\n",
        "        # YOUR CODE HERE\n",
        "        predictions = []\n",
        "        logits, hidden = self.forward(context_tensor)\n",
        "        output = F.softmax(logits, dim=1)\n",
        "        pred = torch.argmax(output)\n",
        "        predictions.append(pred)\n",
        "        # Use the last prediction and last hidden state as inputs to the next forward pass\n",
        "        # Do this in a loop to predict the next `n_predictions` characters\n",
        "        # YOUR CODE HERE\n",
        "        for _ in range(n_predictions):\n",
        "            logits, hidden = self.forward(pred, hidden)\n",
        "            output = F.softmax(logits, dim=1)\n",
        "            pred = torch.argmax(output)\n",
        "            predictions.append(pred)\n",
        "        \n",
        "        return predictions\n",
        "\n",
        "\n",
        "# Initialize a model and make it overfit as above\n",
        "# Then, verify your overfitting by predicting characters given some context\n",
        "# YOUR CODE HERE\n",
        "\n",
        "charRNN = CharRNN(vocab_size, embedding_dim, hidden_dim)\n",
        "train_overfit(charRNN, input_seq, one_hot_target)\n",
        "\n",
        "print(charRNN.predict_argmax(text_to_tensor(text_data[:2],ctoi),10))\n"
      ]
    },
    {
      "cell_type": "markdown",
      "id": "4b3e9b8b-f952-43af-a2f0-084451d85759",
      "metadata": {
        "deletable": false,
        "id": "4b3e9b8b-f952-43af-a2f0-084451d85759",
        "nbgrader": {
          "cell_type": "markdown",
          "checksum": "25bd5ff990e4cf55e89b26541d0acf34",
          "grade": true,
          "grade_id": "cell-b783299fd35282d3",
          "locked": false,
          "points": 0,
          "schema_version": 3,
          "solution": true,
          "task": false
        }
      },
      "source": [
        "YOUR ANSWER HERE"
      ]
    },
    {
      "cell_type": "markdown",
      "id": "e4f5d3e9-9a68-48b8-a549-0fc2b9f2b2ff",
      "metadata": {
        "deletable": false,
        "editable": false,
        "id": "e4f5d3e9-9a68-48b8-a549-0fc2b9f2b2ff",
        "nbgrader": {
          "cell_type": "markdown",
          "checksum": "f34d247477f051d257bc1337cfc611fa",
          "grade": false,
          "grade_id": "cell-52baebc1e4eb464c",
          "locked": true,
          "schema_version": 3,
          "solution": false,
          "task": false
        }
      },
      "source": [
        "Using the argmax function to predict the next character can yield a deterministic generator always predicting the same characters. Instead, it is common to predict the next character by sampling from the distribution of output predictions, adding some randomness into the generator."
      ]
    },
    {
      "cell_type": "markdown",
      "id": "5701d4df-dca5-4884-8ac2-c8efe4fe4641",
      "metadata": {
        "deletable": false,
        "editable": false,
        "id": "5701d4df-dca5-4884-8ac2-c8efe4fe4641",
        "nbgrader": {
          "cell_type": "markdown",
          "checksum": "9cefa534edd726def1328ea0b48ed29d",
          "grade": false,
          "grade_id": "cell-e85a5e3954f17ad2",
          "locked": true,
          "schema_version": 3,
          "solution": false,
          "task": false
        }
      },
      "source": [
        "**(Question)** Implement a `predict_proba` method for your `RNN` model. It should be very similar to `predict_argmax`, but instead of using argmax, it should randomly sample from the output predictions. To do that, you can use the `torch.distribution.Categorical` class and its `sample()` method. Verify that your method correctly added some randomness."
      ]
    },
    {
      "cell_type": "code",
      "execution_count": null,
      "id": "72da1efb-39b8-496d-9c8f-cea241c41364",
      "metadata": {
        "deletable": false,
        "id": "72da1efb-39b8-496d-9c8f-cea241c41364",
        "nbgrader": {
          "cell_type": "code",
          "checksum": "2ba3d32edc8f535eb8923fb8e71c9fe4",
          "grade": true,
          "grade_id": "rnn-sample",
          "locked": false,
          "points": 2,
          "schema_version": 3,
          "solution": true,
          "task": false
        }
      },
      "outputs": [],
      "source": [
        "class CharRNN(CharRNN):\n",
        "    def predict_proba(self, input_context, n_predictions):\n",
        "        # YOUR CODE HERE\n",
        "        raise NotImplementedError()\n",
        "\n",
        "# Verify that your predictions are not deterministic anymore\n",
        "# YOUR CODE HERE\n",
        "raise NotImplementedError()"
      ]
    },
    {
      "cell_type": "markdown",
      "id": "9912f5cc-3627-41e8-b5ef-6d30f7c4868a",
      "metadata": {
        "deletable": false,
        "editable": false,
        "id": "9912f5cc-3627-41e8-b5ef-6d30f7c4868a",
        "nbgrader": {
          "cell_type": "markdown",
          "checksum": "e56bfe8d33a343e270cfe35720aeea26",
          "grade": false,
          "grade_id": "cell-6389d46b2b8abaa0",
          "locked": true,
          "schema_version": 3,
          "solution": false,
          "task": false
        }
      },
      "source": [
        "## 3. Train the RNN model on text data"
      ]
    },
    {
      "cell_type": "markdown",
      "id": "8024df30-af42-4ca9-be0e-16614ead56cb",
      "metadata": {
        "deletable": false,
        "editable": false,
        "id": "8024df30-af42-4ca9-be0e-16614ead56cb",
        "nbgrader": {
          "cell_type": "markdown",
          "checksum": "44f87a393c4ae266b59141953d170a7e",
          "grade": false,
          "grade_id": "rnn-train",
          "locked": true,
          "points": 4,
          "schema_version": 3,
          "solution": false,
          "task": true
        }
      },
      "source": [
        "**(Question)** Adapt your previous code to implement a proper training loop for a text dataset. To do so, we need to specify a sequence length `seq_len`, acting similarly to the batch size in classic neural networks. Then, you can either randomly sample sequences of length `seq_len` from the text dataset over `n_iters` iterations, or properly loop over the text dataset for `n_epochs` epochs (with a random starting point for each epoch to ensure different sequences), to make sure the whole dataset is seen by the model. Feel free to adjust training and model parameters empirically. Start with a small model and a small subset of the text dataset, then move on to larger experiments. Remember to use GPU if available."
      ]
    },
    {
      "cell_type": "code",
      "execution_count": null,
      "id": "f65d237e-d095-45c4-ab12-6307a5bda255",
      "metadata": {
        "deletable": false,
        "id": "f65d237e-d095-45c4-ab12-6307a5bda255",
        "nbgrader": {
          "cell_type": "code",
          "checksum": "17faecb7751e77b7fe8cae66820687ea",
          "grade": true,
          "grade_id": "cell-a4695fabcf78e1a8",
          "locked": false,
          "points": 0,
          "schema_version": 3,
          "solution": true,
          "task": false
        }
      },
      "outputs": [],
      "source": [
        "# Create the text dataset, compute its mappings and convert it to tensor\n",
        "# YOUR CODE HERE\n",
        "raise NotImplementedError()\n",
        "\n",
        "# Initialize training parameters\n",
        "# YOUR CODE HERE\n",
        "raise NotImplementedError()\n",
        "\n",
        "# Initialize a character-level RNN model\n",
        "# YOUR CODE HERE\n",
        "raise NotImplementedError()\n",
        "\n",
        "# Setup the training loop\n",
        "# Regularly record the loss and sample from the model to monitor what is happening\n",
        "# YOUR CODE HERE\n",
        "raise NotImplementedError()"
      ]
    },
    {
      "cell_type": "markdown",
      "id": "7a318abd-5c3c-462d-9944-9aec1f78446c",
      "metadata": {
        "deletable": false,
        "editable": false,
        "id": "7a318abd-5c3c-462d-9944-9aec1f78446c",
        "nbgrader": {
          "cell_type": "markdown",
          "checksum": "113032562a0b82e504d636abf3164360",
          "grade": false,
          "grade_id": "rnn-predict",
          "locked": true,
          "points": 2,
          "schema_version": 3,
          "solution": false,
          "task": true
        }
      },
      "source": [
        "**(Question)** From your trained model, play around with its predictions: start with a custom input sequence and ask the model to predict the rest. Analyze and comment your results."
      ]
    },
    {
      "cell_type": "code",
      "execution_count": null,
      "id": "53d516b1-477c-4237-956a-471062dd6019",
      "metadata": {
        "deletable": false,
        "id": "53d516b1-477c-4237-956a-471062dd6019",
        "nbgrader": {
          "cell_type": "code",
          "checksum": "5bd724d3a1f3ba5d0b965b9cf7905160",
          "grade": true,
          "grade_id": "cell-08bfe03b817a9908",
          "locked": false,
          "points": 0,
          "schema_version": 3,
          "solution": true,
          "task": false
        }
      },
      "outputs": [],
      "source": [
        "# YOUR CODE HERE\n",
        "raise NotImplementedError()"
      ]
    },
    {
      "cell_type": "markdown",
      "id": "ad02a4a5-5aab-403a-9bd3-fd752dc1dc9a",
      "metadata": {
        "deletable": false,
        "id": "ad02a4a5-5aab-403a-9bd3-fd752dc1dc9a",
        "nbgrader": {
          "cell_type": "markdown",
          "checksum": "288f4746f3c7d1906ca99b35f4a6a6e3",
          "grade": true,
          "grade_id": "cell-6b41d47e15ea128a",
          "locked": false,
          "points": 0,
          "schema_version": 3,
          "solution": true,
          "task": false
        }
      },
      "source": [
        "YOUR ANSWER HERE"
      ]
    },
    {
      "cell_type": "markdown",
      "id": "7de32122-8819-4d6b-8f7a-e96f671311d6",
      "metadata": {
        "deletable": false,
        "editable": false,
        "id": "7de32122-8819-4d6b-8f7a-e96f671311d6",
        "nbgrader": {
          "cell_type": "markdown",
          "checksum": "2eddbf9984d6a4d51a7ea1301800bdf3",
          "grade": false,
          "grade_id": "cell-a69a65798f792cfc",
          "locked": true,
          "schema_version": 3,
          "solution": false,
          "task": false
        }
      },
      "source": [
        "## 4. Experiment with different RNN architectures"
      ]
    },
    {
      "cell_type": "markdown",
      "id": "d5def498-9119-45fd-8807-8260cd0a05d8",
      "metadata": {
        "deletable": false,
        "editable": false,
        "id": "d5def498-9119-45fd-8807-8260cd0a05d8",
        "nbgrader": {
          "cell_type": "markdown",
          "checksum": "977d70928beb993f5bc6323199b1e363",
          "grade": false,
          "grade_id": "rnn-experiments",
          "locked": true,
          "points": 3,
          "schema_version": 3,
          "solution": false,
          "task": true
        }
      },
      "source": [
        "**(Question)** Experiment with different RNN architecures. Potential ideas are multi-layer RNNs, GRUs and LSTMs. All models can be extended to multi-layer using the `num_layers` parameter. Analyze and comment your results."
      ]
    },
    {
      "cell_type": "code",
      "execution_count": null,
      "id": "38c6fe7d-d159-401d-9c7c-f7e9a5b86cba",
      "metadata": {
        "deletable": false,
        "id": "38c6fe7d-d159-401d-9c7c-f7e9a5b86cba",
        "nbgrader": {
          "cell_type": "code",
          "checksum": "77ebb731623feb1292e7758788ad56d4",
          "grade": true,
          "grade_id": "cell-7bbcfb8355f44b5d",
          "locked": false,
          "points": 0,
          "schema_version": 3,
          "solution": true,
          "task": false
        }
      },
      "outputs": [],
      "source": [
        "# YOUR CODE HERE\n",
        "raise NotImplementedError()"
      ]
    },
    {
      "cell_type": "markdown",
      "id": "13329eaa-6a48-47cf-912d-424a79680f91",
      "metadata": {
        "deletable": false,
        "id": "13329eaa-6a48-47cf-912d-424a79680f91",
        "nbgrader": {
          "cell_type": "markdown",
          "checksum": "5bffac2e6bdfed739aea204b3c40a792",
          "grade": true,
          "grade_id": "cell-3961b7f97f038a4b",
          "locked": false,
          "points": 0,
          "schema_version": 3,
          "solution": true,
          "task": false
        }
      },
      "source": [
        "YOUR ANSWER HERE"
      ]
    }
  ],
  "metadata": {
    "colab": {
      "provenance": []
    },
    "kernelspec": {
      "display_name": "Python 3 (ipykernel)",
      "language": "python",
      "name": "python3"
    },
    "language_info": {
      "codemirror_mode": {
        "name": "ipython",
        "version": 3
      },
      "file_extension": ".py",
      "mimetype": "text/x-python",
      "name": "python",
      "nbconvert_exporter": "python",
      "pygments_lexer": "ipython3",
      "version": "3.11.4"
    }
  },
  "nbformat": 4,
  "nbformat_minor": 5
}

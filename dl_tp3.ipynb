{
  "cells": [
    {
      "cell_type": "markdown",
      "id": "abb49b5c-7533-4bf0-bcce-37373d6fa072",
      "metadata": {
        "deletable": false,
        "editable": false,
        "id": "abb49b5c-7533-4bf0-bcce-37373d6fa072",
        "nbgrader": {
          "cell_type": "markdown",
          "checksum": "d1502bbeee981ecc3a7a4464df92be0c",
          "grade": false,
          "grade_id": "cell-a975d7bfb06f30ae",
          "locked": true,
          "schema_version": 3,
          "solution": false,
          "task": false
        }
      },
      "source": [
        "# IS319 - Deep Learning\n",
        "\n",
        "## TP3 - Recurrent neural networks\n",
        "\n",
        "Credits: Andrej Karpathy\n",
        "\n",
        "The goal of this TP is to experiment with recurrent neural networks for a character-level language model to generate text that looks like training text data."
      ]
    },
    {
      "cell_type": "code",
      "execution_count": 54,
      "id": "16d03ccd-089a-4553-bd96-7bd0c0f71949",
      "metadata": {
        "id": "16d03ccd-089a-4553-bd96-7bd0c0f71949"
      },
      "outputs": [],
      "source": [
        "import torch\n",
        "import torch.nn as nn\n",
        "import torch.nn.functional as F\n",
        "import matplotlib.pyplot as plt\n",
        "device = torch.device('cuda' if torch.cuda.is_available() else 'cpu')"
      ]
    },
    {
      "cell_type": "markdown",
      "id": "c4c736b5-43df-4aca-9ba3-dd34ed8366f4",
      "metadata": {
        "id": "c4c736b5-43df-4aca-9ba3-dd34ed8366f4"
      },
      "source": [
        "## 1. Text data preprocessing\n",
        "\n",
        "Several text datasets are provided, feel free to experiment with different ones throughout the TP. At the beginning, use a small subset of a given dataset (for example use only 10k characters)."
      ]
    },
    {
      "cell_type": "code",
      "execution_count": 55,
      "id": "LdINbAH3tFYw",
      "metadata": {
        "colab": {
          "base_uri": "https://localhost:8080/"
        },
        "id": "LdINbAH3tFYw",
        "outputId": "32b26b47-e05e-472e-94b6-9fb654cae885"
      },
      "outputs": [
        {
          "name": "stdout",
          "output_type": "stream",
          "text": [
            "tar: text-datasets.tgz: Cannot open: No such file or directory\n",
            "tar: Error is not recoverable: exiting now\n"
          ]
        }
      ],
      "source": [
        "!tar -xvf text-datasets.tgz"
      ]
    },
    {
      "cell_type": "code",
      "execution_count": 56,
      "id": "e56a81b9-b733-4d87-b8d7-2184d5e5c2de",
      "metadata": {
        "colab": {
          "base_uri": "https://localhost:8080/"
        },
        "id": "e56a81b9-b733-4d87-b8d7-2184d5e5c2de",
        "outputId": "2b992603-fe62-4cbc-d0cf-c927c8c649a7"
      },
      "outputs": [
        {
          "name": "stdout",
          "output_type": "stream",
          "text": [
            "Dataset `baudelaire.txt` contains 10000 characters.\n",
            "Excerpt of the dataset:\n",
            "LES FLEURS DU MAL\n",
            "\n",
            "par\n",
            "\n",
            "CHARLES BAUDELAIRE\n",
            "\n",
            "\n",
            "AU LECTEUR\n",
            "\n",
            "\n",
            "La sottise, l'erreur, le péché, la lésine,\n",
            "Occupent nos esprits et travaillent nos corps,\n",
            "Et nous alimentons nos aimables remords,\n",
            "Comme les mendiants nourrissent leur vermine.\n",
            "\n",
            "Nos péchés sont têtus, nos repentirs sont lâches,\n",
            "Nous nous faisons payer grassement nos aveux,\n",
            "Et nous rentrons gaîment dans le chemin bourbeux,\n",
            "Croyant par de vils pleurs laver toutes nos taches.\n",
            "\n",
            "Sur l'oreiller du mal c'est Satan Trismégiste\n",
            "Qui berce longuement notre esprit enchanté,\n",
            "Et le riche métal de notre volonté\n",
            "Est tout vaporisé par ce savant chimiste.\n",
            "\n",
            "C'est le Diable qui tient les fils qui nous remuent!\n",
            "Aux objets répugnants nous trouvons des appas;\n",
            "Chaque jour vers l'Enfer nous descendons d'un pas,\n",
            "Sans horreur, à travers des ténèbres qui puent.\n",
            "\n",
            "Ainsi qu'un débauché pauvre qui baise et mange\n",
            "Le sein martyrisé d'une antique catin,\n",
            "Nous volons au passage un plaisir clandestin\n",
            "Que nous pressons bien fort comme une vieille orange.\n",
            "\n",
            "Serré, fourmillant, comme un million d'helminthes,\n",
            "Dans nos cerveaux ribote un peuple de Démons,\n",
            "Et, quand nous respirons, la Mort dans nos poumons\n",
            "Descend, fleuve invisible, avec de sourdes plaintes.\n",
            "\n",
            "Si le viol, le poison, le poignard, l'incendie,\n",
            "N'ont pas encore brodé de leurs plaisants desseins\n",
            "Le canevas banal de nos piteux destins,\n",
            "C'est que notre âme, hélas! n'est pas assez hardie.\n",
            "\n",
            "Mais parmi les chacals, les panthères, les lices,\n",
            "Les singes, les scorpions, les vautours, les serpents,\n",
            "Les monstres glapissants, hurlants, grognants, rampants\n",
            "Dans la ménagerie infâme de nos vices,\n",
            "\n",
            "Il en est un plus laid, plus méchant, plus immonde!\n",
            "Quoiqu'il ne pousse ni grands gestes ni grands cris,\n",
            "Il ferait volontiers de la terre un débris\n",
            "Et dans un bâillement avalerait le monde;\n",
            "\n",
            "C'est l'Ennui!--L'oeil chargé d'un pleur involontaire,\n",
            "Il rêve d'échafauds en fumant son houka.\n",
            "Tu le connais, lecteur, ce monstre délicat,\n",
            "--Hypocrite lecteur,--mon semblable,--mon frère!\n",
            "\n",
            "\n",
            "\n",
            "\n",
            "SPLEEN ET IDÉAL\n",
            "\n",
            "BENEDICTION\n",
            "\n",
            "\n",
            "L\n"
          ]
        }
      ],
      "source": [
        "text_data_fname = 'baudelaire.txt'  # ~0.1m characters (French)\n",
        "# text_data_fname = 'proust.txt'      # ~7.3m characters (French)\n",
        "# text_data_fname = 'shakespeare.txt' # ~0.1m characters (English)\n",
        "# text_data_fname = 'lotr.txt'        # ~2.5m characters (English)\n",
        "# text_data_fname = 'doom.c'          # ~1m characters (C Code)\n",
        "# text_data_fname = 'linux.c'         # ~11.5m characters (C code)\n",
        "\n",
        "text_data = open(text_data_fname, 'r').read()\n",
        "text_data = text_data[:10000] # use a small subset\n",
        "print(f'Dataset `{text_data_fname}` contains {len(text_data)} characters.')\n",
        "print('Excerpt of the dataset:')\n",
        "print(text_data[:2000])"
      ]
    },
    {
      "cell_type": "markdown",
      "id": "d9b9a404-8b09-4ab1-9529-98ff57650ef5",
      "metadata": {
        "deletable": false,
        "editable": false,
        "id": "d9b9a404-8b09-4ab1-9529-98ff57650ef5",
        "nbgrader": {
          "cell_type": "markdown",
          "checksum": "d6b030743489f86ece30d79835434297",
          "grade": false,
          "grade_id": "cell-9695c6f2cf95337c",
          "locked": true,
          "schema_version": 3,
          "solution": false,
          "task": false
        }
      },
      "source": [
        "**(Question)** Create a character-level vocabulary for your text data. Create two dictionaries: `ctoi` mapping each character to an index, and the reverse `itoc` mapping each index to its corresponding character. Implement the functions to convert text to tensor and tensor to text using these mappings. Apply these functions to some text data."
      ]
    },
    {
      "cell_type": "code",
      "execution_count": 57,
      "id": "885ecc8a-c654-463b-9353-f7a18a607199",
      "metadata": {
        "colab": {
          "base_uri": "https://localhost:8080/"
        },
        "deletable": false,
        "id": "885ecc8a-c654-463b-9353-f7a18a607199",
        "nbgrader": {
          "cell_type": "code",
          "checksum": "e3eb46710b4006993f4eb9c557a2376f",
          "grade": true,
          "grade_id": "vocabulary",
          "locked": false,
          "points": 1,
          "schema_version": 3,
          "solution": true,
          "task": false
        },
        "outputId": "2d836c27-9154-454d-b3b0-74ee9efeb0bb"
      },
      "outputs": [
        {
          "name": "stdout",
          "output_type": "stream",
          "text": [
            "{'e': 0, 'c': 1, 'O': 2, \"'\": 3, 'F': 4, 'à': 5, 'I': 6, 'q': 7, 's': 8, 'm': 9, 'z': 10, 'g': 11, 'i': 12, 'M': 13, 'l': 14, 'f': 15, 'd': 16, 'î': 17, 'B': 18, ';': 19, 'è': 20, 'a': 21, 'É': 22, 'v': 23, 'N': 24, 'T': 25, '_': 26, 'ê': 27, 'u': 28, 'G': 29, 'A': 30, 'E': 31, '\\n': 32, 'D': 33, 'o': 34, ',': 35, 'â': 36, 'k': 37, '?': 38, 'b': 39, '!': 40, 'V': 41, 'S': 42, 'U': 43, 'Q': 44, '.': 45, 'h': 46, 'ç': 47, 'j': 48, 'p': 49, 'P': 50, 'L': 51, 'ù': 52, 'û': 53, 'C': 54, 'y': 55, 'ô': 56, 'J': 57, 'H': 58, 'W': 59, '-': 60, '»': 61, '«': 62, 'x': 63, 'R': 64, ':': 65, 'é': 66, 'n': 67, 't': 68, ' ': 69, 'r': 70}\n",
            "{0: 'e', 1: 'c', 2: 'O', 3: \"'\", 4: 'F', 5: 'à', 6: 'I', 7: 'q', 8: 's', 9: 'm', 10: 'z', 11: 'g', 12: 'i', 13: 'M', 14: 'l', 15: 'f', 16: 'd', 17: 'î', 18: 'B', 19: ';', 20: 'è', 21: 'a', 22: 'É', 23: 'v', 24: 'N', 25: 'T', 26: '_', 27: 'ê', 28: 'u', 29: 'G', 30: 'A', 31: 'E', 32: '\\n', 33: 'D', 34: 'o', 35: ',', 36: 'â', 37: 'k', 38: '?', 39: 'b', 40: '!', 41: 'V', 42: 'S', 43: 'U', 44: 'Q', 45: '.', 46: 'h', 47: 'ç', 48: 'j', 49: 'p', 50: 'P', 51: 'L', 52: 'ù', 53: 'û', 54: 'C', 55: 'y', 56: 'ô', 57: 'J', 58: 'H', 59: 'W', 60: '-', 61: '»', 62: '«', 63: 'x', 64: 'R', 65: ':', 66: 'é', 67: 'n', 68: 't', 69: ' ', 70: 'r'}\n",
            "71\n",
            "tensor([51, 31, 42, 69,  4, 51, 31, 43, 64, 42])\n",
            "LES FLEURS\n"
          ]
        }
      ],
      "source": [
        "# Create the vocabulary and the two mapping dictionaries\n",
        "# YOUR CODE HERE\n",
        "import numpy as np\n",
        "\n",
        "idx = 0\n",
        "ctoi = {}\n",
        "itoc = {}\n",
        "\n",
        "voc = set(text_data)\n",
        "\n",
        "for elt in voc:\n",
        "    ctoi[elt] = idx\n",
        "    itoc[idx] = elt\n",
        "    idx += 1\n",
        "\n",
        "print(ctoi)\n",
        "print(itoc)\n",
        "print(len(ctoi))\n",
        "ctoi[\"$\"] = len(ctoi)\n",
        "itoc[len(itoc)] = \"$\"\n",
        "# Implement the function converting text to tensor\n",
        "def text_to_tensor(text, ctoi):\n",
        "    # YOUR CODE HERE\n",
        "    return torch.LongTensor(np.array([ctoi[c] for c in text]))\n",
        "    #tensor = torch.zeros(len(text), 1, len(ctoi))\n",
        "    #for i, letter in enumerate(text):\n",
        "    #  tensor[i][0][ctoi[letter]] = 1\n",
        "    #return tensor\n",
        "\n",
        "\n",
        "# Implement the function converting tensor to text\n",
        "def tensor_to_text(tensor, itoc):\n",
        "    # YOUR CODE HERE\n",
        "    return ''.join([itoc[elt.item()] for elt in tensor])#torch.argmax(tensor, dim=2)])\n",
        "\n",
        "# Apply your functions to some text data\n",
        "# YOUR CODE HERE\n",
        "#raise NotImplementedError()\n",
        "a = text_to_tensor(text_data[:10], ctoi)\n",
        "\n",
        "print(a)\n",
        "print(tensor_to_text(a, itoc))\n",
        "\n"
      ]
    },
    {
      "cell_type": "markdown",
      "id": "b8da1b7f-549d-45d9-8fea-309ee0e76a90",
      "metadata": {
        "deletable": false,
        "editable": false,
        "id": "b8da1b7f-549d-45d9-8fea-309ee0e76a90",
        "nbgrader": {
          "cell_type": "markdown",
          "checksum": "fbfd5a4df6e6081581ad38d7180fddfb",
          "grade": false,
          "grade_id": "cell-172b8befc4633227",
          "locked": true,
          "schema_version": 3,
          "solution": false,
          "task": false
        }
      },
      "source": [
        "## 2. Setup a character-level recurrent neural network"
      ]
    },
    {
      "cell_type": "markdown",
      "id": "3d33cfac-93f7-4980-8510-fcf675d3a06b",
      "metadata": {
        "deletable": false,
        "editable": false,
        "id": "3d33cfac-93f7-4980-8510-fcf675d3a06b",
        "nbgrader": {
          "cell_type": "markdown",
          "checksum": "6cb30929efdd10eb6066750f4b94bf14",
          "grade": false,
          "grade_id": "embedding",
          "locked": true,
          "points": 2,
          "schema_version": 3,
          "solution": false,
          "task": true
        }
      },
      "source": [
        "**(Question)** Setup a simple embedding layer with `nn.Embedding` to project character indices to `embedding_dim` dimensional vectors. Explain precisely how this layer works and what are its outputs for a given input sequence."
      ]
    },
    {
      "cell_type": "code",
      "execution_count": 58,
      "id": "609747a0-6634-4232-92cb-72946ef516b0",
      "metadata": {
        "colab": {
          "base_uri": "https://localhost:8080/",
          "height": 373
        },
        "deletable": false,
        "id": "609747a0-6634-4232-92cb-72946ef516b0",
        "nbgrader": {
          "cell_type": "code",
          "checksum": "a9dd84493589d73c13fac37411610a2e",
          "grade": true,
          "grade_id": "cell-a3b5adeb8111779b",
          "locked": false,
          "points": 0,
          "schema_version": 3,
          "solution": true,
          "task": false
        },
        "outputId": "ce1b75e1-b68f-4656-e3eb-7e516e65f093"
      },
      "outputs": [
        {
          "data": {
            "text/plain": [
              "tensor([[ 0.3860,  0.1862,  0.0707,  0.0040, -0.3789, -0.7938, -0.6429,  0.4111,\n",
              "          0.3506,  0.2699, -1.9981,  0.4843,  0.7209,  0.0319,  0.1646, -0.3573,\n",
              "          1.4867, -0.9488,  0.0887,  0.3134,  0.8540, -0.0650, -1.0025,  0.6038,\n",
              "          0.6396, -0.2486, -0.5385, -1.1400, -1.0879,  0.0148, -0.8484, -1.8171,\n",
              "          1.3409,  1.6867,  0.3975,  2.1242, -0.0626,  0.9216, -1.8180, -1.0942,\n",
              "         -0.4673,  1.7314,  1.3986, -1.1375, -0.2095,  0.7399, -1.6571, -0.6826,\n",
              "         -1.4411, -0.5281],\n",
              "        [ 0.1699,  3.5393,  1.3957, -1.3589,  0.3102, -0.7718, -2.0302,  0.5013,\n",
              "          0.5569,  1.7336, -0.8657, -0.8459,  1.3793, -0.6010, -0.4635,  0.6749,\n",
              "         -0.9830, -0.0485,  0.8404, -0.6501,  0.3915,  1.5865, -1.2196,  0.2043,\n",
              "          0.2346, -0.4659, -0.2888, -0.3179, -0.8887,  0.7649, -1.4995, -0.5024,\n",
              "         -0.2206, -0.6439, -1.3168, -1.0166,  1.4951,  0.4900, -0.4946,  0.8736,\n",
              "         -0.3390, -0.0584,  0.5506,  0.3547,  0.8620, -0.4055, -1.8146,  1.8021,\n",
              "         -0.2851,  0.9258],\n",
              "        [-0.6100,  0.2367, -1.0753,  0.9955,  0.7853, -0.1759,  0.7068, -0.1123,\n",
              "          0.5062,  1.1068,  0.3674,  0.5683,  0.0189,  0.4271, -0.3164,  0.8391,\n",
              "          2.4808, -0.6232,  0.8362,  0.1990,  0.0979,  0.0071, -0.8670, -0.9020,\n",
              "          0.2077, -0.6100,  0.9585, -2.6379,  1.0915, -0.4516, -1.4097,  1.0192,\n",
              "          0.2789,  0.0452,  0.3783, -0.1614,  0.9089, -0.6235, -0.2734,  0.4000,\n",
              "          0.9526,  0.5691,  1.2475,  0.2671, -0.5404,  1.9845,  0.6555, -0.3060,\n",
              "         -0.4649,  0.7411],\n",
              "        [-0.0754,  0.3532,  0.3424,  1.7235, -0.9072,  1.2765, -1.6128,  0.0542,\n",
              "         -0.2764,  0.8584, -0.4889, -1.1253, -0.2140,  0.2669, -0.4136, -1.4304,\n",
              "          1.3945, -3.2843, -1.4187,  0.7629, -0.4411, -0.2707, -2.5406, -1.6259,\n",
              "         -1.6326,  0.2411, -0.2939,  1.3475, -0.2461,  0.2459,  0.2323, -1.9319,\n",
              "         -1.0106, -0.6830, -0.4878, -0.4077,  0.2955, -0.5058,  1.0051, -0.4540,\n",
              "          0.0179,  0.1171, -1.0515, -0.0512,  0.4186, -1.2027, -0.3150,  0.3183,\n",
              "         -1.6283,  0.8101],\n",
              "        [ 0.8036, -0.2868,  0.6661,  1.2488,  1.0208, -0.7676,  1.3631, -0.7509,\n",
              "          0.0199, -0.3444,  0.5280,  0.5976, -0.7781,  1.7687,  0.0336, -0.8578,\n",
              "          0.4423,  0.1187,  1.4432,  1.5721,  0.5550, -0.0532,  0.0415,  1.6892,\n",
              "         -0.6482, -0.4605, -2.1200, -1.0121,  1.4416, -0.3123,  0.8620,  0.7882,\n",
              "         -1.2364, -0.5418,  0.2607,  0.0437,  0.1374, -0.5783,  0.3499, -0.8521,\n",
              "         -0.3917, -0.8073,  0.0958,  0.5589,  0.8232, -0.3205,  0.2711, -1.5691,\n",
              "         -0.4591,  0.3802],\n",
              "        [ 0.3860,  0.1862,  0.0707,  0.0040, -0.3789, -0.7938, -0.6429,  0.4111,\n",
              "          0.3506,  0.2699, -1.9981,  0.4843,  0.7209,  0.0319,  0.1646, -0.3573,\n",
              "          1.4867, -0.9488,  0.0887,  0.3134,  0.8540, -0.0650, -1.0025,  0.6038,\n",
              "          0.6396, -0.2486, -0.5385, -1.1400, -1.0879,  0.0148, -0.8484, -1.8171,\n",
              "          1.3409,  1.6867,  0.3975,  2.1242, -0.0626,  0.9216, -1.8180, -1.0942,\n",
              "         -0.4673,  1.7314,  1.3986, -1.1375, -0.2095,  0.7399, -1.6571, -0.6826,\n",
              "         -1.4411, -0.5281],\n",
              "        [ 0.1699,  3.5393,  1.3957, -1.3589,  0.3102, -0.7718, -2.0302,  0.5013,\n",
              "          0.5569,  1.7336, -0.8657, -0.8459,  1.3793, -0.6010, -0.4635,  0.6749,\n",
              "         -0.9830, -0.0485,  0.8404, -0.6501,  0.3915,  1.5865, -1.2196,  0.2043,\n",
              "          0.2346, -0.4659, -0.2888, -0.3179, -0.8887,  0.7649, -1.4995, -0.5024,\n",
              "         -0.2206, -0.6439, -1.3168, -1.0166,  1.4951,  0.4900, -0.4946,  0.8736,\n",
              "         -0.3390, -0.0584,  0.5506,  0.3547,  0.8620, -0.4055, -1.8146,  1.8021,\n",
              "         -0.2851,  0.9258],\n",
              "        [ 0.2632, -1.1084,  0.5291,  0.0333, -1.8010, -0.5332, -0.4001,  0.0714,\n",
              "         -1.0401,  0.6290,  0.4212,  0.0365, -0.9271,  0.5466,  0.4360, -0.5346,\n",
              "         -0.9520,  1.1846, -2.5654, -0.3553, -0.5334, -0.4989,  0.2567,  0.6572,\n",
              "         -1.9201, -0.4890,  1.1708,  0.8945, -2.0225,  1.5983, -1.0766,  0.1329,\n",
              "          0.5143, -1.8067,  0.2532, -0.2445,  1.5745,  1.0867, -1.5833, -0.1306,\n",
              "          0.2466,  0.0225, -1.0345, -0.3635,  1.1463, -0.1716,  1.7473, -0.0337,\n",
              "          1.4567, -0.4770],\n",
              "        [-1.0626, -0.0575, -0.0235,  0.5075, -1.5020,  1.0033, -0.4836,  0.9347,\n",
              "         -0.4801,  0.0234, -1.1920,  0.3462, -0.9563, -0.9413, -1.5533, -0.5915,\n",
              "         -0.1808, -1.0318,  0.7494,  0.8280, -0.4348, -0.0525,  0.4025,  1.5724,\n",
              "         -0.9715,  0.1543,  0.5499, -0.6953,  1.1934,  0.0298, -0.5051, -0.6025,\n",
              "         -0.9614,  0.6354,  1.5202,  1.8047, -1.0271, -0.5384, -0.1659, -1.5755,\n",
              "         -0.5072,  1.1373,  0.7048,  2.0421,  0.0447,  0.2653,  0.1851,  1.1871,\n",
              "          1.0658,  1.0728],\n",
              "        [-0.6100,  0.2367, -1.0753,  0.9955,  0.7853, -0.1759,  0.7068, -0.1123,\n",
              "          0.5062,  1.1068,  0.3674,  0.5683,  0.0189,  0.4271, -0.3164,  0.8391,\n",
              "          2.4808, -0.6232,  0.8362,  0.1990,  0.0979,  0.0071, -0.8670, -0.9020,\n",
              "          0.2077, -0.6100,  0.9585, -2.6379,  1.0915, -0.4516, -1.4097,  1.0192,\n",
              "          0.2789,  0.0452,  0.3783, -0.1614,  0.9089, -0.6235, -0.2734,  0.4000,\n",
              "          0.9526,  0.5691,  1.2475,  0.2671, -0.5404,  1.9845,  0.6555, -0.3060,\n",
              "         -0.4649,  0.7411]], grad_fn=<EmbeddingBackward0>)"
            ]
          },
          "execution_count": 58,
          "metadata": {},
          "output_type": "execute_result"
        }
      ],
      "source": [
        "# YOUR CODE HERE\n",
        "embedding = nn.Embedding(len(ctoi),50)\n",
        "\n",
        "embedding(text_to_tensor(text_data[:10], ctoi))"
      ]
    },
    {
      "cell_type": "markdown",
      "id": "26f7a5e3-f137-49ef-a135-a855029b724b",
      "metadata": {
        "deletable": false,
        "id": "26f7a5e3-f137-49ef-a135-a855029b724b",
        "nbgrader": {
          "cell_type": "markdown",
          "checksum": "ba287efa3849a2ddcb98b94b287fd199",
          "grade": true,
          "grade_id": "cell-4065672821a5801f",
          "locked": false,
          "points": 0,
          "schema_version": 3,
          "solution": true,
          "task": false
        }
      },
      "source": []
    },
    {
      "cell_type": "markdown",
      "id": "7ebc7b1c-6469-4c63-9965-7a7f39734302",
      "metadata": {
        "deletable": false,
        "editable": false,
        "id": "7ebc7b1c-6469-4c63-9965-7a7f39734302",
        "nbgrader": {
          "cell_type": "markdown",
          "checksum": "6897eae892e4aa50cceac9bca0a83f82",
          "grade": false,
          "grade_id": "base-rnn",
          "locked": true,
          "points": 2,
          "schema_version": 3,
          "solution": false,
          "task": true
        }
      },
      "source": [
        "**(Question)** Setup a single-layer RNN with `nn.RNN` (without defining a custom class). Use `hidden_dim` size for hidden states. Explain precisely the outputs of this layer for a given input sequence."
      ]
    },
    {
      "cell_type": "code",
      "execution_count": 59,
      "id": "162dd7af-cf96-4279-b512-1507433c7826",
      "metadata": {
        "deletable": false,
        "id": "162dd7af-cf96-4279-b512-1507433c7826",
        "nbgrader": {
          "cell_type": "code",
          "checksum": "095b1c904c7c5fa3d5371de208f7300a",
          "grade": true,
          "grade_id": "cell-c0b3cdd14603b6d1",
          "locked": false,
          "points": 0,
          "schema_version": 3,
          "solution": true,
          "task": false
        }
      },
      "outputs": [],
      "source": [
        "# YOUR CODE HERE\n",
        "rnn = nn.RNN(input_size=5, hidden_size=20)"
      ]
    },
    {
      "cell_type": "markdown",
      "id": "56780e84-8767-4941-ba0a-2047b106fc35",
      "metadata": {
        "deletable": false,
        "id": "56780e84-8767-4941-ba0a-2047b106fc35",
        "nbgrader": {
          "cell_type": "markdown",
          "checksum": "2f3230528c7fabd5b26931934ac4e8b0",
          "grade": true,
          "grade_id": "cell-9c6c3e3359e2c37e",
          "locked": false,
          "points": 0,
          "schema_version": 3,
          "solution": true,
          "task": false
        }
      },
      "source": [
        "YOUR ANSWER HERE"
      ]
    },
    {
      "cell_type": "markdown",
      "id": "76df8c7a-2a3d-43a0-9666-a797d1a3dbca",
      "metadata": {
        "deletable": false,
        "editable": false,
        "id": "76df8c7a-2a3d-43a0-9666-a797d1a3dbca",
        "nbgrader": {
          "cell_type": "markdown",
          "checksum": "3993b8b02d0be0e16de189c4850bbfce",
          "grade": false,
          "grade_id": "rnn-model",
          "locked": true,
          "points": 2,
          "schema_version": 3,
          "solution": false,
          "task": true
        }
      },
      "source": [
        "**(Question)** Create a simple RNN model with a custom `nn.Module` class. It should contain: an embedding layer, a single-layer RNN, and a dense output layer. For each character of the input sequence, the model should predict the probability of the next character. The forward method should return the probabilities for next characters and the corresponding hidden states.\n",
        "After completing the class, create a model and apply the forward pass on some input text. Understand and explain the results.\n",
        "\n",
        "*Note:* depending on how you implement the loss function later, it can be convenient to return logits instead of probabilities, i.e. raw values of the output layer before any activation function."
      ]
    },
    {
      "cell_type": "code",
      "execution_count": 60,
      "id": "6cc835a8-a05f-4f78-b50e-4edbdb04305f",
      "metadata": {
        "deletable": false,
        "id": "6cc835a8-a05f-4f78-b50e-4edbdb04305f",
        "nbgrader": {
          "cell_type": "code",
          "checksum": "b587c6f505f5d3719869ae8a57fcb5c6",
          "grade": true,
          "grade_id": "cell-e55d41dd89bcf74f",
          "locked": false,
          "points": 0,
          "schema_version": 3,
          "solution": true,
          "task": false
        }
      },
      "outputs": [
        {
          "name": "stdout",
          "output_type": "stream",
          "text": [
            "L\n",
            "torch.Size([1, 72])\n",
            "tensor([[0.0122, 0.0255, 0.0097, 0.0180, 0.0111, 0.0090, 0.0151, 0.0120, 0.0173,\n",
            "         0.0092, 0.0082, 0.0167, 0.0125, 0.0246, 0.0148, 0.0124, 0.0146, 0.0146,\n",
            "         0.0200, 0.0115, 0.0168, 0.0157, 0.0097, 0.0118, 0.0130, 0.0169, 0.0169,\n",
            "         0.0114, 0.0109, 0.0105, 0.0132, 0.0115, 0.0120, 0.0129, 0.0152, 0.0122,\n",
            "         0.0160, 0.0154, 0.0086, 0.0220, 0.0173, 0.0161, 0.0194, 0.0144, 0.0168,\n",
            "         0.0126, 0.0117, 0.0108, 0.0092, 0.0085, 0.0160, 0.0108, 0.0161, 0.0205,\n",
            "         0.0141, 0.0169, 0.0147, 0.0118, 0.0152, 0.0147, 0.0134, 0.0115, 0.0132,\n",
            "         0.0113, 0.0175, 0.0143, 0.0111, 0.0116, 0.0103, 0.0114, 0.0091, 0.0161]],\n",
            "       grad_fn=<SoftmaxBackward0>)\n"
          ]
        },
        {
          "name": "stderr",
          "output_type": "stream",
          "text": [
            "/tmp/ipykernel_8317/3729455488.py:25: UserWarning: Implicit dimension choice for softmax has been deprecated. Change the call to include dim=X as an argument.\n",
            "  output = F.softmax(logits)\n"
          ]
        }
      ],
      "source": [
        "class CharRNN(nn.Module):\n",
        "    def __init__(self, vocab_size, embedding_dim, hidden_dim, num_layers=1):\n",
        "        '''Initialize model parameters and layers.'''\n",
        "        super().__init__()\n",
        "        # YOUR CODE HERE\n",
        "        self.embedding = nn.Embedding(vocab_size,embedding_dim)\n",
        "        self.rnn = nn.RNN(input_size=embedding_dim, hidden_size=hidden_dim, num_layers=num_layers)\n",
        "        self.dense = nn.Linear(hidden_dim, vocab_size)\n",
        "\n",
        "    def forward(self, tensor_data, hidden_state=None):\n",
        "        '''Apply the forward pass for some text data already converted to tensor.'''\n",
        "        # YOUR CODE HERE\n",
        "        embedding = self.embedding(tensor_data)\n",
        "        output, hidden = self.rnn(embedding, hidden_state)\n",
        "        logits = self.dense(output)\n",
        "        return logits, hidden\n",
        "\n",
        "# Initialize a model and apply the forward pass on some input text\n",
        "# YOUR CODE HERE\n",
        "charRNN = CharRNN(len(ctoi),50,100)\n",
        "logits, _ = charRNN.forward(text_to_tensor(text_data[:1],ctoi))\n",
        "\n",
        "print(text_data[0])\n",
        "print(logits.shape)\n",
        "output = F.softmax(logits)\n",
        "print(output)"
      ]
    },
    {
      "cell_type": "markdown",
      "id": "80eb09a2-2c5e-4dd6-922e-a7f0c6cbff85",
      "metadata": {
        "deletable": false,
        "id": "80eb09a2-2c5e-4dd6-922e-a7f0c6cbff85",
        "nbgrader": {
          "cell_type": "markdown",
          "checksum": "ae8f4a875df816da1463fc833e40cea4",
          "grade": true,
          "grade_id": "cell-093600fc493e6e4f",
          "locked": false,
          "points": 0,
          "schema_version": 3,
          "solution": true,
          "task": false
        }
      },
      "source": [
        "YOUR ANSWER HERE"
      ]
    },
    {
      "cell_type": "markdown",
      "id": "41614741-8bf2-4ead-8205-788623404a27",
      "metadata": {
        "deletable": false,
        "editable": false,
        "id": "41614741-8bf2-4ead-8205-788623404a27",
        "nbgrader": {
          "cell_type": "markdown",
          "checksum": "9bb6ca5b49b7c8b46253cf2a7f1200c5",
          "grade": false,
          "grade_id": "rnn-overfit",
          "locked": true,
          "schema_version": 3,
          "solution": false,
          "task": false
        }
      },
      "source": [
        "**(Question)** Implement a simple training loop to overfit on a small input sequence. The loss function should be a categorical cross entropy on the predicted characters. Monitor the loss function value over the iterations."
      ]
    },
    {
      "cell_type": "code",
      "execution_count": 99,
      "id": "474f97eb-685f-41c1-8249-1eb4df9e168c",
      "metadata": {
        "colab": {
          "base_uri": "https://localhost:8080/",
          "height": 442
        },
        "deletable": false,
        "id": "474f97eb-685f-41c1-8249-1eb4df9e168c",
        "nbgrader": {
          "cell_type": "code",
          "checksum": "fa15210da5aabdca4ecf3228efec88be",
          "grade": true,
          "grade_id": "cell-1904f4989149b1ef",
          "locked": false,
          "points": 3,
          "schema_version": 3,
          "solution": true,
          "task": false
        },
        "outputId": "36089518-13b4-4dc8-8cea-4f9c680adb96"
      },
      "outputs": [
        {
          "name": "stdout",
          "output_type": "stream",
          "text": [
            "tensor([51, 31, 42, 69,  4, 51, 31, 43]) tensor([42])\n",
            "tensor([31, 42, 69,  4, 51, 31, 43, 42])\n",
            "torch.Size([8, 72])\n",
            "torch.Size([8]) torch.Size([8])\n",
            "Iteration 10/200, Loss: 2.6660232543945312\n",
            "Iteration 20/200, Loss: 0.38535934686660767\n",
            "Iteration 30/200, Loss: 0.07076366245746613\n",
            "Iteration 40/200, Loss: 0.022225189954042435\n",
            "Iteration 50/200, Loss: 0.012122681364417076\n",
            "Iteration 60/200, Loss: 0.008934041485190392\n",
            "Iteration 70/200, Loss: 0.00790470652282238\n",
            "Iteration 80/200, Loss: 0.007511892355978489\n",
            "Iteration 90/200, Loss: 0.0074180718511343\n",
            "Iteration 100/200, Loss: 0.007461337372660637\n",
            "Iteration 110/200, Loss: 0.007568446919322014\n",
            "Iteration 120/200, Loss: 0.007710354868322611\n",
            "Iteration 130/200, Loss: 0.007873008958995342\n",
            "Iteration 140/200, Loss: 0.008047943003475666\n",
            "Iteration 150/200, Loss: 0.008229600265622139\n",
            "Iteration 160/200, Loss: 0.00841391272842884\n",
            "Iteration 170/200, Loss: 0.008597610518336296\n",
            "Iteration 180/200, Loss: 0.008777903392910957\n",
            "Iteration 190/200, Loss: 0.008952690288424492\n",
            "Iteration 200/200, Loss: 0.009119936265051365\n"
          ]
        }
      ],
      "source": [
        "# Sample a small input sequence into tensor `input_seq` and store its corresponding expected sequence into tensor `target_seq`\n",
        "# YOUR CODE HERE\n",
        "vocab_size = len(ctoi)\n",
        "embedding_dim = 20\n",
        "hidden_dim = 100\n",
        "input_seq = text_to_tensor(text_data[:10], ctoi)\n",
        "input_seq, last_seq = input_seq[:-2], input_seq[-1:]\n",
        "print(input_seq, last_seq)\n",
        "#id = torch.eye(len(ctoi))\n",
        "#one_hot_input = id[input_seq]\n",
        "#print(one_hot_input.shape)\n",
        "\n",
        "target_seq = torch.cat([input_seq[1:], last_seq])\n",
        "print(target_seq)\n",
        "one_hot_target = id[target_seq]\n",
        "print(one_hot_target.size())\n",
        "criterion = nn.CrossEntropyLoss()\n",
        "\n",
        "print(input_seq.shape, target_seq.shape)\n",
        "\n",
        "# Implement a training loop overfitting an input sequence and monitoring the loss function\n",
        "def train_overfit(model, input_seq, target_seq, n_iters=200, learning_rate=0.02):\n",
        "    # YOUR CODE HERE\n",
        "    optimizer = torch.optim.SGD(model.parameters(), lr = learning_rate, weight_decay=5e-3, momentum=0.9)\n",
        "    hidden = None\n",
        "\n",
        "    for iter in range(1, n_iters + 1):\n",
        "      logits, hidden = model.forward(input_seq)\n",
        "      #output = F.softmax(logits, dim=1)\n",
        "      loss = criterion(logits, target_seq)\n",
        "\n",
        "      optimizer.zero_grad()\n",
        "      loss.backward()\n",
        "      optimizer.step()\n",
        "\n",
        "      if iter % 10 == 0:\n",
        "          print(f'Iteration {iter}/{n_iters}, Loss: {loss.item()}')\n",
        "\n",
        "\n",
        "\n",
        "# Initialize a model and make it overfit the input sequence\n",
        "# YOUR CODE HERE\n",
        "\n",
        "charRNN = CharRNN(vocab_size, embedding_dim, hidden_dim)\n",
        "train_overfit(charRNN, input_seq, target_seq)"
      ]
    },
    {
      "cell_type": "markdown",
      "id": "68c66f34-7afb-4920-b6d2-5642d28a0770",
      "metadata": {
        "deletable": false,
        "editable": false,
        "id": "68c66f34-7afb-4920-b6d2-5642d28a0770",
        "nbgrader": {
          "cell_type": "markdown",
          "checksum": "9cd6d0a90166cea96ce250f8d8f2e083",
          "grade": false,
          "grade_id": "rnn-argmax",
          "locked": true,
          "points": 2,
          "schema_version": 3,
          "solution": false,
          "task": true
        }
      },
      "source": [
        "**(Question)** Implement a `predict_argmax` method for your `RNN` model. Then, verify your overfitting: use some characters of your input sequence as context to predict the remaining ones. Experiment with the current model and analyze the results."
      ]
    },
    {
      "cell_type": "code",
      "execution_count": 123,
      "id": "4d0350ae-a23a-4802-a2a5-012193ede15b",
      "metadata": {
        "colab": {
          "base_uri": "https://localhost:8080/",
          "height": 210
        },
        "deletable": false,
        "id": "4d0350ae-a23a-4802-a2a5-012193ede15b",
        "nbgrader": {
          "cell_type": "code",
          "checksum": "0114ed939e7dd8b656bd0f03bd576a89",
          "grade": true,
          "grade_id": "cell-2d706c010aeccb0d",
          "locked": false,
          "points": 0,
          "schema_version": 3,
          "solution": true,
          "task": false
        },
        "outputId": "615e47b2-8178-4d39-cb7b-ade0f6c71a1b"
      },
      "outputs": [
        {
          "name": "stdout",
          "output_type": "stream",
          "text": [
            "Iteration 10/200, Loss: 2.45266056060791\n",
            "Iteration 20/200, Loss: 0.24240770936012268\n",
            "Iteration 30/200, Loss: 0.0919770896434784\n",
            "Iteration 40/200, Loss: 0.031762223690748215\n",
            "Iteration 50/200, Loss: 0.011348268017172813\n",
            "Iteration 60/200, Loss: 0.0066064889542758465\n",
            "Iteration 70/200, Loss: 0.00528807332739234\n",
            "Iteration 80/200, Loss: 0.004910900257527828\n",
            "Iteration 90/200, Loss: 0.004839443601667881\n",
            "Iteration 100/200, Loss: 0.004896368831396103\n",
            "Iteration 110/200, Loss: 0.005020711570978165\n",
            "Iteration 120/200, Loss: 0.005186916328966618\n",
            "Iteration 130/200, Loss: 0.005383055657148361\n",
            "Iteration 140/200, Loss: 0.00560236070305109\n",
            "Iteration 150/200, Loss: 0.005839820019900799\n",
            "Iteration 160/200, Loss: 0.006091044284403324\n",
            "Iteration 170/200, Loss: 0.006351749412715435\n",
            "Iteration 180/200, Loss: 0.006617935840040445\n",
            "Iteration 190/200, Loss: 0.006885402835905552\n",
            "Iteration 200/200, Loss: 0.007150441408157349\n",
            "US FLEUS FLEUS FLEUS FLEUS FLEUS FLEUS FLEUS FLEUS FLEUS FLEUS FLEUS FLEUS FLEUS FLEUS FLEUS FLEUS FL\n"
          ]
        }
      ],
      "source": [
        "class CharRNN(CharRNN):\n",
        "    def predict_argmax(self, context_tensor, n_predictions):\n",
        "        # Apply the forward pass for the context tensor\n",
        "        # Then, store the last prediction and last hidden state\n",
        "        # YOUR CODE HERE\n",
        "        predictions = []\n",
        "        logits, hidden = self.forward(context_tensor)\n",
        "        output = F.softmax(logits, dim=1)\n",
        "        pred = torch.argmax(output,dim=1)\n",
        "        last_pred = torch.LongTensor(pred[-1]).unsqueeze(-1)\n",
        "        predictions.append(last_pred)\n",
        "        # Use the last prediction and last hidden state as inputs to the next forward pass\n",
        "        # Do this in a loop to predict the next `n_predictions` characters\n",
        "        # YOUR CODE HERE\n",
        "        for _ in range(n_predictions):\n",
        "            logits, hidden = self.forward(last_pred, hidden)\n",
        "            output = F.softmax(logits, dim=1)\n",
        "            last_pred = torch.argmax(output).unsqueeze(-1)\n",
        "            predictions.append(last_pred)\n",
        "        return predictions\n",
        "\n",
        "\n",
        "# Initialize a model and make it overfit as above\n",
        "# Then, verify your overfitting by predicting characters given some context\n",
        "# YOUR CODE HERE\n",
        "\n",
        "charRNN = CharRNN(vocab_size, embedding_dim, hidden_dim)\n",
        "train_overfit(charRNN, input_seq, target_seq)\n",
        "\n",
        "print(tensor_to_text(charRNN.predict_argmax(text_to_tensor(text_data[:500],ctoi),100),itoc))\n"
      ]
    },
    {
      "cell_type": "markdown",
      "id": "4b3e9b8b-f952-43af-a2f0-084451d85759",
      "metadata": {
        "deletable": false,
        "id": "4b3e9b8b-f952-43af-a2f0-084451d85759",
        "nbgrader": {
          "cell_type": "markdown",
          "checksum": "25bd5ff990e4cf55e89b26541d0acf34",
          "grade": true,
          "grade_id": "cell-b783299fd35282d3",
          "locked": false,
          "points": 0,
          "schema_version": 3,
          "solution": true,
          "task": false
        }
      },
      "source": [
        "YOUR ANSWER HERE"
      ]
    },
    {
      "cell_type": "markdown",
      "id": "e4f5d3e9-9a68-48b8-a549-0fc2b9f2b2ff",
      "metadata": {
        "deletable": false,
        "editable": false,
        "id": "e4f5d3e9-9a68-48b8-a549-0fc2b9f2b2ff",
        "nbgrader": {
          "cell_type": "markdown",
          "checksum": "f34d247477f051d257bc1337cfc611fa",
          "grade": false,
          "grade_id": "cell-52baebc1e4eb464c",
          "locked": true,
          "schema_version": 3,
          "solution": false,
          "task": false
        }
      },
      "source": [
        "Using the argmax function to predict the next character can yield a deterministic generator always predicting the same characters. Instead, it is common to predict the next character by sampling from the distribution of output predictions, adding some randomness into the generator."
      ]
    },
    {
      "cell_type": "markdown",
      "id": "5701d4df-dca5-4884-8ac2-c8efe4fe4641",
      "metadata": {
        "deletable": false,
        "editable": false,
        "id": "5701d4df-dca5-4884-8ac2-c8efe4fe4641",
        "nbgrader": {
          "cell_type": "markdown",
          "checksum": "9cefa534edd726def1328ea0b48ed29d",
          "grade": false,
          "grade_id": "cell-e85a5e3954f17ad2",
          "locked": true,
          "schema_version": 3,
          "solution": false,
          "task": false
        }
      },
      "source": [
        "**(Question)** Implement a `predict_proba` method for your `RNN` model. It should be very similar to `predict_argmax`, but instead of using argmax, it should randomly sample from the output predictions. To do that, you can use the `torch.distribution.Categorical` class and its `sample()` method. Verify that your method correctly added some randomness."
      ]
    },
    {
      "cell_type": "code",
      "execution_count": null,
      "id": "72da1efb-39b8-496d-9c8f-cea241c41364",
      "metadata": {
        "deletable": false,
        "id": "72da1efb-39b8-496d-9c8f-cea241c41364",
        "nbgrader": {
          "cell_type": "code",
          "checksum": "2ba3d32edc8f535eb8923fb8e71c9fe4",
          "grade": true,
          "grade_id": "rnn-sample",
          "locked": false,
          "points": 2,
          "schema_version": 3,
          "solution": true,
          "task": false
        }
      },
      "outputs": [],
      "source": [
        "class CharRNN(CharRNN):\n",
        "    def predict_proba(self, input_context, n_predictions):\n",
        "        # YOUR CODE HERE\n",
        "        \n",
        "\n",
        "# Verify that your predictions are not deterministic anymore\n",
        "# YOUR CODE HERE\n",
        "raise NotImplementedError()"
      ]
    },
    {
      "cell_type": "markdown",
      "id": "9912f5cc-3627-41e8-b5ef-6d30f7c4868a",
      "metadata": {
        "deletable": false,
        "editable": false,
        "id": "9912f5cc-3627-41e8-b5ef-6d30f7c4868a",
        "nbgrader": {
          "cell_type": "markdown",
          "checksum": "e56bfe8d33a343e270cfe35720aeea26",
          "grade": false,
          "grade_id": "cell-6389d46b2b8abaa0",
          "locked": true,
          "schema_version": 3,
          "solution": false,
          "task": false
        }
      },
      "source": [
        "## 3. Train the RNN model on text data"
      ]
    },
    {
      "cell_type": "markdown",
      "id": "8024df30-af42-4ca9-be0e-16614ead56cb",
      "metadata": {
        "deletable": false,
        "editable": false,
        "id": "8024df30-af42-4ca9-be0e-16614ead56cb",
        "nbgrader": {
          "cell_type": "markdown",
          "checksum": "44f87a393c4ae266b59141953d170a7e",
          "grade": false,
          "grade_id": "rnn-train",
          "locked": true,
          "points": 4,
          "schema_version": 3,
          "solution": false,
          "task": true
        }
      },
      "source": [
        "**(Question)** Adapt your previous code to implement a proper training loop for a text dataset. To do so, we need to specify a sequence length `seq_len`, acting similarly to the batch size in classic neural networks. Then, you can either randomly sample sequences of length `seq_len` from the text dataset over `n_iters` iterations, or properly loop over the text dataset for `n_epochs` epochs (with a random starting point for each epoch to ensure different sequences), to make sure the whole dataset is seen by the model. Feel free to adjust training and model parameters empirically. Start with a small model and a small subset of the text dataset, then move on to larger experiments. Remember to use GPU if available."
      ]
    },
    {
      "cell_type": "code",
      "execution_count": null,
      "id": "f65d237e-d095-45c4-ab12-6307a5bda255",
      "metadata": {
        "deletable": false,
        "id": "f65d237e-d095-45c4-ab12-6307a5bda255",
        "nbgrader": {
          "cell_type": "code",
          "checksum": "17faecb7751e77b7fe8cae66820687ea",
          "grade": true,
          "grade_id": "cell-a4695fabcf78e1a8",
          "locked": false,
          "points": 0,
          "schema_version": 3,
          "solution": true,
          "task": false
        }
      },
      "outputs": [],
      "source": [
        "# Create the text dataset, compute its mappings and convert it to tensor\n",
        "# YOUR CODE HERE\n",
        "raise NotImplementedError()\n",
        "\n",
        "# Initialize training parameters\n",
        "# YOUR CODE HERE\n",
        "raise NotImplementedError()\n",
        "\n",
        "# Initialize a character-level RNN model\n",
        "# YOUR CODE HERE\n",
        "raise NotImplementedError()\n",
        "\n",
        "# Setup the training loop\n",
        "# Regularly record the loss and sample from the model to monitor what is happening\n",
        "# YOUR CODE HERE\n",
        "raise NotImplementedError()"
      ]
    },
    {
      "cell_type": "markdown",
      "id": "7a318abd-5c3c-462d-9944-9aec1f78446c",
      "metadata": {
        "deletable": false,
        "editable": false,
        "id": "7a318abd-5c3c-462d-9944-9aec1f78446c",
        "nbgrader": {
          "cell_type": "markdown",
          "checksum": "113032562a0b82e504d636abf3164360",
          "grade": false,
          "grade_id": "rnn-predict",
          "locked": true,
          "points": 2,
          "schema_version": 3,
          "solution": false,
          "task": true
        }
      },
      "source": [
        "**(Question)** From your trained model, play around with its predictions: start with a custom input sequence and ask the model to predict the rest. Analyze and comment your results."
      ]
    },
    {
      "cell_type": "code",
      "execution_count": null,
      "id": "53d516b1-477c-4237-956a-471062dd6019",
      "metadata": {
        "deletable": false,
        "id": "53d516b1-477c-4237-956a-471062dd6019",
        "nbgrader": {
          "cell_type": "code",
          "checksum": "5bd724d3a1f3ba5d0b965b9cf7905160",
          "grade": true,
          "grade_id": "cell-08bfe03b817a9908",
          "locked": false,
          "points": 0,
          "schema_version": 3,
          "solution": true,
          "task": false
        }
      },
      "outputs": [],
      "source": [
        "# YOUR CODE HERE\n",
        "raise NotImplementedError()"
      ]
    },
    {
      "cell_type": "markdown",
      "id": "ad02a4a5-5aab-403a-9bd3-fd752dc1dc9a",
      "metadata": {
        "deletable": false,
        "id": "ad02a4a5-5aab-403a-9bd3-fd752dc1dc9a",
        "nbgrader": {
          "cell_type": "markdown",
          "checksum": "288f4746f3c7d1906ca99b35f4a6a6e3",
          "grade": true,
          "grade_id": "cell-6b41d47e15ea128a",
          "locked": false,
          "points": 0,
          "schema_version": 3,
          "solution": true,
          "task": false
        }
      },
      "source": [
        "YOUR ANSWER HERE"
      ]
    },
    {
      "cell_type": "markdown",
      "id": "7de32122-8819-4d6b-8f7a-e96f671311d6",
      "metadata": {
        "deletable": false,
        "editable": false,
        "id": "7de32122-8819-4d6b-8f7a-e96f671311d6",
        "nbgrader": {
          "cell_type": "markdown",
          "checksum": "2eddbf9984d6a4d51a7ea1301800bdf3",
          "grade": false,
          "grade_id": "cell-a69a65798f792cfc",
          "locked": true,
          "schema_version": 3,
          "solution": false,
          "task": false
        }
      },
      "source": [
        "## 4. Experiment with different RNN architectures"
      ]
    },
    {
      "cell_type": "markdown",
      "id": "d5def498-9119-45fd-8807-8260cd0a05d8",
      "metadata": {
        "deletable": false,
        "editable": false,
        "id": "d5def498-9119-45fd-8807-8260cd0a05d8",
        "nbgrader": {
          "cell_type": "markdown",
          "checksum": "977d70928beb993f5bc6323199b1e363",
          "grade": false,
          "grade_id": "rnn-experiments",
          "locked": true,
          "points": 3,
          "schema_version": 3,
          "solution": false,
          "task": true
        }
      },
      "source": [
        "**(Question)** Experiment with different RNN architecures. Potential ideas are multi-layer RNNs, GRUs and LSTMs. All models can be extended to multi-layer using the `num_layers` parameter. Analyze and comment your results."
      ]
    },
    {
      "cell_type": "code",
      "execution_count": null,
      "id": "38c6fe7d-d159-401d-9c7c-f7e9a5b86cba",
      "metadata": {
        "deletable": false,
        "id": "38c6fe7d-d159-401d-9c7c-f7e9a5b86cba",
        "nbgrader": {
          "cell_type": "code",
          "checksum": "77ebb731623feb1292e7758788ad56d4",
          "grade": true,
          "grade_id": "cell-7bbcfb8355f44b5d",
          "locked": false,
          "points": 0,
          "schema_version": 3,
          "solution": true,
          "task": false
        }
      },
      "outputs": [],
      "source": [
        "# YOUR CODE HERE\n",
        "raise NotImplementedError()"
      ]
    },
    {
      "cell_type": "markdown",
      "id": "13329eaa-6a48-47cf-912d-424a79680f91",
      "metadata": {
        "deletable": false,
        "id": "13329eaa-6a48-47cf-912d-424a79680f91",
        "nbgrader": {
          "cell_type": "markdown",
          "checksum": "5bffac2e6bdfed739aea204b3c40a792",
          "grade": true,
          "grade_id": "cell-3961b7f97f038a4b",
          "locked": false,
          "points": 0,
          "schema_version": 3,
          "solution": true,
          "task": false
        }
      },
      "source": [
        "YOUR ANSWER HERE"
      ]
    }
  ],
  "metadata": {
    "colab": {
      "provenance": []
    },
    "kernelspec": {
      "display_name": "Python 3 (ipykernel)",
      "language": "python",
      "name": "python3"
    },
    "language_info": {
      "codemirror_mode": {
        "name": "ipython",
        "version": 3
      },
      "file_extension": ".py",
      "mimetype": "text/x-python",
      "name": "python",
      "nbconvert_exporter": "python",
      "pygments_lexer": "ipython3",
      "version": "3.11.4"
    }
  },
  "nbformat": 4,
  "nbformat_minor": 5
}

{
  "cells": [
    {
      "cell_type": "markdown",
      "id": "abb49b5c-7533-4bf0-bcce-37373d6fa072",
      "metadata": {
        "deletable": false,
        "editable": false,
        "id": "abb49b5c-7533-4bf0-bcce-37373d6fa072",
        "nbgrader": {
          "cell_type": "markdown",
          "checksum": "d1502bbeee981ecc3a7a4464df92be0c",
          "grade": false,
          "grade_id": "cell-a975d7bfb06f30ae",
          "locked": true,
          "schema_version": 3,
          "solution": false,
          "task": false
        }
      },
      "source": [
        "# IS319 - Deep Learning\n",
        "\n",
        "## TP3 - Recurrent neural networks\n",
        "\n",
        "Credits: Andrej Karpathy\n",
        "\n",
        "The goal of this TP is to experiment with recurrent neural networks for a character-level language model to generate text that looks like training text data."
      ]
    },
    {
      "cell_type": "code",
      "execution_count": 31,
      "id": "16d03ccd-089a-4553-bd96-7bd0c0f71949",
      "metadata": {
        "id": "16d03ccd-089a-4553-bd96-7bd0c0f71949"
      },
      "outputs": [],
      "source": [
        "import torch\n",
        "import torch.nn as nn\n",
        "import torch.nn.functional as F\n",
        "import matplotlib.pyplot as plt\n",
        "device = torch.device('cuda' if torch.cuda.is_available() else 'cpu')"
      ]
    },
    {
      "cell_type": "markdown",
      "id": "c4c736b5-43df-4aca-9ba3-dd34ed8366f4",
      "metadata": {
        "id": "c4c736b5-43df-4aca-9ba3-dd34ed8366f4"
      },
      "source": [
        "## 1. Text data preprocessing\n",
        "\n",
        "Several text datasets are provided, feel free to experiment with different ones throughout the TP. At the beginning, use a small subset of a given dataset (for example use only 10k characters)."
      ]
    },
    {
      "cell_type": "code",
      "execution_count": 32,
      "id": "LdINbAH3tFYw",
      "metadata": {
        "colab": {
          "base_uri": "https://localhost:8080/"
        },
        "id": "LdINbAH3tFYw",
        "outputId": "32b26b47-e05e-472e-94b6-9fb654cae885"
      },
      "outputs": [
        {
          "name": "stderr",
          "output_type": "stream",
          "text": [
            "tar: Error opening archive: Failed to open 'text-datasets.tgz'\n"
          ]
        }
      ],
      "source": [
        "!tar -xvf text-datasets.tgz"
      ]
    },
    {
      "cell_type": "code",
      "execution_count": 33,
      "id": "e56a81b9-b733-4d87-b8d7-2184d5e5c2de",
      "metadata": {
        "colab": {
          "base_uri": "https://localhost:8080/"
        },
        "id": "e56a81b9-b733-4d87-b8d7-2184d5e5c2de",
        "outputId": "2b992603-fe62-4cbc-d0cf-c927c8c649a7"
      },
      "outputs": [
        {
          "name": "stdout",
          "output_type": "stream",
          "text": [
            "Dataset `baudelaire.txt` contains 10000 characters.\n",
            "Excerpt of the dataset:\n",
            "LES FLEURS DU MAL\n",
            "\n",
            "par\n",
            "\n",
            "CHARLES BAUDELAIRE\n",
            "\n",
            "\n",
            "AU LECTEUR\n",
            "\n",
            "\n",
            "La sottise, l'erreur, le péché, la lésine,\n",
            "Occupent nos esprits et travaillent nos corps,\n",
            "Et nous alimentons nos aimables remords,\n",
            "Comme les mendiants nourrissent leur vermine.\n",
            "\n",
            "Nos péchés sont têtus, nos repentirs sont lâches,\n",
            "Nous nous faisons payer grassement nos aveux,\n",
            "Et nous rentrons gaîment dans le chemin bourbeux,\n",
            "Croyant par de vils pleurs laver toutes nos taches.\n",
            "\n",
            "Sur l'oreiller du mal c'est Satan Trismégiste\n",
            "Qui berce longuement notre esprit enchanté,\n",
            "Et le riche métal de notre volonté\n",
            "Est tout vaporisé par ce savant chimiste.\n",
            "\n",
            "C'est le Diable qui tient les fils qui nous remuent!\n",
            "Aux objets répugnants nous trouvons des appas;\n",
            "Chaque jour vers l'Enfer nous descendons d'un pas,\n",
            "Sans horreur, à travers des ténèbres qui puent.\n",
            "\n",
            "Ainsi qu'un débauché pauvre qui baise et mange\n",
            "Le sein martyrisé d'une antique catin,\n",
            "Nous volons au passage un plaisir clandestin\n",
            "Que nous pressons bien fort comme une vieille orange.\n",
            "\n",
            "Serré, fourmillant, comme un million d'helminthes,\n",
            "Dans nos cerveaux ribote un peuple de Démons,\n",
            "Et, quand nous respirons, la Mort dans nos poumons\n",
            "Descend, fleuve invisible, avec de sourdes plaintes.\n",
            "\n",
            "Si le viol, le poison, le poignard, l'incendie,\n",
            "N'ont pas encore brodé de leurs plaisants desseins\n",
            "Le canevas banal de nos piteux destins,\n",
            "C'est que notre âme, hélas! n'est pas assez hardie.\n",
            "\n",
            "Mais parmi les chacals, les panthères, les lices,\n",
            "Les singes, les scorpions, les vautours, les serpents,\n",
            "Les monstres glapissants, hurlants, grognants, rampants\n",
            "Dans la ménagerie infâme de nos vices,\n",
            "\n",
            "Il en est un plus laid, plus méchant, plus immonde!\n",
            "Quoiqu'il ne pousse ni grands gestes ni grands cris,\n",
            "Il ferait volontiers de la terre un débris\n",
            "Et dans un bâillement avalerait le monde;\n",
            "\n",
            "C'est l'Ennui!--L'oeil chargé d'un pleur involontaire,\n",
            "Il rêve d'échafauds en fumant son houka.\n",
            "Tu le connais, lecteur, ce monstre délicat,\n",
            "--Hypocrite lecteur,--mon semblable,--mon frère!\n",
            "\n",
            "\n",
            "\n",
            "\n",
            "SPLEEN ET IDÉAL\n",
            "\n",
            "BENEDICTION\n",
            "\n",
            "\n",
            "L\n"
          ]
        }
      ],
      "source": [
        "text_data_fname = 'baudelaire.txt'  # ~0.1m characters (French)\n",
        "# text_data_fname = 'proust.txt'      # ~7.3m characters (French)\n",
        "# text_data_fname = 'shakespeare.txt' # ~0.1m characters (English)\n",
        "# text_data_fname = 'lotr.txt'        # ~2.5m characters (English)\n",
        "# text_data_fname = 'doom.c'          # ~1m characters (C Code)\n",
        "# text_data_fname = 'linux.c'         # ~11.5m characters (C code)\n",
        "\n",
        "text_data = open(text_data_fname, 'r',encoding=\"utf8\").read()\n",
        "text_data = text_data[:10000] # use a small subset\n",
        "print(f'Dataset `{text_data_fname}` contains {len(text_data)} characters.')\n",
        "print('Excerpt of the dataset:')\n",
        "print(text_data[:2000])"
      ]
    },
    {
      "cell_type": "markdown",
      "id": "d9b9a404-8b09-4ab1-9529-98ff57650ef5",
      "metadata": {
        "deletable": false,
        "editable": false,
        "id": "d9b9a404-8b09-4ab1-9529-98ff57650ef5",
        "nbgrader": {
          "cell_type": "markdown",
          "checksum": "d6b030743489f86ece30d79835434297",
          "grade": false,
          "grade_id": "cell-9695c6f2cf95337c",
          "locked": true,
          "schema_version": 3,
          "solution": false,
          "task": false
        }
      },
      "source": [
        "**(Question)** Create a character-level vocabulary for your text data. Create two dictionaries: `ctoi` mapping each character to an index, and the reverse `itoc` mapping each index to its corresponding character. Implement the functions to convert text to tensor and tensor to text using these mappings. Apply these functions to some text data."
      ]
    },
    {
      "cell_type": "code",
      "execution_count": 34,
      "id": "885ecc8a-c654-463b-9353-f7a18a607199",
      "metadata": {
        "colab": {
          "base_uri": "https://localhost:8080/"
        },
        "deletable": false,
        "id": "885ecc8a-c654-463b-9353-f7a18a607199",
        "nbgrader": {
          "cell_type": "code",
          "checksum": "e3eb46710b4006993f4eb9c557a2376f",
          "grade": true,
          "grade_id": "vocabulary",
          "locked": false,
          "points": 1,
          "schema_version": 3,
          "solution": true,
          "task": false
        },
        "outputId": "2d836c27-9154-454d-b3b0-74ee9efeb0bb"
      },
      "outputs": [
        {
          "name": "stdout",
          "output_type": "stream",
          "text": [
            "{':': 0, 'R': 1, 'É': 2, \"'\": 3, '!': 4, 'ô': 5, 'B': 6, ';': 7, ',': 8, 'N': 9, ' ': 10, 'P': 11, 'b': 12, 'D': 13, 'ê': 14, 'G': 15, 'H': 16, 'f': 17, 'T': 18, 'v': 19, 'U': 20, '»': 21, 'I': 22, '.': 23, 'h': 24, 'L': 25, 'n': 26, 'ù': 27, 'W': 28, '?': 29, 'c': 30, 'û': 31, 'r': 32, 'o': 33, 'a': 34, '\\n': 35, 't': 36, 'C': 37, 'l': 38, 'é': 39, 'm': 40, 'F': 41, 'â': 42, 'g': 43, 'E': 44, 'V': 45, 's': 46, 'u': 47, 'q': 48, 'e': 49, 'd': 50, '-': 51, 'O': 52, '«': 53, 'k': 54, 'Q': 55, 'à': 56, 'i': 57, 'î': 58, 'j': 59, 'J': 60, 'è': 61, 'A': 62, 'z': 63, 'p': 64, '_': 65, 'y': 66, 'S': 67, 'M': 68, 'x': 69, 'ç': 70}\n",
            "{0: ':', 1: 'R', 2: 'É', 3: \"'\", 4: '!', 5: 'ô', 6: 'B', 7: ';', 8: ',', 9: 'N', 10: ' ', 11: 'P', 12: 'b', 13: 'D', 14: 'ê', 15: 'G', 16: 'H', 17: 'f', 18: 'T', 19: 'v', 20: 'U', 21: '»', 22: 'I', 23: '.', 24: 'h', 25: 'L', 26: 'n', 27: 'ù', 28: 'W', 29: '?', 30: 'c', 31: 'û', 32: 'r', 33: 'o', 34: 'a', 35: '\\n', 36: 't', 37: 'C', 38: 'l', 39: 'é', 40: 'm', 41: 'F', 42: 'â', 43: 'g', 44: 'E', 45: 'V', 46: 's', 47: 'u', 48: 'q', 49: 'e', 50: 'd', 51: '-', 52: 'O', 53: '«', 54: 'k', 55: 'Q', 56: 'à', 57: 'i', 58: 'î', 59: 'j', 60: 'J', 61: 'è', 62: 'A', 63: 'z', 64: 'p', 65: '_', 66: 'y', 67: 'S', 68: 'M', 69: 'x', 70: 'ç'}\n",
            "71\n",
            "tensor([25, 44, 67, 10, 41, 25, 44, 20,  1, 67])\n",
            "LES FLEURS\n"
          ]
        }
      ],
      "source": [
        "# Create the vocabulary and the two mapping dictionaries\n",
        "# YOUR CODE HERE\n",
        "import numpy as np\n",
        "\n",
        "idx = 0\n",
        "ctoi = {}\n",
        "itoc = {}\n",
        "\n",
        "voc = set(text_data)\n",
        "\n",
        "for elt in voc:\n",
        "    ctoi[elt] = idx\n",
        "    itoc[idx] = elt\n",
        "    idx += 1\n",
        "\n",
        "print(ctoi)\n",
        "print(itoc)\n",
        "print(len(ctoi))\n",
        "ctoi[\"$\"] = len(ctoi)\n",
        "itoc[len(itoc)] = \"$\"\n",
        "# Implement the function converting text to tensor\n",
        "def text_to_tensor(text, ctoi):\n",
        "    # YOUR CODE HERE\n",
        "    return torch.LongTensor(np.array([ctoi[c] for c in text]))\n",
        "    #tensor = torch.zeros(len(text), 1, len(ctoi))\n",
        "    #for i, letter in enumerate(text):\n",
        "    #  tensor[i][0][ctoi[letter]] = 1\n",
        "    #return tensor\n",
        "\n",
        "\n",
        "# Implement the function converting tensor to text\n",
        "def tensor_to_text(tensor, itoc):\n",
        "    # YOUR CODE HERE\n",
        "    return ''.join([itoc[elt.item()] for elt in tensor])#torch.argmax(tensor, dim=2)])\n",
        "\n",
        "# Apply your functions to some text data\n",
        "# YOUR CODE HERE\n",
        "#raise NotImplementedError()\n",
        "a = text_to_tensor(text_data[:10], ctoi)\n",
        "\n",
        "print(a)\n",
        "print(tensor_to_text(a, itoc))\n",
        "\n"
      ]
    },
    {
      "cell_type": "markdown",
      "id": "b8da1b7f-549d-45d9-8fea-309ee0e76a90",
      "metadata": {
        "deletable": false,
        "editable": false,
        "id": "b8da1b7f-549d-45d9-8fea-309ee0e76a90",
        "nbgrader": {
          "cell_type": "markdown",
          "checksum": "fbfd5a4df6e6081581ad38d7180fddfb",
          "grade": false,
          "grade_id": "cell-172b8befc4633227",
          "locked": true,
          "schema_version": 3,
          "solution": false,
          "task": false
        }
      },
      "source": [
        "## 2. Setup a character-level recurrent neural network"
      ]
    },
    {
      "cell_type": "markdown",
      "id": "3d33cfac-93f7-4980-8510-fcf675d3a06b",
      "metadata": {
        "deletable": false,
        "editable": false,
        "id": "3d33cfac-93f7-4980-8510-fcf675d3a06b",
        "nbgrader": {
          "cell_type": "markdown",
          "checksum": "6cb30929efdd10eb6066750f4b94bf14",
          "grade": false,
          "grade_id": "embedding",
          "locked": true,
          "points": 2,
          "schema_version": 3,
          "solution": false,
          "task": true
        }
      },
      "source": [
        "**(Question)** Setup a simple embedding layer with `nn.Embedding` to project character indices to `embedding_dim` dimensional vectors. Explain precisely how this layer works and what are its outputs for a given input sequence."
      ]
    },
    {
      "cell_type": "code",
      "execution_count": 35,
      "id": "609747a0-6634-4232-92cb-72946ef516b0",
      "metadata": {
        "colab": {
          "base_uri": "https://localhost:8080/",
          "height": 373
        },
        "deletable": false,
        "id": "609747a0-6634-4232-92cb-72946ef516b0",
        "nbgrader": {
          "cell_type": "code",
          "checksum": "a9dd84493589d73c13fac37411610a2e",
          "grade": true,
          "grade_id": "cell-a3b5adeb8111779b",
          "locked": false,
          "points": 0,
          "schema_version": 3,
          "solution": true,
          "task": false
        },
        "outputId": "ce1b75e1-b68f-4656-e3eb-7e516e65f093"
      },
      "outputs": [
        {
          "data": {
            "text/plain": [
              "tensor([[-8.1775e-01,  9.7502e-01, -1.7873e+00, -3.2672e-01, -9.3343e-01,\n",
              "         -1.5130e-01, -4.0676e-01,  7.5977e-01, -1.9959e+00, -1.4231e+00,\n",
              "         -3.8849e-01,  6.8988e-01, -3.2921e+00,  4.9925e-01, -2.7136e-01,\n",
              "          6.1775e-01,  1.3765e+00, -9.3984e-01,  1.4457e+00, -7.0095e-02,\n",
              "          4.9262e-01,  1.2880e+00,  1.5253e-02, -3.7845e-03,  1.1888e-02,\n",
              "          1.2387e+00, -3.3290e-02,  3.3278e-01,  2.2172e+00,  6.9170e-01,\n",
              "         -7.2544e-01,  2.5967e-01, -2.7061e-01,  6.7540e-01, -5.1456e-01,\n",
              "         -4.1789e-01,  3.8044e-01,  9.3984e-02, -2.0808e-01,  1.2979e+00,\n",
              "          1.2123e+00,  6.4157e-01, -7.8024e-01, -1.4961e+00, -5.5236e-01,\n",
              "          3.6518e-02, -3.0728e-01, -4.8298e-01, -9.1797e-01,  2.8892e-01],\n",
              "        [-5.8279e-01, -2.3925e-01, -1.7259e+00, -1.5302e+00, -4.0124e-01,\n",
              "         -1.2530e+00, -4.9950e-01,  1.2825e+00,  9.0740e-02, -1.1030e+00,\n",
              "         -1.1058e+00, -2.5028e-01,  2.0488e+00, -6.8769e-01,  2.3465e-01,\n",
              "         -7.2817e-01,  4.4428e-01,  1.1115e+00, -9.3799e-01, -2.0050e+00,\n",
              "          1.6818e+00, -5.6466e-01, -8.4228e-02, -1.1683e-02,  1.0389e+00,\n",
              "          1.8691e+00, -1.9105e+00,  1.4884e+00,  8.2401e-01,  1.0365e+00,\n",
              "         -4.2272e-01, -6.6942e-02, -2.0183e-01, -9.1672e-01, -2.7751e-02,\n",
              "          9.5459e-02, -1.6641e+00, -3.9689e-01, -1.4437e+00,  5.5408e-01,\n",
              "         -2.2259e+00,  6.5127e-01, -1.6955e-01, -1.4723e+00,  4.9177e-01,\n",
              "         -8.5961e-01, -2.7528e-01,  5.8347e-01, -1.5394e-01,  2.8733e+00],\n",
              "        [-9.3804e-01, -2.3521e-01,  6.7982e-01,  8.5879e-01, -8.7377e-01,\n",
              "          9.8816e-01,  1.1707e+00,  1.6657e+00,  2.7533e+00, -4.8768e-01,\n",
              "         -3.0402e-01,  1.2820e+00, -1.8201e+00,  7.5718e-01,  3.2537e-01,\n",
              "          3.5422e-01,  9.9640e-01,  9.2387e-03, -6.3217e-01, -3.7241e-01,\n",
              "          1.1034e+00, -1.2789e+00, -1.2985e+00, -6.6405e-01, -6.8205e-01,\n",
              "          9.2428e-01, -1.7563e+00, -9.9292e-03,  2.2328e-01,  1.0273e+00,\n",
              "          1.4379e+00, -6.0206e-01,  4.5377e-01,  9.8094e-01, -2.2612e+00,\n",
              "         -5.7899e-01, -1.7625e+00,  1.0564e+00, -5.6314e-01,  9.0307e-01,\n",
              "         -1.1477e+00, -9.1885e-01,  2.2180e+00, -9.9722e-02, -5.6994e-01,\n",
              "         -2.6563e+00, -3.0973e-01, -2.9394e-01,  1.2718e+00,  7.7619e-01],\n",
              "        [-1.4665e+00, -6.8255e-02,  1.9304e-01,  7.9117e-01, -7.3525e-01,\n",
              "          6.0187e-01,  1.0174e+00,  8.0536e-01,  7.1608e-01, -1.1355e-01,\n",
              "          5.3290e-01,  8.0196e-01,  1.5856e+00, -6.9867e-01, -5.9232e-01,\n",
              "          8.3655e-02, -1.2281e+00, -1.6183e+00, -2.3642e-01,  8.6511e-01,\n",
              "          9.8765e-01, -5.0758e-01,  9.0101e-01, -6.7072e-01,  2.2048e-01,\n",
              "         -1.5548e+00,  4.6500e-01, -6.2837e-02,  1.4158e+00, -3.7298e-01,\n",
              "         -1.0918e-01,  6.6479e-01, -1.3673e+00,  1.0737e+00, -4.1026e-01,\n",
              "          8.6895e-01,  1.3456e+00, -2.1364e-01, -2.0331e+00, -1.0585e+00,\n",
              "          1.5809e+00,  3.8376e-01, -1.0076e+00,  1.5960e+00, -1.0162e+00,\n",
              "          1.5094e+00,  4.1536e-01, -2.2376e-01, -6.2055e-02,  4.5561e-01],\n",
              "        [ 1.3025e-01, -8.0806e-01, -2.1995e-01, -2.4782e+00, -8.9852e-02,\n",
              "          2.8281e-01,  4.6473e-01, -1.3387e+00,  4.2132e-02,  1.2116e-01,\n",
              "          3.3287e-01,  4.4652e-01, -8.3780e-01,  4.4314e-01, -6.1889e-01,\n",
              "         -2.1532e+00,  2.0712e-01, -1.1033e+00,  6.8865e-01, -7.8332e-01,\n",
              "          2.9302e-02, -2.2431e-01, -1.6109e-01,  6.9727e-01,  4.1031e-01,\n",
              "          2.3214e+00, -1.0648e+00, -3.2781e-01, -4.2527e-02, -7.7256e-01,\n",
              "          6.1954e-02, -1.0883e+00, -1.4810e+00, -1.1491e+00,  2.2430e-01,\n",
              "          2.8822e-02,  5.0210e-01, -1.7425e+00,  4.5207e-01,  5.0128e-01,\n",
              "          4.1327e-01, -1.0868e+00, -1.2893e+00, -2.4172e+00, -1.5689e+00,\n",
              "         -5.9302e-02,  1.5472e+00, -1.9825e+00, -6.3571e-01,  1.2539e+00],\n",
              "        [-8.1775e-01,  9.7502e-01, -1.7873e+00, -3.2672e-01, -9.3343e-01,\n",
              "         -1.5130e-01, -4.0676e-01,  7.5977e-01, -1.9959e+00, -1.4231e+00,\n",
              "         -3.8849e-01,  6.8988e-01, -3.2921e+00,  4.9925e-01, -2.7136e-01,\n",
              "          6.1775e-01,  1.3765e+00, -9.3984e-01,  1.4457e+00, -7.0095e-02,\n",
              "          4.9262e-01,  1.2880e+00,  1.5253e-02, -3.7845e-03,  1.1888e-02,\n",
              "          1.2387e+00, -3.3290e-02,  3.3278e-01,  2.2172e+00,  6.9170e-01,\n",
              "         -7.2544e-01,  2.5967e-01, -2.7061e-01,  6.7540e-01, -5.1456e-01,\n",
              "         -4.1789e-01,  3.8044e-01,  9.3984e-02, -2.0808e-01,  1.2979e+00,\n",
              "          1.2123e+00,  6.4157e-01, -7.8024e-01, -1.4961e+00, -5.5236e-01,\n",
              "          3.6518e-02, -3.0728e-01, -4.8298e-01, -9.1797e-01,  2.8892e-01],\n",
              "        [-5.8279e-01, -2.3925e-01, -1.7259e+00, -1.5302e+00, -4.0124e-01,\n",
              "         -1.2530e+00, -4.9950e-01,  1.2825e+00,  9.0740e-02, -1.1030e+00,\n",
              "         -1.1058e+00, -2.5028e-01,  2.0488e+00, -6.8769e-01,  2.3465e-01,\n",
              "         -7.2817e-01,  4.4428e-01,  1.1115e+00, -9.3799e-01, -2.0050e+00,\n",
              "          1.6818e+00, -5.6466e-01, -8.4228e-02, -1.1683e-02,  1.0389e+00,\n",
              "          1.8691e+00, -1.9105e+00,  1.4884e+00,  8.2401e-01,  1.0365e+00,\n",
              "         -4.2272e-01, -6.6942e-02, -2.0183e-01, -9.1672e-01, -2.7751e-02,\n",
              "          9.5459e-02, -1.6641e+00, -3.9689e-01, -1.4437e+00,  5.5408e-01,\n",
              "         -2.2259e+00,  6.5127e-01, -1.6955e-01, -1.4723e+00,  4.9177e-01,\n",
              "         -8.5961e-01, -2.7528e-01,  5.8347e-01, -1.5394e-01,  2.8733e+00],\n",
              "        [ 7.8654e-01, -1.3348e+00, -1.7835e+00, -2.5424e-01, -1.1556e+00,\n",
              "         -3.8377e-01,  1.9281e+00,  1.3589e+00, -8.5895e-01,  1.7082e-01,\n",
              "         -1.0413e-01,  3.0481e-01, -1.1088e+00, -5.0265e-01,  1.7698e-01,\n",
              "         -2.4366e-01, -5.1166e-01,  5.6421e-01, -7.9696e-01, -9.1314e-01,\n",
              "         -8.1903e-01, -1.9841e-01,  3.0866e-01, -1.6738e+00, -4.9947e-01,\n",
              "         -1.0439e+00, -9.7308e-01,  1.3361e+00, -2.0301e+00,  2.6165e-01,\n",
              "          3.0405e-01, -2.4889e-01, -5.7777e-02,  4.4586e-01, -8.5515e-01,\n",
              "         -1.1986e+00,  1.3981e+00, -2.2291e+00, -9.3834e-01,  1.7457e+00,\n",
              "         -1.5373e+00, -1.9316e+00, -4.5796e-01,  1.6587e+00,  5.2338e-01,\n",
              "          3.3940e-01,  2.1412e-01, -1.1231e+00, -1.4930e+00,  1.0894e+00],\n",
              "        [-1.1219e+00,  1.2483e-01,  5.1713e-01,  1.2135e+00,  6.6959e-02,\n",
              "          1.3699e+00,  5.0160e-01,  1.8680e+00, -1.0905e+00, -1.3061e+00,\n",
              "          1.3226e+00,  9.7345e-01,  8.3076e-01, -1.5682e-01, -7.7184e-01,\n",
              "          4.4804e-01,  6.0809e-04,  2.4699e+00,  1.6221e+00,  1.7108e-01,\n",
              "          5.0838e-01,  1.4376e+00,  1.8920e-01,  6.7898e-01,  9.9988e-01,\n",
              "         -2.4329e-01,  5.8178e-01,  1.2448e-01,  1.2117e+00, -2.3621e-01,\n",
              "         -2.5884e-01,  1.1203e+00,  1.0312e+00, -1.9073e-01, -2.1818e+00,\n",
              "         -1.2819e+00, -2.8421e-01,  2.4848e-01, -6.3341e-01, -5.5710e-01,\n",
              "          1.5844e+00,  1.3687e-01,  2.5004e-01, -3.2850e-01,  9.7707e-01,\n",
              "          1.6021e-01,  2.7258e-01,  1.9004e+00,  1.1229e-01,  7.6392e-02],\n",
              "        [-9.3804e-01, -2.3521e-01,  6.7982e-01,  8.5879e-01, -8.7377e-01,\n",
              "          9.8816e-01,  1.1707e+00,  1.6657e+00,  2.7533e+00, -4.8768e-01,\n",
              "         -3.0402e-01,  1.2820e+00, -1.8201e+00,  7.5718e-01,  3.2537e-01,\n",
              "          3.5422e-01,  9.9640e-01,  9.2387e-03, -6.3217e-01, -3.7241e-01,\n",
              "          1.1034e+00, -1.2789e+00, -1.2985e+00, -6.6405e-01, -6.8205e-01,\n",
              "          9.2428e-01, -1.7563e+00, -9.9292e-03,  2.2328e-01,  1.0273e+00,\n",
              "          1.4379e+00, -6.0206e-01,  4.5377e-01,  9.8094e-01, -2.2612e+00,\n",
              "         -5.7899e-01, -1.7625e+00,  1.0564e+00, -5.6314e-01,  9.0307e-01,\n",
              "         -1.1477e+00, -9.1885e-01,  2.2180e+00, -9.9722e-02, -5.6994e-01,\n",
              "         -2.6563e+00, -3.0973e-01, -2.9394e-01,  1.2718e+00,  7.7619e-01]],\n",
              "       grad_fn=<EmbeddingBackward0>)"
            ]
          },
          "execution_count": 35,
          "metadata": {},
          "output_type": "execute_result"
        }
      ],
      "source": [
        "# YOUR CODE HERE\n",
        "embedding = nn.Embedding(len(ctoi),50)\n",
        "\n",
        "embedding(text_to_tensor(text_data[:10], ctoi))"
      ]
    },
    {
      "cell_type": "markdown",
      "id": "26f7a5e3-f137-49ef-a135-a855029b724b",
      "metadata": {
        "deletable": false,
        "id": "26f7a5e3-f137-49ef-a135-a855029b724b",
        "nbgrader": {
          "cell_type": "markdown",
          "checksum": "ba287efa3849a2ddcb98b94b287fd199",
          "grade": true,
          "grade_id": "cell-4065672821a5801f",
          "locked": false,
          "points": 0,
          "schema_version": 3,
          "solution": true,
          "task": false
        }
      },
      "source": []
    },
    {
      "cell_type": "markdown",
      "id": "7ebc7b1c-6469-4c63-9965-7a7f39734302",
      "metadata": {
        "deletable": false,
        "editable": false,
        "id": "7ebc7b1c-6469-4c63-9965-7a7f39734302",
        "nbgrader": {
          "cell_type": "markdown",
          "checksum": "6897eae892e4aa50cceac9bca0a83f82",
          "grade": false,
          "grade_id": "base-rnn",
          "locked": true,
          "points": 2,
          "schema_version": 3,
          "solution": false,
          "task": true
        }
      },
      "source": [
        "**(Question)** Setup a single-layer RNN with `nn.RNN` (without defining a custom class). Use `hidden_dim` size for hidden states. Explain precisely the outputs of this layer for a given input sequence."
      ]
    },
    {
      "cell_type": "code",
      "execution_count": 36,
      "id": "162dd7af-cf96-4279-b512-1507433c7826",
      "metadata": {
        "deletable": false,
        "id": "162dd7af-cf96-4279-b512-1507433c7826",
        "nbgrader": {
          "cell_type": "code",
          "checksum": "095b1c904c7c5fa3d5371de208f7300a",
          "grade": true,
          "grade_id": "cell-c0b3cdd14603b6d1",
          "locked": false,
          "points": 0,
          "schema_version": 3,
          "solution": true,
          "task": false
        }
      },
      "outputs": [],
      "source": [
        "# YOUR CODE HERE\n",
        "rnn = nn.RNN(input_size=5, hidden_size=20)"
      ]
    },
    {
      "cell_type": "markdown",
      "id": "56780e84-8767-4941-ba0a-2047b106fc35",
      "metadata": {
        "deletable": false,
        "id": "56780e84-8767-4941-ba0a-2047b106fc35",
        "nbgrader": {
          "cell_type": "markdown",
          "checksum": "2f3230528c7fabd5b26931934ac4e8b0",
          "grade": true,
          "grade_id": "cell-9c6c3e3359e2c37e",
          "locked": false,
          "points": 0,
          "schema_version": 3,
          "solution": true,
          "task": false
        }
      },
      "source": [
        "YOUR ANSWER HERE"
      ]
    },
    {
      "cell_type": "markdown",
      "id": "76df8c7a-2a3d-43a0-9666-a797d1a3dbca",
      "metadata": {
        "deletable": false,
        "editable": false,
        "id": "76df8c7a-2a3d-43a0-9666-a797d1a3dbca",
        "nbgrader": {
          "cell_type": "markdown",
          "checksum": "3993b8b02d0be0e16de189c4850bbfce",
          "grade": false,
          "grade_id": "rnn-model",
          "locked": true,
          "points": 2,
          "schema_version": 3,
          "solution": false,
          "task": true
        }
      },
      "source": [
        "**(Question)** Create a simple RNN model with a custom `nn.Module` class. It should contain: an embedding layer, a single-layer RNN, and a dense output layer. For each character of the input sequence, the model should predict the probability of the next character. The forward method should return the probabilities for next characters and the corresponding hidden states.\n",
        "After completing the class, create a model and apply the forward pass on some input text. Understand and explain the results.\n",
        "\n",
        "*Note:* depending on how you implement the loss function later, it can be convenient to return logits instead of probabilities, i.e. raw values of the output layer before any activation function."
      ]
    },
    {
      "cell_type": "code",
      "execution_count": 37,
      "id": "6cc835a8-a05f-4f78-b50e-4edbdb04305f",
      "metadata": {
        "deletable": false,
        "id": "6cc835a8-a05f-4f78-b50e-4edbdb04305f",
        "nbgrader": {
          "cell_type": "code",
          "checksum": "b587c6f505f5d3719869ae8a57fcb5c6",
          "grade": true,
          "grade_id": "cell-e55d41dd89bcf74f",
          "locked": false,
          "points": 0,
          "schema_version": 3,
          "solution": true,
          "task": false
        }
      },
      "outputs": [
        {
          "name": "stdout",
          "output_type": "stream",
          "text": [
            "L\n",
            "torch.Size([1, 72])\n",
            "tensor([[0.0070, 0.0201, 0.0138, 0.0141, 0.0211, 0.0166, 0.0084, 0.0122, 0.0067,\n",
            "         0.0124, 0.0110, 0.0154, 0.0201, 0.0080, 0.0154, 0.0173, 0.0113, 0.0115,\n",
            "         0.0167, 0.0185, 0.0108, 0.0123, 0.0078, 0.0144, 0.0140, 0.0157, 0.0148,\n",
            "         0.0125, 0.0120, 0.0098, 0.0121, 0.0264, 0.0098, 0.0104, 0.0112, 0.0120,\n",
            "         0.0199, 0.0081, 0.0179, 0.0165, 0.0164, 0.0173, 0.0145, 0.0086, 0.0104,\n",
            "         0.0102, 0.0126, 0.0112, 0.0076, 0.0136, 0.0118, 0.0166, 0.0170, 0.0172,\n",
            "         0.0132, 0.0161, 0.0164, 0.0142, 0.0113, 0.0149, 0.0144, 0.0121, 0.0172,\n",
            "         0.0198, 0.0171, 0.0118, 0.0098, 0.0087, 0.0215, 0.0203, 0.0105, 0.0197]],\n",
            "       grad_fn=<SoftmaxBackward0>)\n"
          ]
        },
        {
          "name": "stderr",
          "output_type": "stream",
          "text": [
            "C:\\Users\\ayman\\AppData\\Local\\Temp\\ipykernel_75360\\3737899659.py:31: UserWarning: Implicit dimension choice for softmax has been deprecated. Change the call to include dim=X as an argument.\n",
            "  output = F.softmax(logits)\n"
          ]
        }
      ],
      "source": [
        "class CharRNN(nn.Module):\n",
        "    def __init__(self, vocab_size, embedding_dim, hidden_dim, num_layers=1):\n",
        "        '''Initialize model parameters and layers.'''\n",
        "        super().__init__()\n",
        "        # YOUR CODE HERE\n",
        "        self.embedding = nn.Embedding(vocab_size,embedding_dim)\n",
        "        self.rnn = nn.RNN(input_size=embedding_dim, hidden_size=hidden_dim, num_layers=num_layers)\n",
        "        self.dense = nn.Linear(hidden_dim, vocab_size)\n",
        "\n",
        "    def forward(self, tensor_data, hidden_state=None):\n",
        "        '''Apply the forward pass for some text data already converted to tensor.'''\n",
        "        # YOUR CODE HERE\n",
        "        embedding = self.embedding(tensor_data)\n",
        "        output, hidden = self.rnn(embedding, hidden_state)\n",
        "        logits = self.dense(output)\n",
        "        return logits, hidden\n",
        "\n",
        "# Initialize a model and apply the forward pass on some input text\n",
        "# YOUR CODE HERE\n",
        "\n",
        "\n",
        "vocab_size = len(ctoi)\n",
        "embedding_dim = 200\n",
        "hidden_dim = 100\n",
        "\n",
        "charRNN = CharRNN(vocab_size,embedding_dim,hidden_dim)\n",
        "logits, _ = charRNN.forward(text_to_tensor(text_data[:1],ctoi))\n",
        "\n",
        "print(text_data[0])\n",
        "print(logits.shape)\n",
        "output = F.softmax(logits)\n",
        "print(output)"
      ]
    },
    {
      "cell_type": "markdown",
      "id": "80eb09a2-2c5e-4dd6-922e-a7f0c6cbff85",
      "metadata": {
        "deletable": false,
        "id": "80eb09a2-2c5e-4dd6-922e-a7f0c6cbff85",
        "nbgrader": {
          "cell_type": "markdown",
          "checksum": "ae8f4a875df816da1463fc833e40cea4",
          "grade": true,
          "grade_id": "cell-093600fc493e6e4f",
          "locked": false,
          "points": 0,
          "schema_version": 3,
          "solution": true,
          "task": false
        }
      },
      "source": [
        "YOUR ANSWER HERE"
      ]
    },
    {
      "cell_type": "markdown",
      "id": "41614741-8bf2-4ead-8205-788623404a27",
      "metadata": {
        "deletable": false,
        "editable": false,
        "id": "41614741-8bf2-4ead-8205-788623404a27",
        "nbgrader": {
          "cell_type": "markdown",
          "checksum": "9bb6ca5b49b7c8b46253cf2a7f1200c5",
          "grade": false,
          "grade_id": "rnn-overfit",
          "locked": true,
          "schema_version": 3,
          "solution": false,
          "task": false
        }
      },
      "source": [
        "**(Question)** Implement a simple training loop to overfit on a small input sequence. The loss function should be a categorical cross entropy on the predicted characters. Monitor the loss function value over the iterations."
      ]
    },
    {
      "cell_type": "code",
      "execution_count": 38,
      "id": "474f97eb-685f-41c1-8249-1eb4df9e168c",
      "metadata": {
        "colab": {
          "base_uri": "https://localhost:8080/",
          "height": 442
        },
        "deletable": false,
        "id": "474f97eb-685f-41c1-8249-1eb4df9e168c",
        "nbgrader": {
          "cell_type": "code",
          "checksum": "fa15210da5aabdca4ecf3228efec88be",
          "grade": true,
          "grade_id": "cell-1904f4989149b1ef",
          "locked": false,
          "points": 3,
          "schema_version": 3,
          "solution": true,
          "task": false
        },
        "outputId": "36089518-13b4-4dc8-8cea-4f9c680adb96"
      },
      "outputs": [
        {
          "name": "stdout",
          "output_type": "stream",
          "text": [
            "tensor([25, 44, 67, 10, 41, 25, 44, 20]) tensor([67])\n",
            "torch.Size([8]) torch.Size([8])\n",
            "Iteration 10/200, Loss: 2.2508349418640137\n",
            "Iteration 20/200, Loss: 0.1759185940027237\n",
            "Iteration 30/200, Loss: 0.027652131393551826\n",
            "Iteration 40/200, Loss: 0.007345334626734257\n",
            "Iteration 50/200, Loss: 0.0034764930605888367\n",
            "Iteration 60/200, Loss: 0.002715783193707466\n",
            "Iteration 70/200, Loss: 0.002596323611214757\n",
            "Iteration 80/200, Loss: 0.002659213962033391\n",
            "Iteration 90/200, Loss: 0.0027965474873781204\n",
            "Iteration 100/200, Loss: 0.0029749737586826086\n",
            "Iteration 110/200, Loss: 0.0031818565912544727\n",
            "Iteration 120/200, Loss: 0.0034112045541405678\n",
            "Iteration 130/200, Loss: 0.003659548470750451\n",
            "Iteration 140/200, Loss: 0.0039240713231265545\n",
            "Iteration 150/200, Loss: 0.004202090669423342\n"
          ]
        },
        {
          "name": "stdout",
          "output_type": "stream",
          "text": [
            "Iteration 160/200, Loss: 0.004490645136684179\n",
            "Iteration 170/200, Loss: 0.004786449484527111\n",
            "Iteration 180/200, Loss: 0.005086120218038559\n",
            "Iteration 190/200, Loss: 0.005385922268033028\n",
            "Iteration 200/200, Loss: 0.005682464689016342\n"
          ]
        }
      ],
      "source": [
        "# Sample a small input sequence into tensor `input_seq` and store its corresponding expected sequence into tensor `target_seq`\n",
        "# YOUR CODE HERE\n",
        "vocab_size = len(ctoi)\n",
        "embedding_dim = 20\n",
        "hidden_dim = 100\n",
        "input_seq = text_to_tensor(text_data[:10], ctoi)\n",
        "input_seq, last_seq = input_seq[:-2], input_seq[-1:]\n",
        "print(input_seq, last_seq)\n",
        "\n",
        "target_seq = torch.cat([input_seq[1:], last_seq])\n",
        "\n",
        "criterion = nn.CrossEntropyLoss()\n",
        "\n",
        "print(input_seq.shape, target_seq.shape)\n",
        "\n",
        "# Implement a training loop overfitting an input sequence and monitoring the loss function\n",
        "def train_overfit(model, input_seq, target_seq, n_iters=200, learning_rate=0.02):\n",
        "    # YOUR CODE HERE\n",
        "    optimizer = torch.optim.SGD(model.parameters(), lr = learning_rate, weight_decay=5e-3, momentum=0.9)\n",
        "    hidden = None\n",
        "\n",
        "    for iter in range(1, n_iters + 1):\n",
        "      logits, hidden = model.forward(input_seq, hidden)\n",
        "      hidden = hidden.detach() #Once we update the hidden state we need to detach it, to not backpropagate through it in the next batch\n",
        "      #output = F.softmax(logits, dim=1)\n",
        "      loss = criterion(logits, target_seq)\n",
        "\n",
        "      optimizer.zero_grad()\n",
        "      loss.backward()\n",
        "      optimizer.step()\n",
        "\n",
        "      if iter % 10 == 0:\n",
        "          print(f'Iteration {iter}/{n_iters}, Loss: {loss.item()}')\n",
        "\n",
        "\n",
        "\n",
        "# Initialize a model and make it overfit the input sequence\n",
        "# YOUR CODE HERE\n",
        "\n",
        "charRNN = CharRNN(vocab_size, embedding_dim, hidden_dim)\n",
        "train_overfit(charRNN, input_seq, target_seq)"
      ]
    },
    {
      "cell_type": "markdown",
      "id": "68c66f34-7afb-4920-b6d2-5642d28a0770",
      "metadata": {
        "deletable": false,
        "editable": false,
        "id": "68c66f34-7afb-4920-b6d2-5642d28a0770",
        "nbgrader": {
          "cell_type": "markdown",
          "checksum": "9cd6d0a90166cea96ce250f8d8f2e083",
          "grade": false,
          "grade_id": "rnn-argmax",
          "locked": true,
          "points": 2,
          "schema_version": 3,
          "solution": false,
          "task": true
        }
      },
      "source": [
        "**(Question)** Implement a `predict_argmax` method for your `RNN` model. Then, verify your overfitting: use some characters of your input sequence as context to predict the remaining ones. Experiment with the current model and analyze the results."
      ]
    },
    {
      "cell_type": "code",
      "execution_count": 39,
      "id": "4d0350ae-a23a-4802-a2a5-012193ede15b",
      "metadata": {
        "colab": {
          "base_uri": "https://localhost:8080/",
          "height": 210
        },
        "deletable": false,
        "id": "4d0350ae-a23a-4802-a2a5-012193ede15b",
        "nbgrader": {
          "cell_type": "code",
          "checksum": "0114ed939e7dd8b656bd0f03bd576a89",
          "grade": true,
          "grade_id": "cell-2d706c010aeccb0d",
          "locked": false,
          "points": 0,
          "schema_version": 3,
          "solution": true,
          "task": false
        },
        "outputId": "615e47b2-8178-4d39-cb7b-ade0f6c71a1b"
      },
      "outputs": [
        {
          "name": "stdout",
          "output_type": "stream",
          "text": [
            "Iteration 10/200, Loss: 2.3578298091888428\n",
            "Iteration 20/200, Loss: 0.16633586585521698\n",
            "Iteration 30/200, Loss: 0.02181057818233967\n",
            "Iteration 40/200, Loss: 0.00830086413770914\n",
            "Iteration 50/200, Loss: 0.004669333808124065\n",
            "Iteration 60/200, Loss: 0.003719083731994033\n",
            "Iteration 70/200, Loss: 0.00346615188755095\n",
            "Iteration 80/200, Loss: 0.0034484269563108683\n",
            "Iteration 90/200, Loss: 0.003531783353537321\n",
            "Iteration 100/200, Loss: 0.003670725505799055\n",
            "Iteration 110/200, Loss: 0.0038469890132546425\n",
            "Iteration 120/200, Loss: 0.004051199648529291\n",
            "Iteration 130/200, Loss: 0.004277787636965513\n",
            "Iteration 140/200, Loss: 0.004522814881056547\n",
            "Iteration 150/200, Loss: 0.004783169366419315\n",
            "Iteration 160/200, Loss: 0.005055741406977177\n",
            "Iteration 170/200, Loss: 0.005337526556104422\n",
            "Iteration 180/200, Loss: 0.005624797195196152\n",
            "Iteration 190/200, Loss: 0.005914022680372\n",
            "Iteration 200/200, Loss: 0.0062013971619307995\n",
            " FLEUS FLEU\n"
          ]
        }
      ],
      "source": [
        "class CharRNN(CharRNN):\n",
        "    def predict_argmax(self, context_tensor, n_predictions):\n",
        "        # Apply the forward pass for the context tensor\n",
        "        # Then, store the last prediction and last hidden state\n",
        "        # YOUR CODE HERE\n",
        "        predictions = []\n",
        "        logits, hidden = self.forward(context_tensor)\n",
        "        output = F.softmax(logits, dim=1)[-1]\n",
        "        last_pred = torch.argmax(output)\n",
        "        last_pred = torch.LongTensor(last_pred).unsqueeze(-1)\n",
        "        predictions.append(last_pred)\n",
        "        # Use the last prediction and last hidden state as inputs to the next forward pass\n",
        "        # Do this in a loop to predict the next `n_predictions` characters\n",
        "        # YOUR CODE HERE\n",
        "        for _ in range(n_predictions):\n",
        "            logits, hidden = self.forward(last_pred, hidden)\n",
        "            output = F.softmax(logits, dim=1)\n",
        "            last_pred = torch.argmax(output).unsqueeze(-1)\n",
        "            predictions.append(last_pred)\n",
        "        return predictions\n",
        "\n",
        "\n",
        "# Initialize a model and make it overfit as above\n",
        "# Then, verify your overfitting by predicting characters given some context\n",
        "# YOUR CODE HERE\n",
        "\n",
        "charRNN = CharRNN(vocab_size, embedding_dim, hidden_dim)\n",
        "train_overfit(charRNN, input_seq, target_seq)\n",
        "\n",
        "print(tensor_to_text(charRNN.predict_argmax(text_to_tensor(text_data[:10],ctoi),10),itoc))\n"
      ]
    },
    {
      "cell_type": "markdown",
      "id": "4b3e9b8b-f952-43af-a2f0-084451d85759",
      "metadata": {
        "deletable": false,
        "id": "4b3e9b8b-f952-43af-a2f0-084451d85759",
        "nbgrader": {
          "cell_type": "markdown",
          "checksum": "25bd5ff990e4cf55e89b26541d0acf34",
          "grade": true,
          "grade_id": "cell-b783299fd35282d3",
          "locked": false,
          "points": 0,
          "schema_version": 3,
          "solution": true,
          "task": false
        }
      },
      "source": [
        "YOUR ANSWER HERE"
      ]
    },
    {
      "cell_type": "markdown",
      "id": "e4f5d3e9-9a68-48b8-a549-0fc2b9f2b2ff",
      "metadata": {
        "deletable": false,
        "editable": false,
        "id": "e4f5d3e9-9a68-48b8-a549-0fc2b9f2b2ff",
        "nbgrader": {
          "cell_type": "markdown",
          "checksum": "f34d247477f051d257bc1337cfc611fa",
          "grade": false,
          "grade_id": "cell-52baebc1e4eb464c",
          "locked": true,
          "schema_version": 3,
          "solution": false,
          "task": false
        }
      },
      "source": [
        "Using the argmax function to predict the next character can yield a deterministic generator always predicting the same characters. Instead, it is common to predict the next character by sampling from the distribution of output predictions, adding some randomness into the generator."
      ]
    },
    {
      "cell_type": "markdown",
      "id": "5701d4df-dca5-4884-8ac2-c8efe4fe4641",
      "metadata": {
        "deletable": false,
        "editable": false,
        "id": "5701d4df-dca5-4884-8ac2-c8efe4fe4641",
        "nbgrader": {
          "cell_type": "markdown",
          "checksum": "9cefa534edd726def1328ea0b48ed29d",
          "grade": false,
          "grade_id": "cell-e85a5e3954f17ad2",
          "locked": true,
          "schema_version": 3,
          "solution": false,
          "task": false
        }
      },
      "source": [
        "**(Question)** Implement a `predict_proba` method for your `RNN` model. It should be very similar to `predict_argmax`, but instead of using argmax, it should randomly sample from the output predictions. To do that, you can use the `torch.distribution.Categorical` class and its `sample()` method. Verify that your method correctly added some randomness."
      ]
    },
    {
      "cell_type": "code",
      "execution_count": 40,
      "metadata": {},
      "outputs": [
        {
          "name": "stdout",
          "output_type": "stream",
          "text": [
            "argmax :  tensor(2) tensor(0.3000)\n",
            "sample distribution :  tensor(3) tensor(0.2000)\n",
            "sample distribution :  tensor(8) tensor(0.1000)\n",
            "sample distribution :  tensor(2) tensor(0.3000)\n"
          ]
        }
      ],
      "source": [
        "from torch.distributions import Categorical\n",
        "\n",
        "\n",
        "tensor = torch.tensor([0.06,0.04,0.3,0.2,0.1,0.05,0.09,0.06,0.1])\n",
        "distribution = Categorical(probs=tensor)\n",
        "last_pred1 = distribution.sample()\n",
        "last_pred2 = distribution.sample()\n",
        "last_pred3 = distribution.sample()\n",
        "argmax = tensor.argmax()\n",
        "\n",
        "\n",
        "print(\"argmax : \" ,argmax, tensor[argmax])\n",
        "print(\"sample distribution : \", last_pred1, tensor[last_pred1])\n",
        "print(\"sample distribution : \", last_pred2, tensor[last_pred2])\n",
        "print(\"sample distribution : \", last_pred3, tensor[last_pred3])"
      ]
    },
    {
      "cell_type": "code",
      "execution_count": 41,
      "id": "72da1efb-39b8-496d-9c8f-cea241c41364",
      "metadata": {
        "deletable": false,
        "id": "72da1efb-39b8-496d-9c8f-cea241c41364",
        "nbgrader": {
          "cell_type": "code",
          "checksum": "2ba3d32edc8f535eb8923fb8e71c9fe4",
          "grade": true,
          "grade_id": "rnn-sample",
          "locked": false,
          "points": 2,
          "schema_version": 3,
          "solution": true,
          "task": false
        }
      },
      "outputs": [
        {
          "name": "stdout",
          "output_type": "stream",
          "text": [
            "Iteration 10/200, Loss: 3.358973979949951\n",
            "Iteration 20/200, Loss: 1.614370584487915\n",
            "Iteration 30/200, Loss: 0.868393063545227\n",
            "Iteration 40/200, Loss: 0.4838734567165375\n",
            "Iteration 50/200, Loss: 0.31867921352386475\n",
            "Iteration 60/200, Loss: 0.18157970905303955\n",
            "Iteration 70/200, Loss: 0.0910157784819603\n",
            "Iteration 80/200, Loss: 0.0518941730260849\n",
            "Iteration 90/200, Loss: 0.035380344837903976\n",
            "Iteration 100/200, Loss: 0.027599308639764786\n",
            "Iteration 110/200, Loss: 0.02338743954896927\n",
            "Iteration 120/200, Loss: 0.02085047774016857\n",
            "Iteration 130/200, Loss: 0.01919364742934704\n",
            "Iteration 140/200, Loss: 0.01804051548242569\n",
            "Iteration 150/200, Loss: 0.01719873584806919\n",
            "Iteration 160/200, Loss: 0.016563240438699722\n",
            "Iteration 170/200, Loss: 0.016072111204266548\n",
            "Iteration 180/200, Loss: 0.015685953199863434\n",
            "Iteration 190/200, Loss: 0.015378683805465698\n",
            "Iteration 200/200, Loss: 0.015132136642932892\n",
            "SîSsmVûEf'èufcaHûQFyn\n"
          ]
        }
      ],
      "source": [
        "class CharRNN(CharRNN):\n",
        "    def predict_proba(self, input_context, n_predictions):\n",
        "        # YOUR CODE HERE\n",
        "        predictions = []\n",
        "        logits, hidden = self.forward(input_context)\n",
        "        output = F.softmax(logits, dim=1)[-1]\n",
        "        from torch.distributions import Categorical\n",
        "        distribution = Categorical(probs=output)\n",
        "        last_pred = distribution.sample()\n",
        "        #max_pred = torch.argmax(output)\n",
        "        #print(last_pred, max_pred, max(output))\n",
        "        last_pred = torch.LongTensor(last_pred).unsqueeze(-1)\n",
        "        predictions.append(last_pred)\n",
        "        # Use the last prediction and last hidden state as inputs to the next forward pass\n",
        "        # Do this in a loop to predict the next `n_predictions` characters\n",
        "        # YOUR CODE HERE\n",
        "        for _ in range(n_predictions):\n",
        "            logits, hidden = self.forward(last_pred, hidden)\n",
        "            output = F.softmax(logits, dim=1)\n",
        "            #last_pred = torch.argmax(output).unsqueeze(-1)     \n",
        "            distribution = Categorical(logits=output)\n",
        "            last_pred = distribution.sample()\n",
        "            predictions.append(last_pred)\n",
        "        return predictions\n",
        "        \n",
        "\n",
        "# Verify that your predictions are not deterministic anymore\n",
        "# YOUR CODE HERE\n",
        "\n",
        "vocab_size = len(ctoi)\n",
        "embedding_dim = 5\n",
        "hidden_dim = 50    \n",
        "\n",
        "\n",
        "charRNN = CharRNN(vocab_size, embedding_dim, hidden_dim)\n",
        "train_overfit(charRNN, input_seq, target_seq)\n",
        "\n",
        "print(tensor_to_text(charRNN.predict_proba(text_to_tensor(text_data[:10],ctoi),20),itoc))\n"
      ]
    },
    {
      "cell_type": "markdown",
      "id": "9912f5cc-3627-41e8-b5ef-6d30f7c4868a",
      "metadata": {
        "deletable": false,
        "editable": false,
        "id": "9912f5cc-3627-41e8-b5ef-6d30f7c4868a",
        "nbgrader": {
          "cell_type": "markdown",
          "checksum": "e56bfe8d33a343e270cfe35720aeea26",
          "grade": false,
          "grade_id": "cell-6389d46b2b8abaa0",
          "locked": true,
          "schema_version": 3,
          "solution": false,
          "task": false
        }
      },
      "source": [
        "## 3. Train the RNN model on text data"
      ]
    },
    {
      "cell_type": "markdown",
      "id": "8024df30-af42-4ca9-be0e-16614ead56cb",
      "metadata": {
        "deletable": false,
        "editable": false,
        "id": "8024df30-af42-4ca9-be0e-16614ead56cb",
        "nbgrader": {
          "cell_type": "markdown",
          "checksum": "44f87a393c4ae266b59141953d170a7e",
          "grade": false,
          "grade_id": "rnn-train",
          "locked": true,
          "points": 4,
          "schema_version": 3,
          "solution": false,
          "task": true
        }
      },
      "source": [
        "**(Question)** Adapt your previous code to implement a proper training loop for a text dataset. To do so, we need to specify a sequence length `seq_len`, acting similarly to the batch size in classic neural networks. Then, you can either randomly sample sequences of length `seq_len` from the text dataset over `n_iters` iterations, or properly loop over the text dataset for `n_epochs` epochs (with a random starting point for each epoch to ensure different sequences), to make sure the whole dataset is seen by the model. Feel free to adjust training and model parameters empirically. Start with a small model and a small subset of the text dataset, then move on to larger experiments. Remember to use GPU if available."
      ]
    },
    {
      "cell_type": "code",
      "execution_count": 42,
      "id": "f65d237e-d095-45c4-ab12-6307a5bda255",
      "metadata": {
        "deletable": false,
        "id": "f65d237e-d095-45c4-ab12-6307a5bda255",
        "nbgrader": {
          "cell_type": "code",
          "checksum": "17faecb7751e77b7fe8cae66820687ea",
          "grade": true,
          "grade_id": "cell-a4695fabcf78e1a8",
          "locked": false,
          "points": 0,
          "schema_version": 3,
          "solution": true,
          "task": false
        }
      },
      "outputs": [
        {
          "name": "stdout",
          "output_type": "stream",
          "text": [
            "tensor([25, 44, 67, 10, 41, 25, 44, 20,  1, 67, 10, 13, 20, 10, 68, 62])\n"
          ]
        },
        {
          "name": "stdout",
          "output_type": "stream",
          "text": [
            "Epoch 1, Loss: 2.758643388748169\n",
            "Epoch 2, Loss: 2.8383214473724365\n",
            "Epoch 3, Loss: 2.5508549213409424\n",
            "Epoch 4, Loss: 2.9029555320739746\n",
            "Epoch 5, Loss: 3.0752131938934326\n",
            "Epoch 6, Loss: 2.8168880939483643\n",
            "Epoch 7, Loss: 2.9333038330078125\n",
            "Epoch 8, Loss: 2.0109949111938477\n",
            "Epoch 9, Loss: 2.728416681289673\n",
            "Epoch 10, Loss: 2.8701605796813965\n",
            "Epoch 11, Loss: 1.8708546161651611\n",
            "Epoch 12, Loss: 2.7119500637054443\n",
            "Epoch 13, Loss: 2.2926745414733887\n",
            "Epoch 14, Loss: 2.2959446907043457\n",
            "Epoch 15, Loss: 2.2324752807617188\n",
            "Epoch 16, Loss: 2.3488385677337646\n",
            "Epoch 17, Loss: 2.0884361267089844\n",
            "Epoch 18, Loss: 2.1759555339813232\n",
            "Epoch 19, Loss: 2.146421432495117\n",
            "Epoch 20, Loss: 2.008077383041382\n"
          ]
        }
      ],
      "source": [
        "# Create the text dataset, compute its mappings and convert it to tensor\n",
        "# YOUR CODE HERE\n",
        "seq_len = 16\n",
        "dataset_size = int(len(text_data) / seq_len)\n",
        "text_dataset_input = torch.empty((dataset_size, seq_len)).long()\n",
        "text_dataset_output = torch.empty((dataset_size, seq_len)).long()\n",
        "for i in range(1,len(text_data), seq_len):\n",
        "    target_input = text_to_tensor(text_data[i-1:i-1+seq_len], ctoi)\n",
        "    target_output = text_to_tensor(text_data[i:i + seq_len], ctoi)\n",
        "    if target_input.size(dim=0) != seq_len:\n",
        "        pad = torch.cat([torch.tensor([len(ctoi) - 1]) for _ in range(seq_len - target_input.size(dim=0))])\n",
        "        target_input = torch.cat((target_input,pad))\n",
        "    if target_output.size(dim=0) != seq_len:\n",
        "        pad = torch.cat([torch.tensor([len(ctoi) - 1]) for _ in range(seq_len - target_output.size(dim=0))])\n",
        "        target_output = torch.cat((target_output,pad))\n",
        "    text_dataset_input[int(i / seq_len)] = target_input\n",
        "    text_dataset_output[int(i / seq_len)] = target_output\n",
        "#print(text_to_tensor(text_data[i:i+seq_len],ctoi))\n",
        "print(text_dataset_input[0])\n",
        "\n",
        "# Initialize training parameters\n",
        "# YOUR CODE HERE\n",
        "vocab_size = len(ctoi)\n",
        "embedding_dim = 16\n",
        "hidden_dim = 16\n",
        "n_epochs = 16\n",
        "# Initialize a character-level RNN model\n",
        "# YOUR CODE HERE\n",
        "textRNN = CharRNN(vocab_size, embedding_dim, hidden_dim)\n",
        "\n",
        "optimizer = torch.optim.SGD(textRNN.parameters(), lr = 0.01)#, weight_decay=5e-3, momentum=0.9)\n",
        "criterion = nn.CrossEntropyLoss()\n",
        "# Setup the training loop\n",
        "# Regularly record the loss and sample from the model to monitor what is happening\n",
        "# YOUR CODE HERE\n",
        "def fit(model, text_dataset_input, text_dataset_output, dataset_size,n_epochs, optimizer):\n",
        "  indices = torch.randperm(dataset_size) #randomly permute the indices\n",
        "  for iter in range(1, n_epochs + 1):\n",
        "        indices = torch.randperm(dataset_size) #randomly permute the indices\n",
        "        hidden = None\n",
        "        for i in range(dataset_size): \n",
        "          logits, hidden = model(text_dataset_input[indices[i]],hidden)\n",
        "          hidden = hidden.detach() #Once we update the hidden state we need to detach it, to not backpropagate through it in the next batch\n",
        "          loss = criterion(logits, text_dataset_output[indices[i]])\n",
        "          optimizer.zero_grad()\n",
        "          loss.backward()\n",
        "          optimizer.step()\n",
        "\n",
        "        \n",
        "        print(f'Epoch {iter}, Loss: {loss.item()}')\n",
        "  return model\n",
        "\n",
        "textRNN = fit(textRNN, text_dataset_input, text_dataset_output, dataset_size, n_epochs, optimizer)\n",
        "      "
      ]
    },
    {
      "cell_type": "markdown",
      "id": "7a318abd-5c3c-462d-9944-9aec1f78446c",
      "metadata": {
        "deletable": false,
        "editable": false,
        "id": "7a318abd-5c3c-462d-9944-9aec1f78446c",
        "nbgrader": {
          "cell_type": "markdown",
          "checksum": "113032562a0b82e504d636abf3164360",
          "grade": false,
          "grade_id": "rnn-predict",
          "locked": true,
          "points": 2,
          "schema_version": 3,
          "solution": false,
          "task": true
        }
      },
      "source": [
        "**(Question)** From your trained model, play around with its predictions: start with a custom input sequence and ask the model to predict the rest. Analyze and comment your results."
      ]
    },
    {
      "cell_type": "code",
      "execution_count": 43,
      "id": "53d516b1-477c-4237-956a-471062dd6019",
      "metadata": {
        "deletable": false,
        "id": "53d516b1-477c-4237-956a-471062dd6019",
        "nbgrader": {
          "cell_type": "code",
          "checksum": "5bd724d3a1f3ba5d0b965b9cf7905160",
          "grade": true,
          "grade_id": "cell-08bfe03b817a9908",
          "locked": false,
          "points": 0,
          "schema_version": 3,
          "solution": true,
          "task": false
        }
      },
      "outputs": [
        {
          "name": "stdout",
          "output_type": "stream",
          "text": [
            "\n",
            "\n",
            "\n",
            "\n",
            "\n",
            "\n",
            "\n",
            "\n",
            "\n",
            "\n",
            "\n",
            "\n",
            "\n",
            "\n",
            "\n",
            "\n",
            "\n",
            "\n",
            "\n",
            "\n",
            "\n",
            "\n",
            "\n",
            "\n",
            "\n",
            "\n",
            "\n",
            "\n",
            "\n",
            "\n",
            "\n",
            "\n",
            "\n",
            "\n",
            "\n",
            "\n",
            "\n",
            "\n",
            "\n",
            "\n",
            "\n",
            "\n",
            "\n",
            "\n",
            "\n",
            "\n",
            "\n",
            "\n",
            "\n",
            "\n",
            "\n",
            "\n",
            "\n",
            "\n",
            "\n",
            "\n",
            "\n",
            "\n",
            "\n",
            "\n",
            "\n",
            "\n",
            "\n",
            "\n",
            "\n",
            "\n",
            "\n",
            "\n",
            "\n",
            "\n",
            "\n",
            "\n",
            "\n",
            "\n",
            "\n",
            "\n",
            "\n",
            "\n",
            "\n",
            "\n",
            "\n",
            "\n",
            "\n",
            "\n",
            "\n",
            "\n",
            "\n",
            "\n",
            "\n",
            "\n",
            "\n",
            "\n",
            "\n",
            "\n",
            "\n",
            "\n",
            "\n",
            "\n",
            "\n",
            "\n",
            "\n",
            "\n",
            "\n",
            "\n",
            "\n",
            "\n",
            "\n",
            "\n",
            "\n",
            "\n",
            "\n",
            "\n",
            "\n",
            "\n",
            "\n",
            "\n",
            "\n",
            "\n",
            "\n",
            "\n",
            "\n",
            "\n",
            "\n",
            "\n",
            "\n",
            "\n",
            "\n",
            "\n",
            "\n",
            "\n",
            "\n",
            "\n",
            "\n",
            "\n",
            "\n",
            "\n",
            "\n",
            "\n",
            "\n",
            "\n",
            "\n",
            "\n",
            "\n",
            "\n",
            "\n",
            "\n",
            "\n",
            "\n",
            "\n",
            "\n",
            "\n",
            "\n",
            "\n",
            "\n",
            "\n",
            "\n",
            "\n",
            "\n",
            "\n",
            "\n",
            "\n",
            "\n",
            "\n",
            "\n",
            "\n",
            "\n",
            "\n",
            "\n",
            "\n",
            "\n",
            "\n",
            "\n",
            "\n",
            "\n",
            "\n",
            "\n",
            "\n",
            "\n",
            "\n",
            "\n",
            "\n",
            "\n",
            "\n",
            "\n",
            "\n",
            "\n",
            "\n",
            "\n",
            "\n",
            "\n",
            "\n",
            "\n",
            "\n",
            "\n",
            "\n",
            "\n",
            "\n",
            "\n",
            "\n",
            "\n",
            "\n",
            "\n"
          ]
        }
      ],
      "source": [
        "# YOUR CODE HERE\n",
        "context_tensor = text_to_tensor(text_data[10:50], ctoi)\n",
        "\n",
        "print(tensor_to_text(textRNN.predict_argmax(context_tensor,200),itoc))\n"
      ]
    },
    {
      "cell_type": "markdown",
      "id": "ad02a4a5-5aab-403a-9bd3-fd752dc1dc9a",
      "metadata": {
        "deletable": false,
        "id": "ad02a4a5-5aab-403a-9bd3-fd752dc1dc9a",
        "nbgrader": {
          "cell_type": "markdown",
          "checksum": "288f4746f3c7d1906ca99b35f4a6a6e3",
          "grade": true,
          "grade_id": "cell-6b41d47e15ea128a",
          "locked": false,
          "points": 0,
          "schema_version": 3,
          "solution": true,
          "task": false
        }
      },
      "source": [
        "YOUR ANSWER HERE"
      ]
    },
    {
      "cell_type": "markdown",
      "id": "7de32122-8819-4d6b-8f7a-e96f671311d6",
      "metadata": {
        "deletable": false,
        "editable": false,
        "id": "7de32122-8819-4d6b-8f7a-e96f671311d6",
        "nbgrader": {
          "cell_type": "markdown",
          "checksum": "2eddbf9984d6a4d51a7ea1301800bdf3",
          "grade": false,
          "grade_id": "cell-a69a65798f792cfc",
          "locked": true,
          "schema_version": 3,
          "solution": false,
          "task": false
        }
      },
      "source": [
        "## 4. Experiment with different RNN architectures"
      ]
    },
    {
      "cell_type": "markdown",
      "id": "d5def498-9119-45fd-8807-8260cd0a05d8",
      "metadata": {
        "deletable": false,
        "editable": false,
        "id": "d5def498-9119-45fd-8807-8260cd0a05d8",
        "nbgrader": {
          "cell_type": "markdown",
          "checksum": "977d70928beb993f5bc6323199b1e363",
          "grade": false,
          "grade_id": "rnn-experiments",
          "locked": true,
          "points": 3,
          "schema_version": 3,
          "solution": false,
          "task": true
        }
      },
      "source": [
        "**(Question)** Experiment with different RNN architecures. Potential ideas are multi-layer RNNs, GRUs and LSTMs. All models can be extended to multi-layer using the `num_layers` parameter. Analyze and comment your results."
      ]
    },
    {
      "cell_type": "code",
      "execution_count": 44,
      "id": "38c6fe7d-d159-401d-9c7c-f7e9a5b86cba",
      "metadata": {
        "deletable": false,
        "id": "38c6fe7d-d159-401d-9c7c-f7e9a5b86cba",
        "nbgrader": {
          "cell_type": "code",
          "checksum": "77ebb731623feb1292e7758788ad56d4",
          "grade": true,
          "grade_id": "cell-7bbcfb8355f44b5d",
          "locked": false,
          "points": 0,
          "schema_version": 3,
          "solution": true,
          "task": false
        }
      },
      "outputs": [],
      "source": [
        "# YOUR CODE HERE\n",
        "class GruNN(CharRNN):\n",
        "    def __init__(self, vocab_size, embedding_dim, hidden_dim, num_layers=1):\n",
        "        '''Initialize model parameters and layers.'''\n",
        "        super().__init__(vocab_size, embedding_dim, hidden_dim, num_layers=1)\n",
        "        # YOUR CODE HERE\n",
        "        self.gru = nn.GRU(input_size=embedding_dim, hidden_size=hidden_dim, num_layers=num_layers)\n",
        "\n",
        "    def forward(self, tensor_data, hidden_state=None):\n",
        "        '''Apply the forward pass for some text data already converted to tensor.'''\n",
        "        # YOUR CODE HERE\n",
        "        embedding = self.embedding(tensor_data)\n",
        "        output, hidden = self.gru(embedding, hidden_state)\n",
        "        logits = self.dense(output)\n",
        "        return logits, hidden"
      ]
    },
    {
      "cell_type": "code",
      "execution_count": 55,
      "metadata": {},
      "outputs": [],
      "source": [
        "# YOUR CODE HERE\n",
        "class LSTMNN(CharRNN):\n",
        "    def __init__(self, vocab_size, embedding_dim, hidden_dim, num_layers=1):\n",
        "        '''Initialize model parameters and layers.'''\n",
        "        super().__init__(vocab_size, embedding_dim, hidden_dim)\n",
        "        # YOUR CODE HERE\n",
        "        self.lstm = nn.LSTM(input_size=embedding_dim, hidden_size=hidden_dim, num_layers=num_layers)\n",
        "\n",
        "    def forward(self, tensor_data, hidden_state=None, c=None):\n",
        "        '''Apply the forward pass for some text data already converted to tensor.'''\n",
        "        # YOUR CODE HERE\n",
        "        embedding = self.embedding(tensor_data)\n",
        "        output, (hidden, c) = self.lstm(embedding, hidden_state, c)\n",
        "        logits = self.dense(output)\n",
        "        return logits, hidden, c\n",
        "\n",
        "def fit_lstm(model, text_dataset_input, text_dataset_output, dataset_size,n_epochs, optimizer):\n",
        "  indices = torch.randperm(dataset_size) #randomly permute the indices\n",
        "  for iter in range(1, n_epochs + 1):\n",
        "        indices = torch.randperm(dataset_size) #randomly permute the indices\n",
        "        hidden = None\n",
        "        c = None\n",
        "        for i in range(dataset_size): \n",
        "          logits, (hidden, c) = model(text_dataset_input[indices[i]],hidden, c)\n",
        "          hidden = hidden.detach() #Once we update the hidden state we need to detach it, to not backpropagate through it in the next batch\n",
        "          c = c.detach()\n",
        "          loss = criterion(logits, text_dataset_output[indices[i]])\n",
        "          optimizer.zero_grad()\n",
        "          loss.backward()\n",
        "          optimizer.step()\n",
        "\n",
        "        \n",
        "        print(f'Epoch {iter}, Loss: {loss.item()}')\n",
        "  return model"
      ]
    },
    {
      "cell_type": "code",
      "execution_count": 46,
      "metadata": {},
      "outputs": [],
      "source": [
        "vocab_size = len(ctoi)\n",
        "embedding_dim = 32\n",
        "hidden_dim = 16\n",
        "\n",
        "n_epochs = 20"
      ]
    },
    {
      "cell_type": "code",
      "execution_count": 47,
      "metadata": {},
      "outputs": [],
      "source": [
        "context_tensor = text_to_tensor(text_data[10:50], ctoi)"
      ]
    },
    {
      "cell_type": "code",
      "execution_count": 48,
      "metadata": {},
      "outputs": [
        {
          "name": "stdout",
          "output_type": "stream",
          "text": [
            "Epoch 1, Loss: 2.9483582973480225\n",
            "Epoch 2, Loss: 2.4559316635131836\n",
            "Epoch 3, Loss: 3.0863142013549805\n",
            "Epoch 4, Loss: 2.7661280632019043\n",
            "Epoch 5, Loss: 2.2989284992218018\n",
            "Epoch 6, Loss: 2.3460638523101807\n",
            "Epoch 7, Loss: 2.4761457443237305\n",
            "Epoch 8, Loss: 2.4451935291290283\n",
            "Epoch 9, Loss: 2.373699426651001\n",
            "Epoch 10, Loss: 2.1268067359924316\n",
            "Epoch 11, Loss: 2.1940388679504395\n",
            "Epoch 12, Loss: 2.4814724922180176\n",
            "Epoch 13, Loss: 2.5526845455169678\n",
            "Epoch 14, Loss: 2.6189045906066895\n",
            "Epoch 15, Loss: 1.8712354898452759\n",
            "Epoch 16, Loss: 2.301795482635498\n",
            "Epoch 17, Loss: 2.7008726596832275\n",
            "Epoch 18, Loss: 2.039731502532959\n",
            "Epoch 19, Loss: 2.8939640522003174\n",
            "Epoch 20, Loss: 2.1882810592651367\n"
          ]
        }
      ],
      "source": [
        "multilayer_rnn = CharRNN(vocab_size, embedding_dim, hidden_dim, num_layers=4)\n",
        "optimizer = torch.optim.SGD(multilayer_rnn.parameters(), lr = 0.01)#, weight_decay=5e-3, momentum=0.9)\n",
        "\n",
        "multilayer_rnn = fit(multilayer_rnn, text_dataset_input, text_dataset_output, dataset_size, n_epochs, optimizer)"
      ]
    },
    {
      "cell_type": "code",
      "execution_count": 49,
      "metadata": {},
      "outputs": [
        {
          "name": "stdout",
          "output_type": "stream",
          "text": [
            "\n",
            "\n",
            "\n",
            "\n",
            "\n",
            "\n",
            "L'Et d'ant les pais et le pais et le pais et le pais et le pais et le pais et le pais et le pais et le pais et le pais et le pais et le pais et le pais et le pais et le pais et le pais et le pais\n"
          ]
        }
      ],
      "source": [
        "print(tensor_to_text(multilayer_rnn.predict_argmax(context_tensor,200),itoc))"
      ]
    },
    {
      "cell_type": "code",
      "execution_count": 50,
      "metadata": {},
      "outputs": [
        {
          "name": "stdout",
          "output_type": "stream",
          "text": [
            "Epoch 1, Loss: 3.244809627532959\n",
            "Epoch 2, Loss: 2.8710639476776123\n",
            "Epoch 3, Loss: 3.087885618209839\n",
            "Epoch 4, Loss: 2.854846954345703\n",
            "Epoch 5, Loss: 2.9981679916381836\n",
            "Epoch 6, Loss: 2.9538776874542236\n",
            "Epoch 7, Loss: 2.749758720397949\n",
            "Epoch 8, Loss: 3.282749652862549\n",
            "Epoch 9, Loss: 3.024132490158081\n",
            "Epoch 10, Loss: 3.1337473392486572\n",
            "Epoch 11, Loss: 3.443592071533203\n",
            "Epoch 12, Loss: 2.89670729637146\n",
            "Epoch 13, Loss: 2.857091188430786\n",
            "Epoch 14, Loss: 3.180155038833618\n",
            "Epoch 15, Loss: 2.6948320865631104\n",
            "Epoch 16, Loss: 3.2492191791534424\n",
            "Epoch 17, Loss: 2.766862392425537\n",
            "Epoch 18, Loss: 2.833197593688965\n",
            "Epoch 19, Loss: 3.1480019092559814\n",
            "Epoch 20, Loss: 2.7279279232025146\n"
          ]
        }
      ],
      "source": [
        "\n",
        "\n",
        "multilayer_gru = GruNN(vocab_size, embedding_dim, hidden_dim, num_layers=4)\n",
        "optimizer = torch.optim.SGD(multilayer_gru.parameters(), lr = 0.01)#, weight_decay=5e-3, momentum=0.9)\n",
        "multilayer_gru = fit(multilayer_gru, text_dataset_input, text_dataset_output, dataset_size, n_epochs, optimizer)\n"
      ]
    },
    {
      "cell_type": "code",
      "execution_count": 51,
      "metadata": {},
      "outputs": [
        {
          "name": "stdout",
          "output_type": "stream",
          "text": [
            " e oe e e e e e oe e e e e e oe e e e e e oe e e e e e oe e e e e e oe e e e e e oe e e e e e oe e e e e e oe e e e e e oe e e e e e oe e e e e e oe e e e e e oe e e e e e oe e e e e e oe e e e e e oe \n"
          ]
        }
      ],
      "source": [
        "print(tensor_to_text(multilayer_gru.predict_argmax(context_tensor,200),itoc))"
      ]
    },
    {
      "cell_type": "code",
      "execution_count": 56,
      "metadata": {},
      "outputs": [
        {
          "ename": "TypeError",
          "evalue": "LSTM.forward() takes from 2 to 3 positional arguments but 4 were given",
          "output_type": "error",
          "traceback": [
            "\u001b[1;31m---------------------------------------------------------------------------\u001b[0m",
            "\u001b[1;31mTypeError\u001b[0m                                 Traceback (most recent call last)",
            "\u001b[1;32mc:\\Users\\ayman\\IS319-Deep-Learning\\tp3\\dl_tp3.ipynb Cell 43\u001b[0m line \u001b[0;36m4\n\u001b[0;32m      <a href='vscode-notebook-cell:/c%3A/Users/ayman/IS319-Deep-Learning/tp3/dl_tp3.ipynb#X61sZmlsZQ%3D%3D?line=0'>1</a>\u001b[0m multilayer_lstm \u001b[39m=\u001b[39m LSTMNN(vocab_size, embedding_dim, hidden_dim, num_layers\u001b[39m=\u001b[39m\u001b[39m4\u001b[39m)\n\u001b[0;32m      <a href='vscode-notebook-cell:/c%3A/Users/ayman/IS319-Deep-Learning/tp3/dl_tp3.ipynb#X61sZmlsZQ%3D%3D?line=1'>2</a>\u001b[0m optimizer \u001b[39m=\u001b[39m torch\u001b[39m.\u001b[39moptim\u001b[39m.\u001b[39mSGD(multilayer_lstm\u001b[39m.\u001b[39mparameters(), lr \u001b[39m=\u001b[39m \u001b[39m0.01\u001b[39m)\u001b[39m#, weight_decay=5e-3, momentum=0.9)\u001b[39;00m\n\u001b[1;32m----> <a href='vscode-notebook-cell:/c%3A/Users/ayman/IS319-Deep-Learning/tp3/dl_tp3.ipynb#X61sZmlsZQ%3D%3D?line=3'>4</a>\u001b[0m multilayer_lstm \u001b[39m=\u001b[39m fit_lstm(multilayer_lstm, text_dataset_input, text_dataset_output, dataset_size, n_epochs, optimizer)\n",
            "\u001b[1;32mc:\\Users\\ayman\\IS319-Deep-Learning\\tp3\\dl_tp3.ipynb Cell 43\u001b[0m line \u001b[0;36m2\n\u001b[0;32m     <a href='vscode-notebook-cell:/c%3A/Users/ayman/IS319-Deep-Learning/tp3/dl_tp3.ipynb#X61sZmlsZQ%3D%3D?line=21'>22</a>\u001b[0m c \u001b[39m=\u001b[39m \u001b[39mNone\u001b[39;00m\n\u001b[0;32m     <a href='vscode-notebook-cell:/c%3A/Users/ayman/IS319-Deep-Learning/tp3/dl_tp3.ipynb#X61sZmlsZQ%3D%3D?line=22'>23</a>\u001b[0m \u001b[39mfor\u001b[39;00m i \u001b[39min\u001b[39;00m \u001b[39mrange\u001b[39m(dataset_size): \n\u001b[1;32m---> <a href='vscode-notebook-cell:/c%3A/Users/ayman/IS319-Deep-Learning/tp3/dl_tp3.ipynb#X61sZmlsZQ%3D%3D?line=23'>24</a>\u001b[0m   logits, (hidden, c) \u001b[39m=\u001b[39m model(text_dataset_input[indices[i]],hidden, c)\n\u001b[0;32m     <a href='vscode-notebook-cell:/c%3A/Users/ayman/IS319-Deep-Learning/tp3/dl_tp3.ipynb#X61sZmlsZQ%3D%3D?line=24'>25</a>\u001b[0m   hidden \u001b[39m=\u001b[39m hidden\u001b[39m.\u001b[39mdetach() \u001b[39m#Once we update the hidden state we need to detach it, to not backpropagate through it in the next batch\u001b[39;00m\n\u001b[0;32m     <a href='vscode-notebook-cell:/c%3A/Users/ayman/IS319-Deep-Learning/tp3/dl_tp3.ipynb#X61sZmlsZQ%3D%3D?line=25'>26</a>\u001b[0m   c \u001b[39m=\u001b[39m c\u001b[39m.\u001b[39mdetach()\n",
            "File \u001b[1;32mc:\\Users\\ayman\\AppData\\Local\\Programs\\Python\\Python310\\lib\\site-packages\\torch\\nn\\modules\\module.py:1518\u001b[0m, in \u001b[0;36mModule._wrapped_call_impl\u001b[1;34m(self, *args, **kwargs)\u001b[0m\n\u001b[0;32m   1516\u001b[0m     \u001b[39mreturn\u001b[39;00m \u001b[39mself\u001b[39m\u001b[39m.\u001b[39m_compiled_call_impl(\u001b[39m*\u001b[39margs, \u001b[39m*\u001b[39m\u001b[39m*\u001b[39mkwargs)  \u001b[39m# type: ignore[misc]\u001b[39;00m\n\u001b[0;32m   1517\u001b[0m \u001b[39melse\u001b[39;00m:\n\u001b[1;32m-> 1518\u001b[0m     \u001b[39mreturn\u001b[39;00m \u001b[39mself\u001b[39m\u001b[39m.\u001b[39m_call_impl(\u001b[39m*\u001b[39margs, \u001b[39m*\u001b[39m\u001b[39m*\u001b[39mkwargs)\n",
            "File \u001b[1;32mc:\\Users\\ayman\\AppData\\Local\\Programs\\Python\\Python310\\lib\\site-packages\\torch\\nn\\modules\\module.py:1527\u001b[0m, in \u001b[0;36mModule._call_impl\u001b[1;34m(self, *args, **kwargs)\u001b[0m\n\u001b[0;32m   1522\u001b[0m \u001b[39m# If we don't have any hooks, we want to skip the rest of the logic in\u001b[39;00m\n\u001b[0;32m   1523\u001b[0m \u001b[39m# this function, and just call forward.\u001b[39;00m\n\u001b[0;32m   1524\u001b[0m \u001b[39mif\u001b[39;00m \u001b[39mnot\u001b[39;00m (\u001b[39mself\u001b[39m\u001b[39m.\u001b[39m_backward_hooks \u001b[39mor\u001b[39;00m \u001b[39mself\u001b[39m\u001b[39m.\u001b[39m_backward_pre_hooks \u001b[39mor\u001b[39;00m \u001b[39mself\u001b[39m\u001b[39m.\u001b[39m_forward_hooks \u001b[39mor\u001b[39;00m \u001b[39mself\u001b[39m\u001b[39m.\u001b[39m_forward_pre_hooks\n\u001b[0;32m   1525\u001b[0m         \u001b[39mor\u001b[39;00m _global_backward_pre_hooks \u001b[39mor\u001b[39;00m _global_backward_hooks\n\u001b[0;32m   1526\u001b[0m         \u001b[39mor\u001b[39;00m _global_forward_hooks \u001b[39mor\u001b[39;00m _global_forward_pre_hooks):\n\u001b[1;32m-> 1527\u001b[0m     \u001b[39mreturn\u001b[39;00m forward_call(\u001b[39m*\u001b[39margs, \u001b[39m*\u001b[39m\u001b[39m*\u001b[39mkwargs)\n\u001b[0;32m   1529\u001b[0m \u001b[39mtry\u001b[39;00m:\n\u001b[0;32m   1530\u001b[0m     result \u001b[39m=\u001b[39m \u001b[39mNone\u001b[39;00m\n",
            "\u001b[1;32mc:\\Users\\ayman\\IS319-Deep-Learning\\tp3\\dl_tp3.ipynb Cell 43\u001b[0m line \u001b[0;36m1\n\u001b[0;32m     <a href='vscode-notebook-cell:/c%3A/Users/ayman/IS319-Deep-Learning/tp3/dl_tp3.ipynb#X61sZmlsZQ%3D%3D?line=10'>11</a>\u001b[0m \u001b[39m# YOUR CODE HERE\u001b[39;00m\n\u001b[0;32m     <a href='vscode-notebook-cell:/c%3A/Users/ayman/IS319-Deep-Learning/tp3/dl_tp3.ipynb#X61sZmlsZQ%3D%3D?line=11'>12</a>\u001b[0m embedding \u001b[39m=\u001b[39m \u001b[39mself\u001b[39m\u001b[39m.\u001b[39membedding(tensor_data)\n\u001b[1;32m---> <a href='vscode-notebook-cell:/c%3A/Users/ayman/IS319-Deep-Learning/tp3/dl_tp3.ipynb#X61sZmlsZQ%3D%3D?line=12'>13</a>\u001b[0m output, (hidden, c) \u001b[39m=\u001b[39m \u001b[39mself\u001b[39;49m\u001b[39m.\u001b[39;49mlstm(embedding, hidden_state, c)\n\u001b[0;32m     <a href='vscode-notebook-cell:/c%3A/Users/ayman/IS319-Deep-Learning/tp3/dl_tp3.ipynb#X61sZmlsZQ%3D%3D?line=13'>14</a>\u001b[0m logits \u001b[39m=\u001b[39m \u001b[39mself\u001b[39m\u001b[39m.\u001b[39mdense(output)\n\u001b[0;32m     <a href='vscode-notebook-cell:/c%3A/Users/ayman/IS319-Deep-Learning/tp3/dl_tp3.ipynb#X61sZmlsZQ%3D%3D?line=14'>15</a>\u001b[0m \u001b[39mreturn\u001b[39;00m logits, hidden, c\n",
            "File \u001b[1;32mc:\\Users\\ayman\\AppData\\Local\\Programs\\Python\\Python310\\lib\\site-packages\\torch\\nn\\modules\\module.py:1518\u001b[0m, in \u001b[0;36mModule._wrapped_call_impl\u001b[1;34m(self, *args, **kwargs)\u001b[0m\n\u001b[0;32m   1516\u001b[0m     \u001b[39mreturn\u001b[39;00m \u001b[39mself\u001b[39m\u001b[39m.\u001b[39m_compiled_call_impl(\u001b[39m*\u001b[39margs, \u001b[39m*\u001b[39m\u001b[39m*\u001b[39mkwargs)  \u001b[39m# type: ignore[misc]\u001b[39;00m\n\u001b[0;32m   1517\u001b[0m \u001b[39melse\u001b[39;00m:\n\u001b[1;32m-> 1518\u001b[0m     \u001b[39mreturn\u001b[39;00m \u001b[39mself\u001b[39m\u001b[39m.\u001b[39m_call_impl(\u001b[39m*\u001b[39margs, \u001b[39m*\u001b[39m\u001b[39m*\u001b[39mkwargs)\n",
            "File \u001b[1;32mc:\\Users\\ayman\\AppData\\Local\\Programs\\Python\\Python310\\lib\\site-packages\\torch\\nn\\modules\\module.py:1527\u001b[0m, in \u001b[0;36mModule._call_impl\u001b[1;34m(self, *args, **kwargs)\u001b[0m\n\u001b[0;32m   1522\u001b[0m \u001b[39m# If we don't have any hooks, we want to skip the rest of the logic in\u001b[39;00m\n\u001b[0;32m   1523\u001b[0m \u001b[39m# this function, and just call forward.\u001b[39;00m\n\u001b[0;32m   1524\u001b[0m \u001b[39mif\u001b[39;00m \u001b[39mnot\u001b[39;00m (\u001b[39mself\u001b[39m\u001b[39m.\u001b[39m_backward_hooks \u001b[39mor\u001b[39;00m \u001b[39mself\u001b[39m\u001b[39m.\u001b[39m_backward_pre_hooks \u001b[39mor\u001b[39;00m \u001b[39mself\u001b[39m\u001b[39m.\u001b[39m_forward_hooks \u001b[39mor\u001b[39;00m \u001b[39mself\u001b[39m\u001b[39m.\u001b[39m_forward_pre_hooks\n\u001b[0;32m   1525\u001b[0m         \u001b[39mor\u001b[39;00m _global_backward_pre_hooks \u001b[39mor\u001b[39;00m _global_backward_hooks\n\u001b[0;32m   1526\u001b[0m         \u001b[39mor\u001b[39;00m _global_forward_hooks \u001b[39mor\u001b[39;00m _global_forward_pre_hooks):\n\u001b[1;32m-> 1527\u001b[0m     \u001b[39mreturn\u001b[39;00m forward_call(\u001b[39m*\u001b[39margs, \u001b[39m*\u001b[39m\u001b[39m*\u001b[39mkwargs)\n\u001b[0;32m   1529\u001b[0m \u001b[39mtry\u001b[39;00m:\n\u001b[0;32m   1530\u001b[0m     result \u001b[39m=\u001b[39m \u001b[39mNone\u001b[39;00m\n",
            "\u001b[1;31mTypeError\u001b[0m: LSTM.forward() takes from 2 to 3 positional arguments but 4 were given"
          ]
        }
      ],
      "source": [
        "multilayer_lstm = LSTMNN(vocab_size, embedding_dim, hidden_dim, num_layers=4)\n",
        "optimizer = torch.optim.SGD(multilayer_lstm.parameters(), lr = 0.01)#, weight_decay=5e-3, momentum=0.9)\n",
        "\n",
        "multilayer_lstm = fit_lstm(multilayer_lstm, text_dataset_input, text_dataset_output, dataset_size, n_epochs, optimizer)"
      ]
    },
    {
      "cell_type": "code",
      "execution_count": null,
      "metadata": {},
      "outputs": [],
      "source": [
        "print(tensor_to_text(multilayer_lstm.predict_argmax(context_tensor,200),itoc))"
      ]
    },
    {
      "cell_type": "markdown",
      "id": "13329eaa-6a48-47cf-912d-424a79680f91",
      "metadata": {
        "deletable": false,
        "id": "13329eaa-6a48-47cf-912d-424a79680f91",
        "nbgrader": {
          "cell_type": "markdown",
          "checksum": "5bffac2e6bdfed739aea204b3c40a792",
          "grade": true,
          "grade_id": "cell-3961b7f97f038a4b",
          "locked": false,
          "points": 0,
          "schema_version": 3,
          "solution": true,
          "task": false
        }
      },
      "source": [
        "YOUR ANSWER HERE"
      ]
    }
  ],
  "metadata": {
    "colab": {
      "provenance": []
    },
    "kernelspec": {
      "display_name": "Python 3 (ipykernel)",
      "language": "python",
      "name": "python3"
    },
    "language_info": {
      "codemirror_mode": {
        "name": "ipython",
        "version": 3
      },
      "file_extension": ".py",
      "mimetype": "text/x-python",
      "name": "python",
      "nbconvert_exporter": "python",
      "pygments_lexer": "ipython3",
      "version": "3.10.3"
    }
  },
  "nbformat": 4,
  "nbformat_minor": 5
}

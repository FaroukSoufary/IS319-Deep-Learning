{
 "cells": [
  {
   "cell_type": "markdown",
   "id": "abb49b5c-7533-4bf0-bcce-37373d6fa072",
   "metadata": {
    "deletable": false,
    "editable": false,
    "nbgrader": {
     "cell_type": "markdown",
     "checksum": "d1502bbeee981ecc3a7a4464df92be0c",
     "grade": false,
     "grade_id": "cell-a975d7bfb06f30ae",
     "locked": true,
     "schema_version": 3,
     "solution": false,
     "task": false
    }
   },
   "source": [
    "# IS319 - Deep Learning\n",
    "\n",
    "## TP3 - Recurrent neural networks\n",
    "\n",
    "Credits: Andrej Karpathy\n",
    "\n",
    "The goal of this TP is to experiment with recurrent neural networks for a character-level language model to generate text that looks like training text data."
   ]
  },
  {
   "cell_type": "code",
   "execution_count": 1,
   "id": "16d03ccd-089a-4553-bd96-7bd0c0f71949",
   "metadata": {},
   "outputs": [],
   "source": [
    "import torch\n",
    "import torch.nn as nn\n",
    "import torch.nn.functional as F\n",
    "import matplotlib.pyplot as plt\n",
    "device = torch.device('cuda' if torch.cuda.is_available() else 'cpu')"
   ]
  },
  {
   "cell_type": "markdown",
   "id": "c4c736b5-43df-4aca-9ba3-dd34ed8366f4",
   "metadata": {},
   "source": [
    "## 1. Text data preprocessing\n",
    "\n",
    "Several text datasets are provided, feel free to experiment with different ones throughout the TP. At the beginning, use a small subset of a given dataset (for example use only 10k characters)."
   ]
  },
  {
   "cell_type": "code",
   "execution_count": 2,
   "id": "e56a81b9-b733-4d87-b8d7-2184d5e5c2de",
   "metadata": {},
   "outputs": [
    {
     "name": "stdout",
     "output_type": "stream",
     "text": [
      "Dataset `baudelaire.txt` contains 10000 characters.\n",
      "Excerpt of the dataset:\n",
      "LES FLEURS DU MAL\n",
      "\n",
      "par\n",
      "\n",
      "CHARLES BAUDELAIRE\n",
      "\n",
      "\n",
      "AU LECTEUR\n",
      "\n",
      "\n",
      "La sottise, l'erreur, le péché, la lésine,\n",
      "Occupent nos esprits et travaillent nos corps,\n",
      "Et nous alimentons nos aimables remords,\n",
      "Comme les mendiants nourrissent leur vermine.\n",
      "\n",
      "Nos péchés sont têtus, nos repentirs sont lâches,\n",
      "Nous nous faisons payer grassement nos aveux,\n",
      "Et nous rentrons gaîment dans le chemin bourbeux,\n",
      "Croyant par de vils pleurs laver toutes nos taches.\n",
      "\n",
      "Sur l'oreiller du mal c'est Satan Trismégiste\n",
      "Qui berce longuement notre esprit enchanté,\n",
      "Et le riche métal de notre volonté\n",
      "Est tout vaporisé par ce savant chimiste.\n",
      "\n",
      "C'est le Diable qui tient les fils qui nous remuent!\n",
      "Aux objets répugnants nous trouvons des appas;\n",
      "Chaque jour vers l'Enfer nous descendons d'un pas,\n",
      "Sans horreur, à travers des ténèbres qui puent.\n",
      "\n",
      "Ainsi qu'un débauché pauvre qui baise et mange\n",
      "Le sein martyrisé d'une antique catin,\n",
      "Nous volons au passage un plaisir clandestin\n",
      "Que nous pressons bien fort comme une vieille orange.\n",
      "\n",
      "Serré, fourmillant, comme un million d'helminthes,\n",
      "Dans nos cerveaux ribote un peuple de Démons,\n",
      "Et, quand nous respirons, la Mort dans nos poumons\n",
      "Descend, fleuve invisible, avec de sourdes plaintes.\n",
      "\n",
      "Si le viol, le poison, le poignard, l'incendie,\n",
      "N'ont pas encore brodé de leurs plaisants desseins\n",
      "Le canevas banal de nos piteux destins,\n",
      "C'est que notre âme, hélas! n'est pas assez hardie.\n",
      "\n",
      "Mais parmi les chacals, les panthères, les lices,\n",
      "Les singes, les scorpions, les vautours, les serpents,\n",
      "Les monstres glapissants, hurlants, grognants, rampants\n",
      "Dans la ménagerie infâme de nos vices,\n",
      "\n",
      "Il en est un plus laid, plus méchant, plus immonde!\n",
      "Quoiqu'il ne pousse ni grands gestes ni grands cris,\n",
      "Il ferait volontiers de la terre un débris\n",
      "Et dans un bâillement avalerait le monde;\n",
      "\n",
      "C'est l'Ennui!--L'oeil chargé d'un pleur involontaire,\n",
      "Il rêve d'échafauds en fumant son houka.\n",
      "Tu le connais, lecteur, ce monstre délicat,\n",
      "--Hypocrite lecteur,--mon semblable,--mon frère!\n",
      "\n",
      "\n",
      "\n",
      "\n",
      "SPLEEN ET IDÉAL\n",
      "\n",
      "BENEDICTION\n",
      "\n",
      "\n",
      "L\n"
     ]
    }
   ],
   "source": [
    "text_data_fname = 'baudelaire.txt'  # ~0.1m characters (French)\n",
    "# text_data_fname = 'proust.txt'      # ~7.3m characters (French)\n",
    "# text_data_fname = 'shakespeare.txt' # ~0.1m characters (English)\n",
    "# text_data_fname = 'lotr.txt'        # ~2.5m characters (English)\n",
    "# text_data_fname = 'doom.c'          # ~1m characters (C Code)\n",
    "# text_data_fname = 'linux.c'         # ~11.5m characters (C code)\n",
    "\n",
    "text_data = open(text_data_fname, 'r').read()\n",
    "text_data = text_data[:10000] # use a small subset\n",
    "print(f'Dataset `{text_data_fname}` contains {len(text_data)} characters.')\n",
    "print('Excerpt of the dataset:')\n",
    "print(text_data[:2000])"
   ]
  },
  {
   "cell_type": "markdown",
   "id": "d9b9a404-8b09-4ab1-9529-98ff57650ef5",
   "metadata": {
    "deletable": false,
    "editable": false,
    "nbgrader": {
     "cell_type": "markdown",
     "checksum": "d6b030743489f86ece30d79835434297",
     "grade": false,
     "grade_id": "cell-9695c6f2cf95337c",
     "locked": true,
     "schema_version": 3,
     "solution": false,
     "task": false
    }
   },
   "source": [
    "**(Question)** Create a character-level vocabulary for your text data. Create two dictionaries: `ctoi` mapping each character to an index, and the reverse `itoc` mapping each index to its corresponding character. Implement the functions to convert text to tensor and tensor to text using these mappings. Apply these functions to some text data."
   ]
  },
  {
   "cell_type": "code",
   "execution_count": 3,
   "id": "885ecc8a-c654-463b-9353-f7a18a607199",
   "metadata": {
    "deletable": false,
    "nbgrader": {
     "cell_type": "code",
     "checksum": "e3eb46710b4006993f4eb9c557a2376f",
     "grade": true,
     "grade_id": "vocabulary",
     "locked": false,
     "points": 1,
     "schema_version": 3,
     "solution": true,
     "task": false
    }
   },
   "outputs": [
    {
     "name": "stdout",
     "output_type": "stream",
     "text": [
      "['f', ':', 'M', 'ê', 'd', 'I', 'â', '-', 'à', 'x', '?', ' ', 'U', \"'\", 'g', 'É', '_', 'û', 'R', 'c', 'J', 'z', 's', 'N', 'F', 'è', '«', 'p', 'C', 'a', 'v', 'o', ';', 'h', 'A', 'r', 'u', 'E', 'k', 'O', 'B', 'l', 'b', '!', '»', 'V', ',', 'ô', 'P', 'y', 'é', 'm', '\\n', 'S', 'j', 'W', 'G', 'T', 'n', 'ù', 'ç', 'e', 'D', 'H', '.', 'L', 't', 'Q', 'q', 'i', 'î']\n",
      "{0: 'f', 1: ':', 2: 'M', 3: 'ê', 4: 'd', 5: 'I', 6: 'â', 7: '-', 8: 'à', 9: 'x', 10: '?', 11: ' ', 12: 'U', 13: \"'\", 14: 'g', 15: 'É', 16: '_', 17: 'û', 18: 'R', 19: 'c', 20: 'J', 21: 'z', 22: 's', 23: 'N', 24: 'F', 25: 'è', 26: '«', 27: 'p', 28: 'C', 29: 'a', 30: 'v', 31: 'o', 32: ';', 33: 'h', 34: 'A', 35: 'r', 36: 'u', 37: 'E', 38: 'k', 39: 'O', 40: 'B', 41: 'l', 42: 'b', 43: '!', 44: '»', 45: 'V', 46: ',', 47: 'ô', 48: 'P', 49: 'y', 50: 'é', 51: 'm', 52: '\\n', 53: 'S', 54: 'j', 55: 'W', 56: 'G', 57: 'T', 58: 'n', 59: 'ù', 60: 'ç', 61: 'e', 62: 'D', 63: 'H', 64: '.', 65: 'L', 66: 't', 67: 'Q', 68: 'q', 69: 'i', 70: 'î'}\n",
      "{'f': 0, ':': 1, 'M': 2, 'ê': 3, 'd': 4, 'I': 5, 'â': 6, '-': 7, 'à': 8, 'x': 9, '?': 10, ' ': 11, 'U': 12, \"'\": 13, 'g': 14, 'É': 15, '_': 16, 'û': 17, 'R': 18, 'c': 19, 'J': 20, 'z': 21, 's': 22, 'N': 23, 'F': 24, 'è': 25, '«': 26, 'p': 27, 'C': 28, 'a': 29, 'v': 30, 'o': 31, ';': 32, 'h': 33, 'A': 34, 'r': 35, 'u': 36, 'E': 37, 'k': 38, 'O': 39, 'B': 40, 'l': 41, 'b': 42, '!': 43, '»': 44, 'V': 45, ',': 46, 'ô': 47, 'P': 48, 'y': 49, 'é': 50, 'm': 51, '\\n': 52, 'S': 53, 'j': 54, 'W': 55, 'G': 56, 'T': 57, 'n': 58, 'ù': 59, 'ç': 60, 'e': 61, 'D': 62, 'H': 63, '.': 64, 'L': 65, 't': 66, 'Q': 67, 'q': 68, 'i': 69, 'î': 70}\n",
      "Sample : LES FLEURS\n",
      "Tensor of sample : tensor([65, 37, 53, 11, 24, 65, 37, 12, 18, 53], dtype=torch.int32)\n",
      "Text of tensor : LES FLEURS\n"
     ]
    }
   ],
   "source": [
    "# Create the vocabulary and the two mapping dictionaries\n",
    "# YOUR CODE HERE\n",
    "\n",
    "import numpy as np\n",
    "\n",
    "vocabulary = list(set(text_data))\n",
    "\n",
    "print(vocabulary)\n",
    "\n",
    "ctoi = {vocabulary[num]: num for num in range(0, len(vocabulary))}\n",
    "\n",
    "itoc = {num : vocabulary[num] for num in range(0, len(vocabulary))}\n",
    "\n",
    "print(itoc)\n",
    "print(ctoi)\n",
    "\n",
    "# Implement the function converting text to tensor\n",
    "def text_to_tensor(text, ctoi):\n",
    "    # YOUR CODE HERE\n",
    "    tensor = np.array([ctoi[c] for c in text])\n",
    "    tensor = torch.Tensor(tensor).int()\n",
    "\n",
    "    return tensor \n",
    "\n",
    "# Implement the function converting tensor to text\n",
    "def tensor_to_text(tensor, itoc):\n",
    "    # YOUR CODE HERE\n",
    "    tensor = tensor.numpy()\n",
    "    text = [itoc[i] for i in tensor]\n",
    "\n",
    "    return text\n",
    "\n",
    "# Apply your functions to some text data\n",
    "# YOUR CODE HERE\n",
    "sample = text_data[:10]\n",
    "\n",
    "print(\"Sample : \" + str(sample))\n",
    "\n",
    "s_tensor = text_to_tensor(sample, ctoi)\n",
    "s_text = tensor_to_text(s_tensor, itoc)\n",
    "\n",
    "print(\"Tensor of sample : \" + str(s_tensor))\n",
    "print(\"Text of tensor : \" + \"\".join(s_text))"
   ]
  },
  {
   "cell_type": "markdown",
   "id": "b8da1b7f-549d-45d9-8fea-309ee0e76a90",
   "metadata": {
    "deletable": false,
    "editable": false,
    "nbgrader": {
     "cell_type": "markdown",
     "checksum": "fbfd5a4df6e6081581ad38d7180fddfb",
     "grade": false,
     "grade_id": "cell-172b8befc4633227",
     "locked": true,
     "schema_version": 3,
     "solution": false,
     "task": false
    }
   },
   "source": [
    "## 2. Setup a character-level recurrent neural network"
   ]
  },
  {
   "cell_type": "markdown",
   "id": "3d33cfac-93f7-4980-8510-fcf675d3a06b",
   "metadata": {
    "deletable": false,
    "editable": false,
    "nbgrader": {
     "cell_type": "markdown",
     "checksum": "6cb30929efdd10eb6066750f4b94bf14",
     "grade": false,
     "grade_id": "embedding",
     "locked": true,
     "points": 2,
     "schema_version": 3,
     "solution": false,
     "task": true
    }
   },
   "source": [
    "**(Question)** Setup a simple embedding layer with `nn.Embedding` to project character indices to `embedding_dim` dimensional vectors. Explain precisely how this layer works and what are its outputs for a given input sequence."
   ]
  },
  {
   "cell_type": "code",
   "execution_count": 4,
   "id": "609747a0-6634-4232-92cb-72946ef516b0",
   "metadata": {
    "deletable": false,
    "nbgrader": {
     "cell_type": "code",
     "checksum": "a9dd84493589d73c13fac37411610a2e",
     "grade": true,
     "grade_id": "cell-a3b5adeb8111779b",
     "locked": false,
     "points": 0,
     "schema_version": 3,
     "solution": true,
     "task": false
    }
   },
   "outputs": [],
   "source": [
    "# YOUR CODE HERE\n",
    "\n",
    "vocab_size = len(vocabulary)\n",
    "\n",
    "embedding_dim = 5 # ?\n",
    "\n",
    "embedding_layer = nn.Embedding(vocab_size, embedding_dim)"
   ]
  },
  {
   "cell_type": "code",
   "execution_count": 5,
   "id": "cd338f5d-41e9-4c6f-8510-be5ad74e1283",
   "metadata": {},
   "outputs": [
    {
     "name": "stdout",
     "output_type": "stream",
     "text": [
      "tensor([[-0.2596,  0.3374,  0.4850, -0.1812, -0.1988],\n",
      "        [ 0.6546, -0.9711,  1.0207,  0.2240,  0.4778],\n",
      "        [ 0.0296,  0.7040,  1.1052,  1.2758,  1.9500],\n",
      "        [ 0.1543,  0.2170,  1.6953,  0.5396, -0.9453],\n",
      "        [ 0.1706, -0.8863,  1.4311, -0.9945,  0.9207],\n",
      "        [-0.2596,  0.3374,  0.4850, -0.1812, -0.1988],\n",
      "        [ 0.6546, -0.9711,  1.0207,  0.2240,  0.4778],\n",
      "        [ 0.4482, -0.7093, -0.8015,  2.2838, -0.2236],\n",
      "        [-1.2021, -0.4061, -1.7473, -0.6024,  0.1015],\n",
      "        [ 0.0296,  0.7040,  1.1052,  1.2758,  1.9500]],\n",
      "       grad_fn=<EmbeddingBackward0>)\n"
     ]
    }
   ],
   "source": [
    "#Test \n",
    "\n",
    "sample = text_data[:10]\n",
    "\n",
    "sample_tensor = text_to_tensor(sample, ctoi)\n",
    "\n",
    "s_embedding = embedding_layer(sample_tensor)\n",
    "\n",
    "print(s_embedding)"
   ]
  },
  {
   "cell_type": "markdown",
   "id": "26f7a5e3-f137-49ef-a135-a855029b724b",
   "metadata": {
    "deletable": false,
    "nbgrader": {
     "cell_type": "markdown",
     "checksum": "ba287efa3849a2ddcb98b94b287fd199",
     "grade": true,
     "grade_id": "cell-4065672821a5801f",
     "locked": false,
     "points": 0,
     "schema_version": 3,
     "solution": true,
     "task": false
    }
   },
   "source": [
    "YOUR ANSWER HERE"
   ]
  },
  {
   "cell_type": "markdown",
   "id": "7ebc7b1c-6469-4c63-9965-7a7f39734302",
   "metadata": {
    "deletable": false,
    "editable": false,
    "nbgrader": {
     "cell_type": "markdown",
     "checksum": "6897eae892e4aa50cceac9bca0a83f82",
     "grade": false,
     "grade_id": "base-rnn",
     "locked": true,
     "points": 2,
     "schema_version": 3,
     "solution": false,
     "task": true
    }
   },
   "source": [
    "**(Question)** Setup a single-layer RNN with `nn.RNN` (without defining a custom class). Use `hidden_dim` size for hidden states. Explain precisely the outputs of this layer for a given input sequence."
   ]
  },
  {
   "cell_type": "code",
   "execution_count": 6,
   "id": "162dd7af-cf96-4279-b512-1507433c7826",
   "metadata": {
    "deletable": false,
    "nbgrader": {
     "cell_type": "code",
     "checksum": "095b1c904c7c5fa3d5371de208f7300a",
     "grade": true,
     "grade_id": "cell-c0b3cdd14603b6d1",
     "locked": false,
     "points": 0,
     "schema_version": 3,
     "solution": true,
     "task": false
    }
   },
   "outputs": [],
   "source": [
    "# YOUR CODE HERE\n",
    "\n",
    "hidden_dim = 3\n",
    "\n",
    "simple_rnn = nn.Sequential(\n",
    "    embedding_layer,  \n",
    "    nn.RNN(input_size=embedding_dim, hidden_size=hidden_dim, batch_first=True)\n",
    ")"
   ]
  },
  {
   "cell_type": "code",
   "execution_count": 7,
   "id": "818b8e0d-bd23-4ef0-b992-4035e140fe93",
   "metadata": {},
   "outputs": [
    {
     "name": "stdout",
     "output_type": "stream",
     "text": [
      "(tensor([[ 0.4322,  0.5634,  0.4759],\n",
      "        [ 0.8594,  0.1568,  0.1570],\n",
      "        [ 0.8863,  0.7481,  0.4981],\n",
      "        [ 0.7715,  0.1446,  0.8712],\n",
      "        [ 0.9039,  0.5293,  0.4650],\n",
      "        [ 0.5312, -0.0946,  0.7320],\n",
      "        [ 0.9050,  0.4204,  0.0983],\n",
      "        [ 0.7283, -0.8322, -0.3519],\n",
      "        [ 0.1983, -0.5855, -0.4014],\n",
      "        [ 0.8733,  0.9342,  0.1679]], grad_fn=<SqueezeBackward1>), tensor([[0.8733, 0.9342, 0.1679]], grad_fn=<SqueezeBackward1>))\n"
     ]
    }
   ],
   "source": [
    "sample_output = simple_rnn(text_to_tensor(sample, ctoi))\n",
    "print(sample_output)"
   ]
  },
  {
   "cell_type": "markdown",
   "id": "56780e84-8767-4941-ba0a-2047b106fc35",
   "metadata": {
    "deletable": false,
    "nbgrader": {
     "cell_type": "markdown",
     "checksum": "2f3230528c7fabd5b26931934ac4e8b0",
     "grade": true,
     "grade_id": "cell-9c6c3e3359e2c37e",
     "locked": false,
     "points": 0,
     "schema_version": 3,
     "solution": true,
     "task": false
    }
   },
   "source": [
    "YOUR ANSWER HERE"
   ]
  },
  {
   "cell_type": "markdown",
   "id": "76df8c7a-2a3d-43a0-9666-a797d1a3dbca",
   "metadata": {
    "deletable": false,
    "editable": false,
    "nbgrader": {
     "cell_type": "markdown",
     "checksum": "3993b8b02d0be0e16de189c4850bbfce",
     "grade": false,
     "grade_id": "rnn-model",
     "locked": true,
     "points": 2,
     "schema_version": 3,
     "solution": false,
     "task": true
    }
   },
   "source": [
    "**(Question)** Create a simple RNN model with a custom `nn.Module` class. It should contain: an embedding layer, a single-layer RNN, and a dense output layer. For each character of the input sequence, the model should predict the probability of the next character. The forward method should return the probabilities for next characters and the corresponding hidden states.\n",
    "After completing the class, create a model and apply the forward pass on some input text. Understand and explain the results.\n",
    "\n",
    "*Note:* depending on how you implement the loss function later, it can be convenient to return logits instead of probabilities, i.e. raw values of the output layer before any activation function. "
   ]
  },
  {
   "cell_type": "code",
   "execution_count": 44,
   "id": "6cc835a8-a05f-4f78-b50e-4edbdb04305f",
   "metadata": {
    "deletable": false,
    "nbgrader": {
     "cell_type": "code",
     "checksum": "b587c6f505f5d3719869ae8a57fcb5c6",
     "grade": true,
     "grade_id": "cell-e55d41dd89bcf74f",
     "locked": false,
     "points": 0,
     "schema_version": 3,
     "solution": true,
     "task": false
    }
   },
   "outputs": [
    {
     "name": "stderr",
     "output_type": "stream",
     "text": [
      "/tmp/ipykernel_5296/3011704167.py:35: UserWarning: Implicit dimension choice for softmax has been deprecated. Change the call to include dim=X as an argument.\n",
      "  probabilities = F.softmax(logits)\n"
     ]
    }
   ],
   "source": [
    "class CharRNN(nn.Module):\n",
    "    def __init__(self, vocab_size, embedding_dim, hidden_dim, num_layers=1):\n",
    "        '''Initialize model parameters and layers.'''\n",
    "        super().__init__()\n",
    "        # YOUR CODE HERE\n",
    "        self.vocab_size = vocab_size\n",
    "        self.emb = nn.Embedding(vocab_size, embedding_dim)\n",
    "        self.rnn = nn.RNN(embedding_dim, hidden_dim)\n",
    "        self.lin = nn.Linear(hidden_dim, vocab_size)\n",
    "\n",
    "\n",
    "    def forward(self, tensor_data, hidden_state=None):\n",
    "        '''Apply the forward pass for some text data already converted to tensor.'''\n",
    "        # YOUR CODE HERE\n",
    "        out = self.emb(tensor_data)\n",
    "        out, hid = self.rnn(out, hidden_state)\n",
    "        out = self.lin(out)\n",
    "        \n",
    "        return out, hid\n",
    "\n",
    "# Initialize a model and apply the forward pass on some input text\n",
    "# YOUR CODE HERE\n",
    "\n",
    "embedding_dim = 5\n",
    "hidden_dim = 3\n",
    "\n",
    "model = CharRNN(vocab_size, embedding_dim, hidden_dim)\n",
    "\n",
    "sample = text_data[:10]\n",
    "\n",
    "sample_tensor = text_to_tensor(sample, ctoi)\n",
    "\n",
    "logits, hidden = model(sample_tensor)\n",
    "\n",
    "probabilities = F.softmax(logits)"
   ]
  },
  {
   "cell_type": "markdown",
   "id": "80eb09a2-2c5e-4dd6-922e-a7f0c6cbff85",
   "metadata": {
    "deletable": false,
    "nbgrader": {
     "cell_type": "markdown",
     "checksum": "ae8f4a875df816da1463fc833e40cea4",
     "grade": true,
     "grade_id": "cell-093600fc493e6e4f",
     "locked": false,
     "points": 0,
     "schema_version": 3,
     "solution": true,
     "task": false
    }
   },
   "source": [
    "YOUR ANSWER HERE"
   ]
  },
  {
   "cell_type": "markdown",
   "id": "41614741-8bf2-4ead-8205-788623404a27",
   "metadata": {
    "deletable": false,
    "editable": false,
    "nbgrader": {
     "cell_type": "markdown",
     "checksum": "9bb6ca5b49b7c8b46253cf2a7f1200c5",
     "grade": false,
     "grade_id": "rnn-overfit",
     "locked": true,
     "schema_version": 3,
     "solution": false,
     "task": false
    }
   },
   "source": [
    "**(Question)** Implement a simple training loop to overfit on a small input sequence. The loss function should be a categorical cross entropy on the predicted characters. Monitor the loss function value over the iterations."
   ]
  },
  {
   "cell_type": "code",
   "execution_count": 50,
   "id": "474f97eb-685f-41c1-8249-1eb4df9e168c",
   "metadata": {
    "deletable": false,
    "nbgrader": {
     "cell_type": "code",
     "checksum": "fa15210da5aabdca4ecf3228efec88be",
     "grade": true,
     "grade_id": "cell-1904f4989149b1ef",
     "locked": false,
     "points": 3,
     "schema_version": 3,
     "solution": true,
     "task": false
    }
   },
   "outputs": [
    {
     "name": "stdout",
     "output_type": "stream",
     "text": [
      "Epoch [10/200], Loss: 3.8754\n",
      "Epoch [20/200], Loss: 3.3024\n",
      "Epoch [30/200], Loss: 2.9640\n",
      "Epoch [40/200], Loss: 2.7436\n",
      "Epoch [50/200], Loss: 2.6001\n",
      "Epoch [60/200], Loss: 2.5165\n",
      "Epoch [70/200], Loss: 2.4532\n",
      "Epoch [80/200], Loss: 2.3993\n",
      "Epoch [90/200], Loss: 2.3563\n",
      "Epoch [100/200], Loss: 2.3209\n",
      "Epoch [110/200], Loss: 2.2844\n",
      "Epoch [120/200], Loss: 2.2483\n",
      "Epoch [130/200], Loss: 2.2125\n",
      "Epoch [140/200], Loss: 2.1770\n",
      "Epoch [150/200], Loss: 2.1422\n",
      "Epoch [160/200], Loss: 2.1098\n",
      "Epoch [170/200], Loss: 2.0773\n",
      "Epoch [180/200], Loss: 2.0372\n",
      "Epoch [190/200], Loss: 2.0086\n",
      "Epoch [200/200], Loss: 1.9717\n"
     ]
    }
   ],
   "source": [
    "# Sample a small input sequence into tensor `input_seq` and store its corresponding expected sequence into tensor `target_seq`\n",
    "# YOUR CODE HERE\n",
    "\n",
    "# Implement a training loop overfitting an input sequence and monitoring the loss function\n",
    "def train_overfit(model, input_seq, target_seq, n_iters=200, learning_rate=0.2):\n",
    "    # YOUR CODE HERE\n",
    "    criterion = nn.CrossEntropyLoss()\n",
    "    # criterion = nn.MSELoss()\n",
    "    optimizer = torch.optim.SGD(model.parameters(), lr=learning_rate, weight_decay = 0.005, momentum = 0.9)  \n",
    "\n",
    "    for i in range(n_iters):\n",
    "        outputs, _ = model(input_seq)\n",
    "        loss = criterion(outputs, target_seq)\n",
    "        optimizer.zero_grad()\n",
    "        loss.backward()\n",
    "        optimizer.step()\n",
    "        if((i+1)%10==0):\n",
    "            print('Epoch [{}/{}], Loss: {:.4f}'.format(i+1, n_iters, loss.item()))\n",
    "\n",
    "    \n",
    "# Initialize a model and make it overfit the input sequence\n",
    "# YOUR CODE HERE\n",
    "\n",
    "def one_hot(input_seq, target_seq, vocab_size, ctoi):\n",
    "    one_hot_vec = np.zeros((len(input_seq), vocab_size))\n",
    "    for i, c in enumerate(input_seq):\n",
    "        t_index = ctoi[target_seq[i]]\n",
    "        one_hot_vec[i][t_index] = 1\n",
    "    return torch.Tensor(one_hot_vec)\n",
    "\n",
    "\n",
    "input_seq = text_data[:100]\n",
    "target_seq = text_data[1:101]\n",
    "\n",
    "target_seq = one_hot(input_seq, target_seq, vocab_size, ctoi)\n",
    "input_seq = text_to_tensor(input_seq, ctoi)\n",
    "\n",
    "embedding_dim = 5\n",
    "hidden_dim = 3\n",
    "\n",
    "model = CharRNN(vocab_size, embedding_dim, hidden_dim)\n",
    "\n",
    "train_overfit(model, input_seq, target_seq)"
   ]
  },
  {
   "cell_type": "markdown",
   "id": "68c66f34-7afb-4920-b6d2-5642d28a0770",
   "metadata": {
    "deletable": false,
    "editable": false,
    "nbgrader": {
     "cell_type": "markdown",
     "checksum": "9cd6d0a90166cea96ce250f8d8f2e083",
     "grade": false,
     "grade_id": "rnn-argmax",
     "locked": true,
     "points": 2,
     "schema_version": 3,
     "solution": false,
     "task": true
    }
   },
   "source": [
    "**(Question)** Implement a `predict_argmax` method for your `RNN` model. Then, verify your overfitting: use some characters of your input sequence as context to predict the remaining ones. Experiment with the current model and analyze the results."
   ]
  },
  {
   "cell_type": "code",
   "execution_count": 58,
   "id": "4d0350ae-a23a-4802-a2a5-012193ede15b",
   "metadata": {
    "deletable": false,
    "nbgrader": {
     "cell_type": "code",
     "checksum": "0114ed939e7dd8b656bd0f03bd576a89",
     "grade": true,
     "grade_id": "cell-2d706c010aeccb0d",
     "locked": false,
     "points": 0,
     "schema_version": 3,
     "solution": true,
     "task": false
    }
   },
   "outputs": [
    {
     "name": "stdout",
     "output_type": "stream",
     "text": [
      "Epoch [10/200], Loss: 3.8667\n",
      "Epoch [20/200], Loss: 3.3059\n",
      "Epoch [30/200], Loss: 2.9643\n",
      "Epoch [40/200], Loss: 2.7557\n",
      "Epoch [50/200], Loss: 2.6057\n",
      "Epoch [60/200], Loss: 2.4850\n",
      "Epoch [70/200], Loss: 2.3951\n",
      "Epoch [80/200], Loss: 2.3280\n",
      "Epoch [90/200], Loss: 2.2766\n",
      "Epoch [100/200], Loss: 2.2343\n",
      "Epoch [110/200], Loss: 2.1935\n",
      "Epoch [120/200], Loss: 2.1579\n",
      "Epoch [130/200], Loss: 2.1258\n",
      "Epoch [140/200], Loss: 2.0966\n",
      "Epoch [150/200], Loss: 2.0702\n",
      "Epoch [160/200], Loss: 2.0473\n",
      "Epoch [170/200], Loss: 2.0276\n",
      "Epoch [180/200], Loss: 2.0103\n",
      "Epoch [190/200], Loss: 1.9946\n",
      "Epoch [200/200], Loss: 1.9806\n"
     ]
    },
    {
     "ename": "RuntimeError",
     "evalue": "For unbatched 2-D input, hx should also be 2-D but got 1-D tensor",
     "output_type": "error",
     "traceback": [
      "\u001b[0;31m---------------------------------------------------------------------------\u001b[0m",
      "\u001b[0;31mRuntimeError\u001b[0m                              Traceback (most recent call last)",
      "Cell \u001b[0;32mIn[58], line 45\u001b[0m\n\u001b[1;32m     41\u001b[0m model \u001b[38;5;241m=\u001b[39m CharRNN(vocab_size, embedding_dim, hidden_dim)\n\u001b[1;32m     43\u001b[0m train_overfit(model, input_seq, target_seq)\n\u001b[0;32m---> 45\u001b[0m predictions \u001b[38;5;241m=\u001b[39m \u001b[43mmodel\u001b[49m\u001b[38;5;241;43m.\u001b[39;49m\u001b[43mpredict_argmax\u001b[49m\u001b[43m(\u001b[49m\u001b[43mtext_to_tensor\u001b[49m\u001b[43m(\u001b[49m\u001b[38;5;124;43m\"\u001b[39;49m\u001b[38;5;124;43mLes fleurs\u001b[39;49m\u001b[38;5;124;43m\"\u001b[39;49m\u001b[43m,\u001b[49m\u001b[43m \u001b[49m\u001b[43mctoi\u001b[49m\u001b[43m)\u001b[49m\u001b[43m,\u001b[49m\u001b[43m \u001b[49m\u001b[38;5;241;43m50\u001b[39;49m\u001b[43m)\u001b[49m\n",
      "Cell \u001b[0;32mIn[58], line 17\u001b[0m, in \u001b[0;36mCharRNN.predict_argmax\u001b[0;34m(self, context_tensor, n_predictions)\u001b[0m\n\u001b[1;32m     15\u001b[0m str_out \u001b[38;5;241m=\u001b[39m itoc[np\u001b[38;5;241m.\u001b[39margmax(\u001b[38;5;28mself\u001b[39m\u001b[38;5;241m.\u001b[39mlast_out\u001b[38;5;241m.\u001b[39mdetach()\u001b[38;5;241m.\u001b[39mnumpy())]\n\u001b[1;32m     16\u001b[0m \u001b[38;5;28mself\u001b[39m\u001b[38;5;241m.\u001b[39mlast_out \u001b[38;5;241m=\u001b[39m text_to_tensor(str_out, ctoi)\n\u001b[0;32m---> 17\u001b[0m log, hid \u001b[38;5;241m=\u001b[39m \u001b[38;5;28;43mself\u001b[39;49m\u001b[38;5;241;43m.\u001b[39;49m\u001b[43mforward\u001b[49m\u001b[43m(\u001b[49m\u001b[38;5;28;43mself\u001b[39;49m\u001b[38;5;241;43m.\u001b[39;49m\u001b[43mlast_out\u001b[49m\u001b[43m,\u001b[49m\u001b[43m \u001b[49m\u001b[38;5;28;43mself\u001b[39;49m\u001b[38;5;241;43m.\u001b[39;49m\u001b[43mlast_hid\u001b[49m\u001b[43m)\u001b[49m\n\u001b[1;32m     18\u001b[0m \u001b[38;5;28mself\u001b[39m\u001b[38;5;241m.\u001b[39mlast_out \u001b[38;5;241m=\u001b[39m log\n\u001b[1;32m     19\u001b[0m \u001b[38;5;28mself\u001b[39m\u001b[38;5;241m.\u001b[39mlast_hid \u001b[38;5;241m=\u001b[39m hid\u001b[38;5;241m.\u001b[39munsqueeze(\u001b[38;5;241m-\u001b[39m\u001b[38;5;241m1\u001b[39m)\u001b[38;5;241m.\u001b[39mview(\u001b[38;5;241m-\u001b[39m\u001b[38;5;241m1\u001b[39m)\n",
      "Cell \u001b[0;32mIn[44], line 16\u001b[0m, in \u001b[0;36mCharRNN.forward\u001b[0;34m(self, tensor_data, hidden_state)\u001b[0m\n\u001b[1;32m     14\u001b[0m \u001b[38;5;66;03m# YOUR CODE HERE\u001b[39;00m\n\u001b[1;32m     15\u001b[0m out \u001b[38;5;241m=\u001b[39m \u001b[38;5;28mself\u001b[39m\u001b[38;5;241m.\u001b[39memb(tensor_data)\n\u001b[0;32m---> 16\u001b[0m out, hid \u001b[38;5;241m=\u001b[39m \u001b[38;5;28;43mself\u001b[39;49m\u001b[38;5;241;43m.\u001b[39;49m\u001b[43mrnn\u001b[49m\u001b[43m(\u001b[49m\u001b[43mout\u001b[49m\u001b[43m,\u001b[49m\u001b[43m \u001b[49m\u001b[43mhidden_state\u001b[49m\u001b[43m)\u001b[49m\n\u001b[1;32m     17\u001b[0m out \u001b[38;5;241m=\u001b[39m \u001b[38;5;28mself\u001b[39m\u001b[38;5;241m.\u001b[39mlin(out)\n\u001b[1;32m     19\u001b[0m \u001b[38;5;28;01mreturn\u001b[39;00m out, hid\n",
      "File \u001b[0;32m~/s9/mldl/lib/python3.11/site-packages/torch/nn/modules/module.py:1518\u001b[0m, in \u001b[0;36mModule._wrapped_call_impl\u001b[0;34m(self, *args, **kwargs)\u001b[0m\n\u001b[1;32m   1516\u001b[0m     \u001b[38;5;28;01mreturn\u001b[39;00m \u001b[38;5;28mself\u001b[39m\u001b[38;5;241m.\u001b[39m_compiled_call_impl(\u001b[38;5;241m*\u001b[39margs, \u001b[38;5;241m*\u001b[39m\u001b[38;5;241m*\u001b[39mkwargs)  \u001b[38;5;66;03m# type: ignore[misc]\u001b[39;00m\n\u001b[1;32m   1517\u001b[0m \u001b[38;5;28;01melse\u001b[39;00m:\n\u001b[0;32m-> 1518\u001b[0m     \u001b[38;5;28;01mreturn\u001b[39;00m \u001b[38;5;28;43mself\u001b[39;49m\u001b[38;5;241;43m.\u001b[39;49m\u001b[43m_call_impl\u001b[49m\u001b[43m(\u001b[49m\u001b[38;5;241;43m*\u001b[39;49m\u001b[43margs\u001b[49m\u001b[43m,\u001b[49m\u001b[43m \u001b[49m\u001b[38;5;241;43m*\u001b[39;49m\u001b[38;5;241;43m*\u001b[39;49m\u001b[43mkwargs\u001b[49m\u001b[43m)\u001b[49m\n",
      "File \u001b[0;32m~/s9/mldl/lib/python3.11/site-packages/torch/nn/modules/module.py:1527\u001b[0m, in \u001b[0;36mModule._call_impl\u001b[0;34m(self, *args, **kwargs)\u001b[0m\n\u001b[1;32m   1522\u001b[0m \u001b[38;5;66;03m# If we don't have any hooks, we want to skip the rest of the logic in\u001b[39;00m\n\u001b[1;32m   1523\u001b[0m \u001b[38;5;66;03m# this function, and just call forward.\u001b[39;00m\n\u001b[1;32m   1524\u001b[0m \u001b[38;5;28;01mif\u001b[39;00m \u001b[38;5;129;01mnot\u001b[39;00m (\u001b[38;5;28mself\u001b[39m\u001b[38;5;241m.\u001b[39m_backward_hooks \u001b[38;5;129;01mor\u001b[39;00m \u001b[38;5;28mself\u001b[39m\u001b[38;5;241m.\u001b[39m_backward_pre_hooks \u001b[38;5;129;01mor\u001b[39;00m \u001b[38;5;28mself\u001b[39m\u001b[38;5;241m.\u001b[39m_forward_hooks \u001b[38;5;129;01mor\u001b[39;00m \u001b[38;5;28mself\u001b[39m\u001b[38;5;241m.\u001b[39m_forward_pre_hooks\n\u001b[1;32m   1525\u001b[0m         \u001b[38;5;129;01mor\u001b[39;00m _global_backward_pre_hooks \u001b[38;5;129;01mor\u001b[39;00m _global_backward_hooks\n\u001b[1;32m   1526\u001b[0m         \u001b[38;5;129;01mor\u001b[39;00m _global_forward_hooks \u001b[38;5;129;01mor\u001b[39;00m _global_forward_pre_hooks):\n\u001b[0;32m-> 1527\u001b[0m     \u001b[38;5;28;01mreturn\u001b[39;00m \u001b[43mforward_call\u001b[49m\u001b[43m(\u001b[49m\u001b[38;5;241;43m*\u001b[39;49m\u001b[43margs\u001b[49m\u001b[43m,\u001b[49m\u001b[43m \u001b[49m\u001b[38;5;241;43m*\u001b[39;49m\u001b[38;5;241;43m*\u001b[39;49m\u001b[43mkwargs\u001b[49m\u001b[43m)\u001b[49m\n\u001b[1;32m   1529\u001b[0m \u001b[38;5;28;01mtry\u001b[39;00m:\n\u001b[1;32m   1530\u001b[0m     result \u001b[38;5;241m=\u001b[39m \u001b[38;5;28;01mNone\u001b[39;00m\n",
      "File \u001b[0;32m~/s9/mldl/lib/python3.11/site-packages/torch/nn/modules/rnn.py:529\u001b[0m, in \u001b[0;36mRNN.forward\u001b[0;34m(self, input, hx)\u001b[0m\n\u001b[1;32m    527\u001b[0m     \u001b[38;5;28;01mif\u001b[39;00m hx \u001b[38;5;129;01mis\u001b[39;00m \u001b[38;5;129;01mnot\u001b[39;00m \u001b[38;5;28;01mNone\u001b[39;00m:\n\u001b[1;32m    528\u001b[0m         \u001b[38;5;28;01mif\u001b[39;00m hx\u001b[38;5;241m.\u001b[39mdim() \u001b[38;5;241m!=\u001b[39m \u001b[38;5;241m2\u001b[39m:\n\u001b[0;32m--> 529\u001b[0m             \u001b[38;5;28;01mraise\u001b[39;00m \u001b[38;5;167;01mRuntimeError\u001b[39;00m(\n\u001b[1;32m    530\u001b[0m                 \u001b[38;5;124mf\u001b[39m\u001b[38;5;124m\"\u001b[39m\u001b[38;5;124mFor unbatched 2-D input, hx should also be 2-D but got \u001b[39m\u001b[38;5;132;01m{\u001b[39;00mhx\u001b[38;5;241m.\u001b[39mdim()\u001b[38;5;132;01m}\u001b[39;00m\u001b[38;5;124m-D tensor\u001b[39m\u001b[38;5;124m\"\u001b[39m)\n\u001b[1;32m    531\u001b[0m         hx \u001b[38;5;241m=\u001b[39m hx\u001b[38;5;241m.\u001b[39munsqueeze(\u001b[38;5;241m1\u001b[39m)\n\u001b[1;32m    532\u001b[0m \u001b[38;5;28;01melse\u001b[39;00m:\n",
      "\u001b[0;31mRuntimeError\u001b[0m: For unbatched 2-D input, hx should also be 2-D but got 1-D tensor"
     ]
    }
   ],
   "source": [
    "class CharRNN(CharRNN):\n",
    "    def predict_argmax(self, context_tensor, n_predictions):\n",
    "        # Apply the forward pass for the context tensor\n",
    "        # Then, store the last prediction and last hidden state\n",
    "        # YOUR CODE HERE\n",
    "        out, hid = self.forward(context_tensor)\n",
    "        self.last_out = out[-1]\n",
    "        self.last_hid = hid[-1].unsqueeze(-1)\n",
    "        \n",
    "        # Use the last prediction and last hidden state as inputs to the next forward pass\n",
    "        # Do this in a loop to predict the next `n_predictions` characters\n",
    "        # YOUR CODE HERE\n",
    "        predictions = []\n",
    "        for i in range(n_predictions):\n",
    "            str_out = itoc[np.argmax(self.last_out.detach().numpy())]\n",
    "            self.last_out = text_to_tensor(str_out, ctoi)\n",
    "            log, hid = self.forward(self.last_out, self.last_hid)\n",
    "            self.last_out = log\n",
    "            self.last_hid = hid.unsqueeze(-1)\n",
    "            new_str = itoc[np.argmax(self.last_out)]\n",
    "            predictions.append(new_str)\n",
    "            \n",
    "            \n",
    "        return predictions\n",
    "            \n",
    "        \n",
    "\n",
    "# Initialize a model and make it overfit as above\n",
    "# Then, verify your overfitting by predicting characters given some context\n",
    "# YOUR CODE HERE\n",
    "\n",
    "input_seq = text_data[:100]\n",
    "target_seq = text_data[1:101]\n",
    "\n",
    "target_seq = one_hot(input_seq, target_seq, vocab_size, ctoi)\n",
    "input_seq = text_to_tensor(input_seq, ctoi)\n",
    "\n",
    "embedding_dim = 5\n",
    "hidden_dim = 3\n",
    "\n",
    "model = CharRNN(vocab_size, embedding_dim, hidden_dim)\n",
    "\n",
    "train_overfit(model, input_seq, target_seq)\n",
    "\n",
    "predictions = model.predict_argmax(text_to_tensor(\"Les fleurs\", ctoi), 50)\n",
    "\n"
   ]
  },
  {
   "cell_type": "markdown",
   "id": "4b3e9b8b-f952-43af-a2f0-084451d85759",
   "metadata": {
    "deletable": false,
    "nbgrader": {
     "cell_type": "markdown",
     "checksum": "25bd5ff990e4cf55e89b26541d0acf34",
     "grade": true,
     "grade_id": "cell-b783299fd35282d3",
     "locked": false,
     "points": 0,
     "schema_version": 3,
     "solution": true,
     "task": false
    }
   },
   "source": [
    "YOUR ANSWER HERE"
   ]
  },
  {
   "cell_type": "markdown",
   "id": "e4f5d3e9-9a68-48b8-a549-0fc2b9f2b2ff",
   "metadata": {
    "deletable": false,
    "editable": false,
    "nbgrader": {
     "cell_type": "markdown",
     "checksum": "f34d247477f051d257bc1337cfc611fa",
     "grade": false,
     "grade_id": "cell-52baebc1e4eb464c",
     "locked": true,
     "schema_version": 3,
     "solution": false,
     "task": false
    }
   },
   "source": [
    "Using the argmax function to predict the next character can yield a deterministic generator always predicting the same characters. Instead, it is common to predict the next character by sampling from the distribution of output predictions, adding some randomness into the generator."
   ]
  },
  {
   "cell_type": "markdown",
   "id": "5701d4df-dca5-4884-8ac2-c8efe4fe4641",
   "metadata": {
    "deletable": false,
    "editable": false,
    "nbgrader": {
     "cell_type": "markdown",
     "checksum": "9cefa534edd726def1328ea0b48ed29d",
     "grade": false,
     "grade_id": "cell-e85a5e3954f17ad2",
     "locked": true,
     "schema_version": 3,
     "solution": false,
     "task": false
    }
   },
   "source": [
    "**(Question)** Implement a `predict_proba` method for your `RNN` model. It should be very similar to `predict_argmax`, but instead of using argmax, it should randomly sample from the output predictions. To do that, you can use the `torch.distribution.Categorical` class and its `sample()` method. Verify that your method correctly added some randomness."
   ]
  },
  {
   "cell_type": "code",
   "execution_count": null,
   "id": "72da1efb-39b8-496d-9c8f-cea241c41364",
   "metadata": {
    "deletable": false,
    "nbgrader": {
     "cell_type": "code",
     "checksum": "2ba3d32edc8f535eb8923fb8e71c9fe4",
     "grade": true,
     "grade_id": "rnn-sample",
     "locked": false,
     "points": 2,
     "schema_version": 3,
     "solution": true,
     "task": false
    }
   },
   "outputs": [],
   "source": [
    "class CharRNN(CharRNN):\n",
    "    def predict_proba(self, input_context, n_predictions):\n",
    "        # YOUR CODE HERE\n",
    "        raise NotImplementedError()\n",
    "\n",
    "# Verify that your predictions are not deterministic anymore\n",
    "# YOUR CODE HERE\n",
    "raise NotImplementedError()"
   ]
  },
  {
   "cell_type": "markdown",
   "id": "9912f5cc-3627-41e8-b5ef-6d30f7c4868a",
   "metadata": {
    "deletable": false,
    "editable": false,
    "nbgrader": {
     "cell_type": "markdown",
     "checksum": "e56bfe8d33a343e270cfe35720aeea26",
     "grade": false,
     "grade_id": "cell-6389d46b2b8abaa0",
     "locked": true,
     "schema_version": 3,
     "solution": false,
     "task": false
    }
   },
   "source": [
    "## 3. Train the RNN model on text data"
   ]
  },
  {
   "cell_type": "markdown",
   "id": "8024df30-af42-4ca9-be0e-16614ead56cb",
   "metadata": {
    "deletable": false,
    "editable": false,
    "nbgrader": {
     "cell_type": "markdown",
     "checksum": "44f87a393c4ae266b59141953d170a7e",
     "grade": false,
     "grade_id": "rnn-train",
     "locked": true,
     "points": 4,
     "schema_version": 3,
     "solution": false,
     "task": true
    }
   },
   "source": [
    "**(Question)** Adapt your previous code to implement a proper training loop for a text dataset. To do so, we need to specify a sequence length `seq_len`, acting similarly to the batch size in classic neural networks. Then, you can either randomly sample sequences of length `seq_len` from the text dataset over `n_iters` iterations, or properly loop over the text dataset for `n_epochs` epochs (with a random starting point for each epoch to ensure different sequences), to make sure the whole dataset is seen by the model. Feel free to adjust training and model parameters empirically. Start with a small model and a small subset of the text dataset, then move on to larger experiments. Remember to use GPU if available."
   ]
  },
  {
   "cell_type": "code",
   "execution_count": null,
   "id": "f65d237e-d095-45c4-ab12-6307a5bda255",
   "metadata": {
    "deletable": false,
    "nbgrader": {
     "cell_type": "code",
     "checksum": "17faecb7751e77b7fe8cae66820687ea",
     "grade": true,
     "grade_id": "cell-a4695fabcf78e1a8",
     "locked": false,
     "points": 0,
     "schema_version": 3,
     "solution": true,
     "task": false
    }
   },
   "outputs": [],
   "source": [
    "# Create the text dataset, compute its mappings and convert it to tensor\n",
    "# YOUR CODE HERE\n",
    "raise NotImplementedError()\n",
    "\n",
    "# Initialize training parameters\n",
    "# YOUR CODE HERE\n",
    "raise NotImplementedError()\n",
    "\n",
    "# Initialize a character-level RNN model\n",
    "# YOUR CODE HERE\n",
    "raise NotImplementedError()\n",
    "\n",
    "# Setup the training loop\n",
    "# Regularly record the loss and sample from the model to monitor what is happening\n",
    "# YOUR CODE HERE\n",
    "raise NotImplementedError()"
   ]
  },
  {
   "cell_type": "markdown",
   "id": "7a318abd-5c3c-462d-9944-9aec1f78446c",
   "metadata": {
    "deletable": false,
    "editable": false,
    "nbgrader": {
     "cell_type": "markdown",
     "checksum": "113032562a0b82e504d636abf3164360",
     "grade": false,
     "grade_id": "rnn-predict",
     "locked": true,
     "points": 2,
     "schema_version": 3,
     "solution": false,
     "task": true
    }
   },
   "source": [
    "**(Question)** From your trained model, play around with its predictions: start with a custom input sequence and ask the model to predict the rest. Analyze and comment your results."
   ]
  },
  {
   "cell_type": "code",
   "execution_count": null,
   "id": "53d516b1-477c-4237-956a-471062dd6019",
   "metadata": {
    "deletable": false,
    "nbgrader": {
     "cell_type": "code",
     "checksum": "5bd724d3a1f3ba5d0b965b9cf7905160",
     "grade": true,
     "grade_id": "cell-08bfe03b817a9908",
     "locked": false,
     "points": 0,
     "schema_version": 3,
     "solution": true,
     "task": false
    }
   },
   "outputs": [],
   "source": [
    "# YOUR CODE HERE\n",
    "raise NotImplementedError()"
   ]
  },
  {
   "cell_type": "markdown",
   "id": "ad02a4a5-5aab-403a-9bd3-fd752dc1dc9a",
   "metadata": {
    "deletable": false,
    "nbgrader": {
     "cell_type": "markdown",
     "checksum": "288f4746f3c7d1906ca99b35f4a6a6e3",
     "grade": true,
     "grade_id": "cell-6b41d47e15ea128a",
     "locked": false,
     "points": 0,
     "schema_version": 3,
     "solution": true,
     "task": false
    }
   },
   "source": [
    "YOUR ANSWER HERE"
   ]
  },
  {
   "cell_type": "markdown",
   "id": "7de32122-8819-4d6b-8f7a-e96f671311d6",
   "metadata": {
    "deletable": false,
    "editable": false,
    "nbgrader": {
     "cell_type": "markdown",
     "checksum": "2eddbf9984d6a4d51a7ea1301800bdf3",
     "grade": false,
     "grade_id": "cell-a69a65798f792cfc",
     "locked": true,
     "schema_version": 3,
     "solution": false,
     "task": false
    }
   },
   "source": [
    "## 4. Experiment with different RNN architectures"
   ]
  },
  {
   "cell_type": "markdown",
   "id": "d5def498-9119-45fd-8807-8260cd0a05d8",
   "metadata": {
    "deletable": false,
    "editable": false,
    "nbgrader": {
     "cell_type": "markdown",
     "checksum": "977d70928beb993f5bc6323199b1e363",
     "grade": false,
     "grade_id": "rnn-experiments",
     "locked": true,
     "points": 3,
     "schema_version": 3,
     "solution": false,
     "task": true
    }
   },
   "source": [
    "**(Question)** Experiment with different RNN architecures. Potential ideas are multi-layer RNNs, GRUs and LSTMs. All models can be extended to multi-layer using the `num_layers` parameter. Analyze and comment your results."
   ]
  },
  {
   "cell_type": "code",
   "execution_count": null,
   "id": "38c6fe7d-d159-401d-9c7c-f7e9a5b86cba",
   "metadata": {
    "deletable": false,
    "nbgrader": {
     "cell_type": "code",
     "checksum": "77ebb731623feb1292e7758788ad56d4",
     "grade": true,
     "grade_id": "cell-7bbcfb8355f44b5d",
     "locked": false,
     "points": 0,
     "schema_version": 3,
     "solution": true,
     "task": false
    }
   },
   "outputs": [],
   "source": [
    "# YOUR CODE HERE\n",
    "raise NotImplementedError()"
   ]
  },
  {
   "cell_type": "markdown",
   "id": "13329eaa-6a48-47cf-912d-424a79680f91",
   "metadata": {
    "deletable": false,
    "nbgrader": {
     "cell_type": "markdown",
     "checksum": "5bffac2e6bdfed739aea204b3c40a792",
     "grade": true,
     "grade_id": "cell-3961b7f97f038a4b",
     "locked": false,
     "points": 0,
     "schema_version": 3,
     "solution": true,
     "task": false
    }
   },
   "source": [
    "YOUR ANSWER HERE"
   ]
  }
 ],
 "metadata": {
  "kernelspec": {
   "display_name": "Python 3 (ipykernel)",
   "language": "python",
   "name": "python3"
  },
  "language_info": {
   "codemirror_mode": {
    "name": "ipython",
    "version": 3
   },
   "file_extension": ".py",
   "mimetype": "text/x-python",
   "name": "python",
   "nbconvert_exporter": "python",
   "pygments_lexer": "ipython3",
   "version": "3.11.4"
  }
 },
 "nbformat": 4,
 "nbformat_minor": 5
}

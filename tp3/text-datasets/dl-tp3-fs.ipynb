{
 "cells": [
  {
   "cell_type": "markdown",
   "id": "abb49b5c-7533-4bf0-bcce-37373d6fa072",
   "metadata": {
    "deletable": false,
    "editable": false,
    "nbgrader": {
     "cell_type": "markdown",
     "checksum": "d1502bbeee981ecc3a7a4464df92be0c",
     "grade": false,
     "grade_id": "cell-a975d7bfb06f30ae",
     "locked": true,
     "schema_version": 3,
     "solution": false,
     "task": false
    }
   },
   "source": [
    "# IS319 - Deep Learning\n",
    "\n",
    "## TP3 - Recurrent neural networks\n",
    "\n",
    "Credits: Andrej Karpathy\n",
    "\n",
    "The goal of this TP is to experiment with recurrent neural networks for a character-level language model to generate text that looks like training text data."
   ]
  },
  {
   "cell_type": "code",
   "execution_count": 1,
   "id": "16d03ccd-089a-4553-bd96-7bd0c0f71949",
   "metadata": {},
   "outputs": [],
   "source": [
    "import torch\n",
    "import torch.nn as nn\n",
    "import torch.nn.functional as F\n",
    "import matplotlib.pyplot as plt\n",
    "device = torch.device('cuda' if torch.cuda.is_available() else 'cpu')"
   ]
  },
  {
   "cell_type": "markdown",
   "id": "c4c736b5-43df-4aca-9ba3-dd34ed8366f4",
   "metadata": {},
   "source": [
    "## 1. Text data preprocessing\n",
    "\n",
    "Several text datasets are provided, feel free to experiment with different ones throughout the TP. At the beginning, use a small subset of a given dataset (for example use only 10k characters)."
   ]
  },
  {
   "cell_type": "code",
   "execution_count": 2,
   "id": "e56a81b9-b733-4d87-b8d7-2184d5e5c2de",
   "metadata": {},
   "outputs": [
    {
     "name": "stdout",
     "output_type": "stream",
     "text": [
      "Dataset `baudelaire.txt` contains 10000 characters.\n",
      "Excerpt of the dataset:\n",
      "LES FLEURS DU MAL\n",
      "\n",
      "par\n",
      "\n",
      "CHARLES BAUDELAIRE\n",
      "\n",
      "\n",
      "AU LECTEUR\n",
      "\n",
      "\n",
      "La sottise, l'erreur, le péché, la lésine,\n",
      "Occupent nos esprits et travaillent nos corps,\n",
      "Et nous alimentons nos aimables remords,\n",
      "Comme les mendiants nourrissent leur vermine.\n",
      "\n",
      "Nos péchés sont têtus, nos repentirs sont lâches,\n",
      "Nous nous faisons payer grassement nos aveux,\n",
      "Et nous rentrons gaîment dans le chemin bourbeux,\n",
      "Croyant par de vils pleurs laver toutes nos taches.\n",
      "\n",
      "Sur l'oreiller du mal c'est Satan Trismégiste\n",
      "Qui berce longuement notre esprit enchanté,\n",
      "Et le riche métal de notre volonté\n",
      "Est tout vaporisé par ce savant chimiste.\n",
      "\n",
      "C'est le Diable qui tient les fils qui nous remuent!\n",
      "Aux objets répugnants nous trouvons des appas;\n",
      "Chaque jour vers l'Enfer nous descendons d'un pas,\n",
      "Sans horreur, à travers des ténèbres qui puent.\n",
      "\n",
      "Ainsi qu'un débauché pauvre qui baise et mange\n",
      "Le sein martyrisé d'une antique catin,\n",
      "Nous volons au passage un plaisir clandestin\n",
      "Que nous pressons bien fort comme une vieille orange.\n",
      "\n",
      "Serré, fourmillant, comme un million d'helminthes,\n",
      "Dans nos cerveaux ribote un peuple de Démons,\n",
      "Et, quand nous respirons, la Mort dans nos poumons\n",
      "Descend, fleuve invisible, avec de sourdes plaintes.\n",
      "\n",
      "Si le viol, le poison, le poignard, l'incendie,\n",
      "N'ont pas encore brodé de leurs plaisants desseins\n",
      "Le canevas banal de nos piteux destins,\n",
      "C'est que notre âme, hélas! n'est pas assez hardie.\n",
      "\n",
      "Mais parmi les chacals, les panthères, les lices,\n",
      "Les singes, les scorpions, les vautours, les serpents,\n",
      "Les monstres glapissants, hurlants, grognants, rampants\n",
      "Dans la ménagerie infâme de nos vices,\n",
      "\n",
      "Il en est un plus laid, plus méchant, plus immonde!\n",
      "Quoiqu'il ne pousse ni grands gestes ni grands cris,\n",
      "Il ferait volontiers de la terre un débris\n",
      "Et dans un bâillement avalerait le monde;\n",
      "\n",
      "C'est l'Ennui!--L'oeil chargé d'un pleur involontaire,\n",
      "Il rêve d'échafauds en fumant son houka.\n",
      "Tu le connais, lecteur, ce monstre délicat,\n",
      "--Hypocrite lecteur,--mon semblable,--mon frère!\n",
      "\n",
      "\n",
      "\n",
      "\n",
      "SPLEEN ET IDÉAL\n",
      "\n",
      "BENEDICTION\n",
      "\n",
      "\n",
      "L\n"
     ]
    }
   ],
   "source": [
    "text_data_fname = 'baudelaire.txt'  # ~0.1m characters (French)\n",
    "# text_data_fname = 'proust.txt'      # ~7.3m characters (French)\n",
    "# text_data_fname = 'shakespeare.txt' # ~0.1m characters (English)\n",
    "# text_data_fname = 'lotr.txt'        # ~2.5m characters (English)\n",
    "# text_data_fname = 'doom.c'          # ~1m characters (C Code)\n",
    "# text_data_fname = 'linux.c'         # ~11.5m characters (C code)\n",
    "\n",
    "text_data = open(text_data_fname, 'r').read()\n",
    "text_data = text_data[:10000] # use a small subset\n",
    "print(f'Dataset `{text_data_fname}` contains {len(text_data)} characters.')\n",
    "print('Excerpt of the dataset:')\n",
    "print(text_data[:2000])"
   ]
  },
  {
   "cell_type": "markdown",
   "id": "d9b9a404-8b09-4ab1-9529-98ff57650ef5",
   "metadata": {
    "deletable": false,
    "editable": false,
    "nbgrader": {
     "cell_type": "markdown",
     "checksum": "d6b030743489f86ece30d79835434297",
     "grade": false,
     "grade_id": "cell-9695c6f2cf95337c",
     "locked": true,
     "schema_version": 3,
     "solution": false,
     "task": false
    }
   },
   "source": [
    "**(Question)** Create a character-level vocabulary for your text data. Create two dictionaries: `ctoi` mapping each character to an index, and the reverse `itoc` mapping each index to its corresponding character. Implement the functions to convert text to tensor and tensor to text using these mappings. Apply these functions to some text data."
   ]
  },
  {
   "cell_type": "code",
   "execution_count": 3,
   "id": "885ecc8a-c654-463b-9353-f7a18a607199",
   "metadata": {
    "deletable": false,
    "nbgrader": {
     "cell_type": "code",
     "checksum": "e3eb46710b4006993f4eb9c557a2376f",
     "grade": true,
     "grade_id": "vocabulary",
     "locked": false,
     "points": 1,
     "schema_version": 3,
     "solution": true,
     "task": false
    }
   },
   "outputs": [
    {
     "name": "stdout",
     "output_type": "stream",
     "text": [
      "['a', 'f', ';', '«', '»', 'c', 'v', 'ô', 'É', 's', 'Q', 'R', 'V', 'o', 'N', 'n', 'u', 'â', 'm', '.', 'y', 'g', 'M', 'i', '-', 'ù', 'û', 'p', '?', 'h', 't', 'é', ',', ':', 'J', 'è', 'k', ' ', 'ê', 'î', 'C', 'b', 'z', 'l', 'P', 'q', 'x', 'B', 'D', 'U', 'H', 'ç', 'W', 'G', '_', 'A', 'I', '!', 'à', 'E', 'F', 'O', \"'\", 'S', 'T', '\\n', 'd', 'j', 'r', 'e', 'L']\n",
      "{0: 'a', 1: 'f', 2: ';', 3: '«', 4: '»', 5: 'c', 6: 'v', 7: 'ô', 8: 'É', 9: 's', 10: 'Q', 11: 'R', 12: 'V', 13: 'o', 14: 'N', 15: 'n', 16: 'u', 17: 'â', 18: 'm', 19: '.', 20: 'y', 21: 'g', 22: 'M', 23: 'i', 24: '-', 25: 'ù', 26: 'û', 27: 'p', 28: '?', 29: 'h', 30: 't', 31: 'é', 32: ',', 33: ':', 34: 'J', 35: 'è', 36: 'k', 37: ' ', 38: 'ê', 39: 'î', 40: 'C', 41: 'b', 42: 'z', 43: 'l', 44: 'P', 45: 'q', 46: 'x', 47: 'B', 48: 'D', 49: 'U', 50: 'H', 51: 'ç', 52: 'W', 53: 'G', 54: '_', 55: 'A', 56: 'I', 57: '!', 58: 'à', 59: 'E', 60: 'F', 61: 'O', 62: \"'\", 63: 'S', 64: 'T', 65: '\\n', 66: 'd', 67: 'j', 68: 'r', 69: 'e', 70: 'L'}\n",
      "{'a': 0, 'f': 1, ';': 2, '«': 3, '»': 4, 'c': 5, 'v': 6, 'ô': 7, 'É': 8, 's': 9, 'Q': 10, 'R': 11, 'V': 12, 'o': 13, 'N': 14, 'n': 15, 'u': 16, 'â': 17, 'm': 18, '.': 19, 'y': 20, 'g': 21, 'M': 22, 'i': 23, '-': 24, 'ù': 25, 'û': 26, 'p': 27, '?': 28, 'h': 29, 't': 30, 'é': 31, ',': 32, ':': 33, 'J': 34, 'è': 35, 'k': 36, ' ': 37, 'ê': 38, 'î': 39, 'C': 40, 'b': 41, 'z': 42, 'l': 43, 'P': 44, 'q': 45, 'x': 46, 'B': 47, 'D': 48, 'U': 49, 'H': 50, 'ç': 51, 'W': 52, 'G': 53, '_': 54, 'A': 55, 'I': 56, '!': 57, 'à': 58, 'E': 59, 'F': 60, 'O': 61, \"'\": 62, 'S': 63, 'T': 64, '\\n': 65, 'd': 66, 'j': 67, 'r': 68, 'e': 69, 'L': 70}\n",
      "Sample : LES FLEURS\n",
      "Tensor of sample : tensor([70, 59, 63, 37, 60, 70, 59, 49, 11, 63], dtype=torch.int32)\n",
      "Text of tensor : LES FLEURS\n"
     ]
    }
   ],
   "source": [
    "# Create the vocabulary and the two mapping dictionaries\n",
    "# YOUR CODE HERE\n",
    "\n",
    "import numpy as np\n",
    "\n",
    "vocabulary = list(set(text_data))\n",
    "\n",
    "print(vocabulary)\n",
    "\n",
    "ctoi = {vocabulary[num]: num for num in range(0, len(vocabulary))}\n",
    "\n",
    "itoc = {num : vocabulary[num] for num in range(0, len(vocabulary))}\n",
    "\n",
    "print(itoc)\n",
    "print(ctoi)\n",
    "\n",
    "# Implement the function converting text to tensor\n",
    "def text_to_tensor(text, ctoi):\n",
    "    # YOUR CODE HERE\n",
    "    tensor = np.array([ctoi[c] for c in text])\n",
    "    tensor = torch.Tensor(tensor).int()\n",
    "\n",
    "    return tensor \n",
    "\n",
    "# Implement the function converting tensor to text\n",
    "def tensor_to_text(tensor, itoc):\n",
    "    # YOUR CODE HERE\n",
    "    tensor = tensor.numpy()\n",
    "    text = [itoc[i] for i in tensor]\n",
    "\n",
    "    return text\n",
    "\n",
    "# Apply your functions to some text data\n",
    "# YOUR CODE HERE\n",
    "sample = text_data[:10]\n",
    "\n",
    "print(\"Sample : \" + str(sample))\n",
    "\n",
    "s_tensor = text_to_tensor(sample, ctoi)\n",
    "s_text = tensor_to_text(s_tensor, itoc)\n",
    "\n",
    "print(\"Tensor of sample : \" + str(s_tensor))\n",
    "print(\"Text of tensor : \" + \"\".join(s_text))"
   ]
  },
  {
   "cell_type": "markdown",
   "id": "b8da1b7f-549d-45d9-8fea-309ee0e76a90",
   "metadata": {
    "deletable": false,
    "editable": false,
    "nbgrader": {
     "cell_type": "markdown",
     "checksum": "fbfd5a4df6e6081581ad38d7180fddfb",
     "grade": false,
     "grade_id": "cell-172b8befc4633227",
     "locked": true,
     "schema_version": 3,
     "solution": false,
     "task": false
    }
   },
   "source": [
    "## 2. Setup a character-level recurrent neural network"
   ]
  },
  {
   "cell_type": "markdown",
   "id": "3d33cfac-93f7-4980-8510-fcf675d3a06b",
   "metadata": {
    "deletable": false,
    "editable": false,
    "nbgrader": {
     "cell_type": "markdown",
     "checksum": "6cb30929efdd10eb6066750f4b94bf14",
     "grade": false,
     "grade_id": "embedding",
     "locked": true,
     "points": 2,
     "schema_version": 3,
     "solution": false,
     "task": true
    }
   },
   "source": [
    "**(Question)** Setup a simple embedding layer with `nn.Embedding` to project character indices to `embedding_dim` dimensional vectors. Explain precisely how this layer works and what are its outputs for a given input sequence."
   ]
  },
  {
   "cell_type": "code",
   "execution_count": 4,
   "id": "609747a0-6634-4232-92cb-72946ef516b0",
   "metadata": {
    "deletable": false,
    "nbgrader": {
     "cell_type": "code",
     "checksum": "a9dd84493589d73c13fac37411610a2e",
     "grade": true,
     "grade_id": "cell-a3b5adeb8111779b",
     "locked": false,
     "points": 0,
     "schema_version": 3,
     "solution": true,
     "task": false
    }
   },
   "outputs": [],
   "source": [
    "# YOUR CODE HERE\n",
    "\n",
    "vocab_size = len(vocabulary)\n",
    "\n",
    "embedding_dim = 5 # ?\n",
    "\n",
    "embedding_layer = nn.Embedding(vocab_size, embedding_dim)"
   ]
  },
  {
   "cell_type": "code",
   "execution_count": 5,
   "id": "cd338f5d-41e9-4c6f-8510-be5ad74e1283",
   "metadata": {},
   "outputs": [
    {
     "name": "stdout",
     "output_type": "stream",
     "text": [
      "tensor([[ 1.0300, -1.5504, -0.4612,  0.2855,  1.0831],\n",
      "        [-0.8769,  0.3289, -0.3306,  1.2520, -0.5546],\n",
      "        [-1.3907,  0.1205, -0.3566,  1.3498, -0.9746],\n",
      "        [-0.2978,  0.3296, -0.0816, -0.4782,  0.3649],\n",
      "        [ 1.1182, -0.6595, -2.4232, -0.1074, -0.1791],\n",
      "        [ 1.0300, -1.5504, -0.4612,  0.2855,  1.0831],\n",
      "        [-0.8769,  0.3289, -0.3306,  1.2520, -0.5546],\n",
      "        [-0.8367,  1.4818, -0.6446, -1.0677,  0.3188],\n",
      "        [ 0.1404, -0.5862, -1.0873,  0.0299, -0.3499],\n",
      "        [-1.3907,  0.1205, -0.3566,  1.3498, -0.9746]],\n",
      "       grad_fn=<EmbeddingBackward0>)\n"
     ]
    }
   ],
   "source": [
    "#Test \n",
    "\n",
    "sample = text_data[:10]\n",
    "\n",
    "sample_tensor = text_to_tensor(sample, ctoi)\n",
    "\n",
    "s_embedding = embedding_layer(sample_tensor)\n",
    "\n",
    "print(s_embedding)"
   ]
  },
  {
   "cell_type": "markdown",
   "id": "26f7a5e3-f137-49ef-a135-a855029b724b",
   "metadata": {
    "deletable": false,
    "nbgrader": {
     "cell_type": "markdown",
     "checksum": "ba287efa3849a2ddcb98b94b287fd199",
     "grade": true,
     "grade_id": "cell-4065672821a5801f",
     "locked": false,
     "points": 0,
     "schema_version": 3,
     "solution": true,
     "task": false
    }
   },
   "source": [
    "YOUR ANSWER HERE"
   ]
  },
  {
   "cell_type": "markdown",
   "id": "7ebc7b1c-6469-4c63-9965-7a7f39734302",
   "metadata": {
    "deletable": false,
    "editable": false,
    "nbgrader": {
     "cell_type": "markdown",
     "checksum": "6897eae892e4aa50cceac9bca0a83f82",
     "grade": false,
     "grade_id": "base-rnn",
     "locked": true,
     "points": 2,
     "schema_version": 3,
     "solution": false,
     "task": true
    }
   },
   "source": [
    "**(Question)** Setup a single-layer RNN with `nn.RNN` (without defining a custom class). Use `hidden_dim` size for hidden states. Explain precisely the outputs of this layer for a given input sequence."
   ]
  },
  {
   "cell_type": "code",
   "execution_count": 6,
   "id": "162dd7af-cf96-4279-b512-1507433c7826",
   "metadata": {
    "deletable": false,
    "nbgrader": {
     "cell_type": "code",
     "checksum": "095b1c904c7c5fa3d5371de208f7300a",
     "grade": true,
     "grade_id": "cell-c0b3cdd14603b6d1",
     "locked": false,
     "points": 0,
     "schema_version": 3,
     "solution": true,
     "task": false
    }
   },
   "outputs": [],
   "source": [
    "# YOUR CODE HERE\n",
    "\n",
    "hidden_dim = 3\n",
    "\n",
    "simple_rnn = nn.Sequential(\n",
    "    embedding_layer,  \n",
    "    nn.RNN(input_size=embedding_dim, hidden_size=hidden_dim, batch_first=True)\n",
    ")"
   ]
  },
  {
   "cell_type": "code",
   "execution_count": 9,
   "id": "818b8e0d-bd23-4ef0-b992-4035e140fe93",
   "metadata": {},
   "outputs": [
    {
     "name": "stdout",
     "output_type": "stream",
     "text": [
      "tensor([[ 0.0813, -0.6228, -0.8158],\n",
      "        [-0.4311,  0.5758,  0.3703],\n",
      "        [-0.2812,  0.1575,  0.7780],\n",
      "        [ 0.1292, -0.2155, -0.3440],\n",
      "        [ 0.6797,  0.4672, -0.8148],\n",
      "        [ 0.1272, -0.7725, -0.5920],\n",
      "        [-0.3996,  0.5669,  0.3597],\n",
      "        [ 0.3913,  0.1586, -0.0483],\n",
      "        [ 0.4681, -0.0109, -0.2833],\n",
      "        [-0.1605,  0.2112,  0.8182]], grad_fn=<SqueezeBackward1>)\n",
      "tensor([[-0.1605,  0.2112,  0.8182]], grad_fn=<SqueezeBackward1>)\n"
     ]
    }
   ],
   "source": [
    "sample_output, hid = simple_rnn(text_to_tensor(sample, ctoi))\n",
    "print(sample_output)\n",
    "print(hid)"
   ]
  },
  {
   "cell_type": "markdown",
   "id": "56780e84-8767-4941-ba0a-2047b106fc35",
   "metadata": {
    "deletable": false,
    "nbgrader": {
     "cell_type": "markdown",
     "checksum": "2f3230528c7fabd5b26931934ac4e8b0",
     "grade": true,
     "grade_id": "cell-9c6c3e3359e2c37e",
     "locked": false,
     "points": 0,
     "schema_version": 3,
     "solution": true,
     "task": false
    }
   },
   "source": [
    "YOUR ANSWER HERE"
   ]
  },
  {
   "cell_type": "markdown",
   "id": "76df8c7a-2a3d-43a0-9666-a797d1a3dbca",
   "metadata": {
    "deletable": false,
    "editable": false,
    "nbgrader": {
     "cell_type": "markdown",
     "checksum": "3993b8b02d0be0e16de189c4850bbfce",
     "grade": false,
     "grade_id": "rnn-model",
     "locked": true,
     "points": 2,
     "schema_version": 3,
     "solution": false,
     "task": true
    }
   },
   "source": [
    "**(Question)** Create a simple RNN model with a custom `nn.Module` class. It should contain: an embedding layer, a single-layer RNN, and a dense output layer. For each character of the input sequence, the model should predict the probability of the next character. The forward method should return the probabilities for next characters and the corresponding hidden states.\n",
    "After completing the class, create a model and apply the forward pass on some input text. Understand and explain the results.\n",
    "\n",
    "*Note:* depending on how you implement the loss function later, it can be convenient to return logits instead of probabilities, i.e. raw values of the output layer before any activation function. "
   ]
  },
  {
   "cell_type": "code",
   "execution_count": 23,
   "id": "6cc835a8-a05f-4f78-b50e-4edbdb04305f",
   "metadata": {
    "deletable": false,
    "nbgrader": {
     "cell_type": "code",
     "checksum": "b587c6f505f5d3719869ae8a57fcb5c6",
     "grade": true,
     "grade_id": "cell-e55d41dd89bcf74f",
     "locked": false,
     "points": 0,
     "schema_version": 3,
     "solution": true,
     "task": false
    }
   },
   "outputs": [
    {
     "name": "stderr",
     "output_type": "stream",
     "text": [
      "/tmp/ipykernel_20069/2784757363.py:37: UserWarning: Implicit dimension choice for softmax has been deprecated. Change the call to include dim=X as an argument.\n",
      "  probabilities = F.softmax(logits)\n"
     ]
    }
   ],
   "source": [
    "class CharRNN(nn.Module):\n",
    "    def __init__(self, vocab_size, embedding_dim, hidden_dim, num_layers=1):\n",
    "        '''Initialize model parameters and layers.'''\n",
    "        super().__init__()\n",
    "        # YOUR CODE HERE\n",
    "        self.hidden_dim = hidden_dim\n",
    "        self.embedding_dim = embedding_dim\n",
    "        self.vocab_size = vocab_size\n",
    "        self.emb = nn.Embedding(vocab_size, embedding_dim)\n",
    "        self.rnn = nn.RNN(embedding_dim, hidden_dim)\n",
    "        self.lin = nn.Linear(hidden_dim, vocab_size)\n",
    "\n",
    "\n",
    "    def forward(self, tensor_data, hidden_state=None):\n",
    "        '''Apply the forward pass for some text data already converted to tensor.'''\n",
    "        # YOUR CODE HERE\n",
    "        out = self.emb(tensor_data)\n",
    "        out, hid = self.rnn(out, hidden_state)\n",
    "        out = self.lin(out)\n",
    "        \n",
    "        return out, hid\n",
    "\n",
    "# Initialize a model and apply the forward pass on some input text\n",
    "# YOUR CODE HERE\n",
    "\n",
    "embedding_dim = 5\n",
    "hidden_dim = 3\n",
    "\n",
    "model = CharRNN(vocab_size, embedding_dim, hidden_dim)\n",
    "\n",
    "sample = text_data[:10]\n",
    "\n",
    "sample_tensor = text_to_tensor(sample, ctoi)\n",
    "\n",
    "logits, hidden = model(sample_tensor)\n",
    "\n",
    "probabilities = F.softmax(logits)"
   ]
  },
  {
   "cell_type": "markdown",
   "id": "80eb09a2-2c5e-4dd6-922e-a7f0c6cbff85",
   "metadata": {
    "deletable": false,
    "nbgrader": {
     "cell_type": "markdown",
     "checksum": "ae8f4a875df816da1463fc833e40cea4",
     "grade": true,
     "grade_id": "cell-093600fc493e6e4f",
     "locked": false,
     "points": 0,
     "schema_version": 3,
     "solution": true,
     "task": false
    }
   },
   "source": [
    "YOUR ANSWER HERE"
   ]
  },
  {
   "cell_type": "markdown",
   "id": "41614741-8bf2-4ead-8205-788623404a27",
   "metadata": {
    "deletable": false,
    "editable": false,
    "nbgrader": {
     "cell_type": "markdown",
     "checksum": "9bb6ca5b49b7c8b46253cf2a7f1200c5",
     "grade": false,
     "grade_id": "rnn-overfit",
     "locked": true,
     "schema_version": 3,
     "solution": false,
     "task": false
    }
   },
   "source": [
    "**(Question)** Implement a simple training loop to overfit on a small input sequence. The loss function should be a categorical cross entropy on the predicted characters. Monitor the loss function value over the iterations."
   ]
  },
  {
   "cell_type": "code",
   "execution_count": 24,
   "id": "474f97eb-685f-41c1-8249-1eb4df9e168c",
   "metadata": {
    "deletable": false,
    "nbgrader": {
     "cell_type": "code",
     "checksum": "fa15210da5aabdca4ecf3228efec88be",
     "grade": true,
     "grade_id": "cell-1904f4989149b1ef",
     "locked": false,
     "points": 3,
     "schema_version": 3,
     "solution": true,
     "task": false
    }
   },
   "outputs": [
    {
     "name": "stdout",
     "output_type": "stream",
     "text": [
      "Epoch [10/200], Loss: 3.7675\n",
      "Epoch [20/200], Loss: 3.1834\n",
      "Epoch [30/200], Loss: 2.9093\n",
      "Epoch [40/200], Loss: 2.7120\n",
      "Epoch [50/200], Loss: 2.5866\n",
      "Epoch [60/200], Loss: 2.4981\n",
      "Epoch [70/200], Loss: 2.4327\n",
      "Epoch [80/200], Loss: 2.3768\n",
      "Epoch [90/200], Loss: 2.3247\n",
      "Epoch [100/200], Loss: 2.2747\n",
      "Epoch [110/200], Loss: 2.2272\n",
      "Epoch [120/200], Loss: 2.1828\n",
      "Epoch [130/200], Loss: 2.1407\n",
      "Epoch [140/200], Loss: 2.1010\n",
      "Epoch [150/200], Loss: 2.0626\n",
      "Epoch [160/200], Loss: 2.0173\n",
      "Epoch [170/200], Loss: 1.9835\n",
      "Epoch [180/200], Loss: 1.9482\n",
      "Epoch [190/200], Loss: 1.9211\n",
      "Epoch [200/200], Loss: 1.8980\n"
     ]
    }
   ],
   "source": [
    "# Sample a small input sequence into tensor `input_seq` and store its corresponding expected sequence into tensor `target_seq`\n",
    "# YOUR CODE HERE\n",
    "\n",
    "# Implement a training loop overfitting an input sequence and monitoring the loss function\n",
    "def train_overfit(model, input_seq, target_seq, n_iters=200, learning_rate=0.2):\n",
    "    # YOUR CODE HERE\n",
    "    criterion = nn.CrossEntropyLoss()\n",
    "    # criterion = nn.MSELoss()\n",
    "    optimizer = torch.optim.SGD(model.parameters(), lr=learning_rate, weight_decay = 0.005, momentum = 0.9)  \n",
    "\n",
    "    for i in range(n_iters):\n",
    "        outputs, _ = model(input_seq)\n",
    "        loss = criterion(outputs, target_seq)\n",
    "        optimizer.zero_grad()\n",
    "        loss.backward()\n",
    "        optimizer.step()\n",
    "        if((i+1)%10==0):\n",
    "            print('Epoch [{}/{}], Loss: {:.4f}'.format(i+1, n_iters, loss.item()))\n",
    "\n",
    "    \n",
    "# Initialize a model and make it overfit the input sequence\n",
    "# YOUR CODE HERE\n",
    "\n",
    "def one_hot(input_seq, target_seq, vocab_size, ctoi):\n",
    "    one_hot_vec = np.zeros((len(input_seq), vocab_size))\n",
    "    for i, c in enumerate(input_seq):\n",
    "        t_index = ctoi[target_seq[i]]\n",
    "        one_hot_vec[i][t_index] = 1\n",
    "    return torch.Tensor(one_hot_vec)\n",
    "\n",
    "\n",
    "input_seq = text_data[:100]\n",
    "target_seq = text_data[1:101]\n",
    "\n",
    "target_seq = one_hot(input_seq, target_seq, vocab_size, ctoi)\n",
    "input_seq = text_to_tensor(input_seq, ctoi)\n",
    "\n",
    "embedding_dim = 5\n",
    "hidden_dim = 3\n",
    "\n",
    "model = CharRNN(vocab_size, embedding_dim, hidden_dim)\n",
    "\n",
    "train_overfit(model, input_seq, target_seq)"
   ]
  },
  {
   "cell_type": "markdown",
   "id": "68c66f34-7afb-4920-b6d2-5642d28a0770",
   "metadata": {
    "deletable": false,
    "editable": false,
    "nbgrader": {
     "cell_type": "markdown",
     "checksum": "9cd6d0a90166cea96ce250f8d8f2e083",
     "grade": false,
     "grade_id": "rnn-argmax",
     "locked": true,
     "points": 2,
     "schema_version": 3,
     "solution": false,
     "task": true
    }
   },
   "source": [
    "**(Question)** Implement a `predict_argmax` method for your `RNN` model. Then, verify your overfitting: use some characters of your input sequence as context to predict the remaining ones. Experiment with the current model and analyze the results."
   ]
  },
  {
   "cell_type": "code",
   "execution_count": 38,
   "id": "4d0350ae-a23a-4802-a2a5-012193ede15b",
   "metadata": {
    "deletable": false,
    "nbgrader": {
     "cell_type": "code",
     "checksum": "0114ed939e7dd8b656bd0f03bd576a89",
     "grade": true,
     "grade_id": "cell-2d706c010aeccb0d",
     "locked": false,
     "points": 0,
     "schema_version": 3,
     "solution": true,
     "task": false
    }
   },
   "outputs": [
    {
     "name": "stdout",
     "output_type": "stream",
     "text": [
      "Epoch [10/200], Loss: 3.3685\n",
      "Epoch [20/200], Loss: 2.9978\n",
      "Epoch [30/200], Loss: 2.7820\n",
      "Epoch [40/200], Loss: 2.6133\n",
      "Epoch [50/200], Loss: 2.4889\n",
      "Epoch [60/200], Loss: 2.3862\n",
      "Epoch [70/200], Loss: 2.3005\n",
      "Epoch [80/200], Loss: 2.2258\n",
      "Epoch [90/200], Loss: 2.1601\n",
      "Epoch [100/200], Loss: 2.1002\n",
      "Epoch [110/200], Loss: 2.0445\n",
      "Epoch [120/200], Loss: 1.9928\n",
      "Epoch [130/200], Loss: 1.9446\n",
      "Epoch [140/200], Loss: 1.9249\n",
      "Epoch [150/200], Loss: 1.8735\n",
      "Epoch [160/200], Loss: 1.8244\n",
      "Epoch [170/200], Loss: 1.8640\n",
      "Epoch [180/200], Loss: 1.7646\n",
      "Epoch [190/200], Loss: 1.7174\n",
      "Epoch [200/200], Loss: 1.6763\n",
      "e le pas,\n",
      "Et nous nous palt par cous des eut le pas,\n",
      "Et nous nous palt par cous des eut le pas,\n",
      "Et nous nous palt par cous des eut le pas,\n",
      "Et nous nous palt par cous des eut le pas,\n",
      "Et nous nous palt \n"
     ]
    }
   ],
   "source": [
    "class CharRNN(CharRNN):\n",
    "    def predict_argmax(self, context_tensor, n_predictions):\n",
    "        # Apply the forward pass for the context tensor\n",
    "        # Then, store the last prediction and last hidden state\n",
    "        # YOUR CODE HERE\n",
    "        out, hid = self.forward(context_tensor)\n",
    "        self.last_out = out[-1]\n",
    "        self.last_hid = hid[-1].unsqueeze(-1)\n",
    "        \n",
    "        # Use the last prediction and last hidden state as inputs to the next forward pass\n",
    "        # Do this in a loop to predict the next `n_predictions` characters\n",
    "        # YOUR CODE HERE\n",
    "        predictions = []\n",
    "        for i in range(n_predictions):\n",
    "            str_out = itoc[np.argmax(F.softmax(self.last_out, -1).detach().numpy())]\n",
    "            predictions.append(str_out)\n",
    "            self.last_out = text_to_tensor(str_out, ctoi)\n",
    "            log, hid = self.forward(self.last_out, self.last_hid.view(1, self.hidden_dim))\n",
    "            self.last_out = log\n",
    "            self.last_hid = hid.unsqueeze(-1)  \n",
    "            \n",
    "        return predictions\n",
    "            \n",
    "        \n",
    "\n",
    "# Initialize a model and make it overfit as above\n",
    "# Then, verify your overfitting by predicting characters given some context\n",
    "# YOUR CODE HERE\n",
    "\n",
    "input_seq = text_data[:1000]\n",
    "target_seq = text_data[1:1001]\n",
    "\n",
    "target_seq = one_hot(input_seq, target_seq, vocab_size, ctoi)\n",
    "input_seq = text_to_tensor(input_seq, ctoi)\n",
    "\n",
    "embedding_dim = 10\n",
    "hidden_dim = 30\n",
    "\n",
    "model = CharRNN(vocab_size, embedding_dim, hidden_dim)\n",
    "\n",
    "train_overfit(model, input_seq, target_seq)\n",
    "\n",
    "predictions = model.predict_argmax(text_to_tensor(\"D'accord\", ctoi), 200)\n",
    "\n",
    "predictions = \"\".join(predictions)\n",
    "\n",
    "print(predictions)"
   ]
  },
  {
   "cell_type": "markdown",
   "id": "4b3e9b8b-f952-43af-a2f0-084451d85759",
   "metadata": {
    "deletable": false,
    "nbgrader": {
     "cell_type": "markdown",
     "checksum": "25bd5ff990e4cf55e89b26541d0acf34",
     "grade": true,
     "grade_id": "cell-b783299fd35282d3",
     "locked": false,
     "points": 0,
     "schema_version": 3,
     "solution": true,
     "task": false
    }
   },
   "source": [
    "YOUR ANSWER HERE"
   ]
  },
  {
   "cell_type": "markdown",
   "id": "e4f5d3e9-9a68-48b8-a549-0fc2b9f2b2ff",
   "metadata": {
    "deletable": false,
    "editable": false,
    "nbgrader": {
     "cell_type": "markdown",
     "checksum": "f34d247477f051d257bc1337cfc611fa",
     "grade": false,
     "grade_id": "cell-52baebc1e4eb464c",
     "locked": true,
     "schema_version": 3,
     "solution": false,
     "task": false
    }
   },
   "source": [
    "Using the argmax function to predict the next character can yield a deterministic generator always predicting the same characters. Instead, it is common to predict the next character by sampling from the distribution of output predictions, adding some randomness into the generator."
   ]
  },
  {
   "cell_type": "markdown",
   "id": "5701d4df-dca5-4884-8ac2-c8efe4fe4641",
   "metadata": {
    "deletable": false,
    "editable": false,
    "nbgrader": {
     "cell_type": "markdown",
     "checksum": "9cefa534edd726def1328ea0b48ed29d",
     "grade": false,
     "grade_id": "cell-e85a5e3954f17ad2",
     "locked": true,
     "schema_version": 3,
     "solution": false,
     "task": false
    }
   },
   "source": [
    "**(Question)** Implement a `predict_proba` method for your `RNN` model. It should be very similar to `predict_argmax`, but instead of using argmax, it should randomly sample from the output predictions. To do that, you can use the `torch.distribution.Categorical` class and its `sample()` method. Verify that your method correctly added some randomness."
   ]
  },
  {
   "cell_type": "code",
   "execution_count": null,
   "id": "72da1efb-39b8-496d-9c8f-cea241c41364",
   "metadata": {
    "deletable": false,
    "nbgrader": {
     "cell_type": "code",
     "checksum": "2ba3d32edc8f535eb8923fb8e71c9fe4",
     "grade": true,
     "grade_id": "rnn-sample",
     "locked": false,
     "points": 2,
     "schema_version": 3,
     "solution": true,
     "task": false
    }
   },
   "outputs": [],
   "source": [
    "class CharRNN(CharRNN):\n",
    "    def predict_proba(self, input_context, n_predictions):\n",
    "        # YOUR CODE HERE\n",
    "        raise NotImplementedError()\n",
    "\n",
    "# Verify that your predictions are not deterministic anymore\n",
    "# YOUR CODE HERE\n",
    "raise NotImplementedError()"
   ]
  },
  {
   "cell_type": "markdown",
   "id": "9912f5cc-3627-41e8-b5ef-6d30f7c4868a",
   "metadata": {
    "deletable": false,
    "editable": false,
    "nbgrader": {
     "cell_type": "markdown",
     "checksum": "e56bfe8d33a343e270cfe35720aeea26",
     "grade": false,
     "grade_id": "cell-6389d46b2b8abaa0",
     "locked": true,
     "schema_version": 3,
     "solution": false,
     "task": false
    }
   },
   "source": [
    "## 3. Train the RNN model on text data"
   ]
  },
  {
   "cell_type": "markdown",
   "id": "8024df30-af42-4ca9-be0e-16614ead56cb",
   "metadata": {
    "deletable": false,
    "editable": false,
    "nbgrader": {
     "cell_type": "markdown",
     "checksum": "44f87a393c4ae266b59141953d170a7e",
     "grade": false,
     "grade_id": "rnn-train",
     "locked": true,
     "points": 4,
     "schema_version": 3,
     "solution": false,
     "task": true
    }
   },
   "source": [
    "**(Question)** Adapt your previous code to implement a proper training loop for a text dataset. To do so, we need to specify a sequence length `seq_len`, acting similarly to the batch size in classic neural networks. Then, you can either randomly sample sequences of length `seq_len` from the text dataset over `n_iters` iterations, or properly loop over the text dataset for `n_epochs` epochs (with a random starting point for each epoch to ensure different sequences), to make sure the whole dataset is seen by the model. Feel free to adjust training and model parameters empirically. Start with a small model and a small subset of the text dataset, then move on to larger experiments. Remember to use GPU if available."
   ]
  },
  {
   "cell_type": "code",
   "execution_count": null,
   "id": "f65d237e-d095-45c4-ab12-6307a5bda255",
   "metadata": {
    "deletable": false,
    "nbgrader": {
     "cell_type": "code",
     "checksum": "17faecb7751e77b7fe8cae66820687ea",
     "grade": true,
     "grade_id": "cell-a4695fabcf78e1a8",
     "locked": false,
     "points": 0,
     "schema_version": 3,
     "solution": true,
     "task": false
    }
   },
   "outputs": [],
   "source": [
    "# Create the text dataset, compute its mappings and convert it to tensor\n",
    "# YOUR CODE HERE\n",
    "raise NotImplementedError()\n",
    "\n",
    "# Initialize training parameters\n",
    "# YOUR CODE HERE\n",
    "raise NotImplementedError()\n",
    "\n",
    "# Initialize a character-level RNN model\n",
    "# YOUR CODE HERE\n",
    "raise NotImplementedError()\n",
    "\n",
    "# Setup the training loop\n",
    "# Regularly record the loss and sample from the model to monitor what is happening\n",
    "# YOUR CODE HERE\n",
    "raise NotImplementedError()"
   ]
  },
  {
   "cell_type": "markdown",
   "id": "7a318abd-5c3c-462d-9944-9aec1f78446c",
   "metadata": {
    "deletable": false,
    "editable": false,
    "nbgrader": {
     "cell_type": "markdown",
     "checksum": "113032562a0b82e504d636abf3164360",
     "grade": false,
     "grade_id": "rnn-predict",
     "locked": true,
     "points": 2,
     "schema_version": 3,
     "solution": false,
     "task": true
    }
   },
   "source": [
    "**(Question)** From your trained model, play around with its predictions: start with a custom input sequence and ask the model to predict the rest. Analyze and comment your results."
   ]
  },
  {
   "cell_type": "code",
   "execution_count": null,
   "id": "53d516b1-477c-4237-956a-471062dd6019",
   "metadata": {
    "deletable": false,
    "nbgrader": {
     "cell_type": "code",
     "checksum": "5bd724d3a1f3ba5d0b965b9cf7905160",
     "grade": true,
     "grade_id": "cell-08bfe03b817a9908",
     "locked": false,
     "points": 0,
     "schema_version": 3,
     "solution": true,
     "task": false
    }
   },
   "outputs": [],
   "source": [
    "# YOUR CODE HERE\n",
    "raise NotImplementedError()"
   ]
  },
  {
   "cell_type": "markdown",
   "id": "ad02a4a5-5aab-403a-9bd3-fd752dc1dc9a",
   "metadata": {
    "deletable": false,
    "nbgrader": {
     "cell_type": "markdown",
     "checksum": "288f4746f3c7d1906ca99b35f4a6a6e3",
     "grade": true,
     "grade_id": "cell-6b41d47e15ea128a",
     "locked": false,
     "points": 0,
     "schema_version": 3,
     "solution": true,
     "task": false
    }
   },
   "source": [
    "YOUR ANSWER HERE"
   ]
  },
  {
   "cell_type": "markdown",
   "id": "7de32122-8819-4d6b-8f7a-e96f671311d6",
   "metadata": {
    "deletable": false,
    "editable": false,
    "nbgrader": {
     "cell_type": "markdown",
     "checksum": "2eddbf9984d6a4d51a7ea1301800bdf3",
     "grade": false,
     "grade_id": "cell-a69a65798f792cfc",
     "locked": true,
     "schema_version": 3,
     "solution": false,
     "task": false
    }
   },
   "source": [
    "## 4. Experiment with different RNN architectures"
   ]
  },
  {
   "cell_type": "markdown",
   "id": "d5def498-9119-45fd-8807-8260cd0a05d8",
   "metadata": {
    "deletable": false,
    "editable": false,
    "nbgrader": {
     "cell_type": "markdown",
     "checksum": "977d70928beb993f5bc6323199b1e363",
     "grade": false,
     "grade_id": "rnn-experiments",
     "locked": true,
     "points": 3,
     "schema_version": 3,
     "solution": false,
     "task": true
    }
   },
   "source": [
    "**(Question)** Experiment with different RNN architecures. Potential ideas are multi-layer RNNs, GRUs and LSTMs. All models can be extended to multi-layer using the `num_layers` parameter. Analyze and comment your results."
   ]
  },
  {
   "cell_type": "code",
   "execution_count": null,
   "id": "38c6fe7d-d159-401d-9c7c-f7e9a5b86cba",
   "metadata": {
    "deletable": false,
    "nbgrader": {
     "cell_type": "code",
     "checksum": "77ebb731623feb1292e7758788ad56d4",
     "grade": true,
     "grade_id": "cell-7bbcfb8355f44b5d",
     "locked": false,
     "points": 0,
     "schema_version": 3,
     "solution": true,
     "task": false
    }
   },
   "outputs": [],
   "source": [
    "# YOUR CODE HERE\n",
    "raise NotImplementedError()"
   ]
  },
  {
   "cell_type": "markdown",
   "id": "13329eaa-6a48-47cf-912d-424a79680f91",
   "metadata": {
    "deletable": false,
    "nbgrader": {
     "cell_type": "markdown",
     "checksum": "5bffac2e6bdfed739aea204b3c40a792",
     "grade": true,
     "grade_id": "cell-3961b7f97f038a4b",
     "locked": false,
     "points": 0,
     "schema_version": 3,
     "solution": true,
     "task": false
    }
   },
   "source": [
    "YOUR ANSWER HERE"
   ]
  }
 ],
 "metadata": {
  "kernelspec": {
   "display_name": "Python 3 (ipykernel)",
   "language": "python",
   "name": "python3"
  },
  "language_info": {
   "codemirror_mode": {
    "name": "ipython",
    "version": 3
   },
   "file_extension": ".py",
   "mimetype": "text/x-python",
   "name": "python",
   "nbconvert_exporter": "python",
   "pygments_lexer": "ipython3",
   "version": "3.10.12"
  }
 },
 "nbformat": 4,
 "nbformat_minor": 5
}

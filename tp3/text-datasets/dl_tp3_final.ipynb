{
 "cells": [
  {
   "cell_type": "markdown",
   "id": "abb49b5c-7533-4bf0-bcce-37373d6fa072",
   "metadata": {
    "deletable": false,
    "editable": false,
    "id": "abb49b5c-7533-4bf0-bcce-37373d6fa072",
    "nbgrader": {
     "cell_type": "markdown",
     "checksum": "d1502bbeee981ecc3a7a4464df92be0c",
     "grade": false,
     "grade_id": "cell-a975d7bfb06f30ae",
     "locked": true,
     "schema_version": 3,
     "solution": false,
     "task": false
    }
   },
   "source": [
    "# IS319 - Deep Learning\n",
    "\n",
    "## TP3 - Recurrent neural networks\n",
    "\n",
    "Credits: Andrej Karpathy\n",
    "\n",
    "The goal of this TP is to experiment with recurrent neural networks for a character-level language model to generate text that looks like training text data."
   ]
  },
  {
   "cell_type": "code",
   "execution_count": 1,
   "id": "16d03ccd-089a-4553-bd96-7bd0c0f71949",
   "metadata": {
    "id": "16d03ccd-089a-4553-bd96-7bd0c0f71949"
   },
   "outputs": [],
   "source": [
    "import torch\n",
    "import torch.nn as nn\n",
    "import torch.nn.functional as F\n",
    "import matplotlib.pyplot as plt\n",
    "device = torch.device('cuda' if torch.cuda.is_available() else 'cpu')"
   ]
  },
  {
   "cell_type": "markdown",
   "id": "c4c736b5-43df-4aca-9ba3-dd34ed8366f4",
   "metadata": {
    "id": "c4c736b5-43df-4aca-9ba3-dd34ed8366f4"
   },
   "source": [
    "## 1. Text data preprocessing\n",
    "\n",
    "Several text datasets are provided, feel free to experiment with different ones throughout the TP. At the beginning, use a small subset of a given dataset (for example use only 10k characters)."
   ]
  },
  {
   "cell_type": "code",
   "execution_count": 2,
   "id": "LdINbAH3tFYw",
   "metadata": {
    "colab": {
     "base_uri": "https://localhost:8080/"
    },
    "id": "LdINbAH3tFYw",
    "outputId": "32b26b47-e05e-472e-94b6-9fb654cae885"
   },
   "outputs": [
    {
     "name": "stdout",
     "output_type": "stream",
     "text": [
      "tar: text-datasets.tgz: Cannot open: No such file or directory\n",
      "tar: Error is not recoverable: exiting now\n"
     ]
    }
   ],
   "source": [
    "!tar -xvf text-datasets.tgz"
   ]
  },
  {
   "cell_type": "code",
   "execution_count": 3,
   "id": "e56a81b9-b733-4d87-b8d7-2184d5e5c2de",
   "metadata": {
    "colab": {
     "base_uri": "https://localhost:8080/"
    },
    "id": "e56a81b9-b733-4d87-b8d7-2184d5e5c2de",
    "outputId": "2b992603-fe62-4cbc-d0cf-c927c8c649a7"
   },
   "outputs": [
    {
     "name": "stdout",
     "output_type": "stream",
     "text": [
      "Dataset `baudelaire.txt` contains 10000 characters.\n",
      "Excerpt of the dataset:\n",
      "LES FLEURS DU MAL\n",
      "\n",
      "par\n",
      "\n",
      "CHARLES BAUDELAIRE\n",
      "\n",
      "\n",
      "AU LECTEUR\n",
      "\n",
      "\n",
      "La sottise, l'erreur, le péché, la lésine,\n",
      "Occupent nos esprits et travaillent nos corps,\n",
      "Et nous alimentons nos aimables remords,\n",
      "Comme les mendiants nourrissent leur vermine.\n",
      "\n",
      "Nos péchés sont têtus, nos repentirs sont lâches,\n",
      "Nous nous faisons payer grassement nos aveux,\n",
      "Et nous rentrons gaîment dans le chemin bourbeux,\n",
      "Croyant par de vils pleurs laver toutes nos taches.\n",
      "\n",
      "Sur l'oreiller du mal c'est Satan Trismégiste\n",
      "Qui berce longuement notre esprit enchanté,\n",
      "Et le riche métal de notre volonté\n",
      "Est tout vaporisé par ce savant chimiste.\n",
      "\n",
      "C'est le Diable qui tient les fils qui nous remuent!\n",
      "Aux objets répugnants nous trouvons des appas;\n",
      "Chaque jour vers l'Enfer nous descendons d'un pas,\n",
      "Sans horreur, à travers des ténèbres qui puent.\n",
      "\n",
      "Ainsi qu'un débauché pauvre qui baise et mange\n",
      "Le sein martyrisé d'une antique catin,\n",
      "Nous volons au passage un plaisir clandestin\n",
      "Que nous pressons bien fort comme une vieille orange.\n",
      "\n",
      "Serré, fourmillant, comme un million d'helminthes,\n",
      "Dans nos cerveaux ribote un peuple de Démons,\n",
      "Et, quand nous respirons, la Mort dans nos poumons\n",
      "Descend, fleuve invisible, avec de sourdes plaintes.\n",
      "\n",
      "Si le viol, le poison, le poignard, l'incendie,\n",
      "N'ont pas encore brodé de leurs plaisants desseins\n",
      "Le canevas banal de nos piteux destins,\n",
      "C'est que notre âme, hélas! n'est pas assez hardie.\n",
      "\n",
      "Mais parmi les chacals, les panthères, les lices,\n",
      "Les singes, les scorpions, les vautours, les serpents,\n",
      "Les monstres glapissants, hurlants, grognants, rampants\n",
      "Dans la ménagerie infâme de nos vices,\n",
      "\n",
      "Il en est un plus laid, plus méchant, plus immonde!\n",
      "Quoiqu'il ne pousse ni grands gestes ni grands cris,\n",
      "Il ferait volontiers de la terre un débris\n",
      "Et dans un bâillement avalerait le monde;\n",
      "\n",
      "C'est l'Ennui!--L'oeil chargé d'un pleur involontaire,\n",
      "Il rêve d'échafauds en fumant son houka.\n",
      "Tu le connais, lecteur, ce monstre délicat,\n",
      "--Hypocrite lecteur,--mon semblable,--mon frère!\n",
      "\n",
      "\n",
      "\n",
      "\n",
      "SPLEEN ET IDÉAL\n",
      "\n",
      "BENEDICTION\n",
      "\n",
      "\n",
      "L\n"
     ]
    }
   ],
   "source": [
    "text_data_fname = 'baudelaire.txt'  # ~0.1m characters (French)\n",
    "# text_data_fname = 'proust.txt'      # ~7.3m characters (French)\n",
    "# text_data_fname = 'shakespeare.txt' # ~0.1m characters (English)\n",
    "# text_data_fname = 'lotr.txt'        # ~2.5m characters (English)\n",
    "# text_data_fname = 'doom.c'          # ~1m characters (C Code)\n",
    "# text_data_fname = 'linux.c'         # ~11.5m characters (C code)\n",
    "\n",
    "text_data = open(text_data_fname, 'r',encoding=\"utf8\").read()\n",
    "text_data = text_data[:10000] # use a small subset\n",
    "print(f'Dataset `{text_data_fname}` contains {len(text_data)} characters.')\n",
    "print('Excerpt of the dataset:')\n",
    "print(text_data[:2000])"
   ]
  },
  {
   "cell_type": "markdown",
   "id": "d9b9a404-8b09-4ab1-9529-98ff57650ef5",
   "metadata": {
    "deletable": false,
    "editable": false,
    "id": "d9b9a404-8b09-4ab1-9529-98ff57650ef5",
    "nbgrader": {
     "cell_type": "markdown",
     "checksum": "d6b030743489f86ece30d79835434297",
     "grade": false,
     "grade_id": "cell-9695c6f2cf95337c",
     "locked": true,
     "schema_version": 3,
     "solution": false,
     "task": false
    }
   },
   "source": [
    "**(Question)** Create a character-level vocabulary for your text data. Create two dictionaries: `ctoi` mapping each character to an index, and the reverse `itoc` mapping each index to its corresponding character. Implement the functions to convert text to tensor and tensor to text using these mappings. Apply these functions to some text data."
   ]
  },
  {
   "cell_type": "code",
   "execution_count": 4,
   "id": "885ecc8a-c654-463b-9353-f7a18a607199",
   "metadata": {
    "colab": {
     "base_uri": "https://localhost:8080/"
    },
    "deletable": false,
    "id": "885ecc8a-c654-463b-9353-f7a18a607199",
    "nbgrader": {
     "cell_type": "code",
     "checksum": "e3eb46710b4006993f4eb9c557a2376f",
     "grade": true,
     "grade_id": "vocabulary",
     "locked": false,
     "points": 1,
     "schema_version": 3,
     "solution": true,
     "task": false
    },
    "outputId": "2d836c27-9154-454d-b3b0-74ee9efeb0bb"
   },
   "outputs": [
    {
     "name": "stdout",
     "output_type": "stream",
     "text": [
      "{'î': 0, 'E': 1, 'v': 2, 'P': 3, 'r': 4, 'J': 5, 'S': 6, ' ': 7, 'e': 8, '!': 9, ':': 10, 'g': 11, \"'\": 12, 'a': 13, 'O': 14, 'p': 15, 's': 16, 'T': 17, 'F': 18, 'i': 19, 'z': 20, 'É': 21, 'ô': 22, 'L': 23, 'y': 24, 'x': 25, 'ç': 26, '»': 27, 'G': 28, 'f': 29, 'R': 30, 'C': 31, 'B': 32, 'd': 33, 'u': 34, '.': 35, 'U': 36, 'o': 37, ';': 38, 'V': 39, 'è': 40, 'q': 41, 'c': 42, 'k': 43, 'ù': 44, 't': 45, 'D': 46, ',': 47, 'l': 48, 'b': 49, 'é': 50, 'Q': 51, '?': 52, '-': 53, 'M': 54, 'm': 55, 'N': 56, 'I': 57, '_': 58, 'W': 59, 'à': 60, '«': 61, '\\n': 62, 'h': 63, 'û': 64, 'â': 65, 'A': 66, 'n': 67, 'ê': 68, 'H': 69, 'j': 70}\n",
      "{0: 'î', 1: 'E', 2: 'v', 3: 'P', 4: 'r', 5: 'J', 6: 'S', 7: ' ', 8: 'e', 9: '!', 10: ':', 11: 'g', 12: \"'\", 13: 'a', 14: 'O', 15: 'p', 16: 's', 17: 'T', 18: 'F', 19: 'i', 20: 'z', 21: 'É', 22: 'ô', 23: 'L', 24: 'y', 25: 'x', 26: 'ç', 27: '»', 28: 'G', 29: 'f', 30: 'R', 31: 'C', 32: 'B', 33: 'd', 34: 'u', 35: '.', 36: 'U', 37: 'o', 38: ';', 39: 'V', 40: 'è', 41: 'q', 42: 'c', 43: 'k', 44: 'ù', 45: 't', 46: 'D', 47: ',', 48: 'l', 49: 'b', 50: 'é', 51: 'Q', 52: '?', 53: '-', 54: 'M', 55: 'm', 56: 'N', 57: 'I', 58: '_', 59: 'W', 60: 'à', 61: '«', 62: '\\n', 63: 'h', 64: 'û', 65: 'â', 66: 'A', 67: 'n', 68: 'ê', 69: 'H', 70: 'j'}\n",
      "71\n",
      "tensor([23,  1,  6,  7, 18, 23,  1, 36, 30,  6])\n",
      "LES FLEURS\n"
     ]
    }
   ],
   "source": [
    "# Create the vocabulary and the two mapping dictionaries\n",
    "# YOUR CODE HERE\n",
    "import numpy as np\n",
    "\n",
    "idx = 0\n",
    "ctoi = {}\n",
    "itoc = {}\n",
    "\n",
    "voc = set(text_data)\n",
    "\n",
    "for elt in voc:\n",
    "    ctoi[elt] = idx\n",
    "    itoc[idx] = elt\n",
    "    idx += 1\n",
    "\n",
    "print(ctoi)\n",
    "print(itoc)\n",
    "print(len(ctoi))\n",
    "# Implement the function converting text to tensor\n",
    "def text_to_tensor(text, ctoi):\n",
    "    # YOUR CODE HERE\n",
    "    return torch.LongTensor(np.array([ctoi[c] for c in text]))\n",
    "\n",
    "\n",
    "# Implement the function converting tensor to text\n",
    "def tensor_to_text(tensor, itoc):\n",
    "    # YOUR CODE HERE\n",
    "    return ''.join([itoc[elt.item()] for elt in tensor])#torch.argmax(tensor, dim=2)])\n",
    "\n",
    "# Apply your functions to some text data\n",
    "# YOUR CODE HERE\n",
    "#raise NotImplementedError()\n",
    "a = text_to_tensor(text_data[:10], ctoi)\n",
    "\n",
    "print(a)\n",
    "print(tensor_to_text(a, itoc))\n",
    "\n"
   ]
  },
  {
   "cell_type": "markdown",
   "id": "b8da1b7f-549d-45d9-8fea-309ee0e76a90",
   "metadata": {
    "deletable": false,
    "editable": false,
    "id": "b8da1b7f-549d-45d9-8fea-309ee0e76a90",
    "nbgrader": {
     "cell_type": "markdown",
     "checksum": "fbfd5a4df6e6081581ad38d7180fddfb",
     "grade": false,
     "grade_id": "cell-172b8befc4633227",
     "locked": true,
     "schema_version": 3,
     "solution": false,
     "task": false
    }
   },
   "source": [
    "## 2. Setup a character-level recurrent neural network"
   ]
  },
  {
   "cell_type": "markdown",
   "id": "3d33cfac-93f7-4980-8510-fcf675d3a06b",
   "metadata": {
    "deletable": false,
    "editable": false,
    "id": "3d33cfac-93f7-4980-8510-fcf675d3a06b",
    "nbgrader": {
     "cell_type": "markdown",
     "checksum": "6cb30929efdd10eb6066750f4b94bf14",
     "grade": false,
     "grade_id": "embedding",
     "locked": true,
     "points": 2,
     "schema_version": 3,
     "solution": false,
     "task": true
    }
   },
   "source": [
    "**(Question)** Setup a simple embedding layer with `nn.Embedding` to project character indices to `embedding_dim` dimensional vectors. Explain precisely how this layer works and what are its outputs for a given input sequence."
   ]
  },
  {
   "cell_type": "code",
   "execution_count": 5,
   "id": "609747a0-6634-4232-92cb-72946ef516b0",
   "metadata": {
    "colab": {
     "base_uri": "https://localhost:8080/",
     "height": 373
    },
    "deletable": false,
    "id": "609747a0-6634-4232-92cb-72946ef516b0",
    "nbgrader": {
     "cell_type": "code",
     "checksum": "a9dd84493589d73c13fac37411610a2e",
     "grade": true,
     "grade_id": "cell-a3b5adeb8111779b",
     "locked": false,
     "points": 0,
     "schema_version": 3,
     "solution": true,
     "task": false
    },
    "outputId": "ce1b75e1-b68f-4656-e3eb-7e516e65f093"
   },
   "outputs": [],
   "source": [
    "# YOUR CODE HERE\n",
    "embedding_dim = 5\n",
    "vocab_size = len(ctoi)\n",
    "embedding = nn.Embedding(vocab_size,embedding_dim)\n",
    "\n",
    "emb = embedding(text_to_tensor(text_data[:8], ctoi))"
   ]
  },
  {
   "cell_type": "markdown",
   "id": "26f7a5e3-f137-49ef-a135-a855029b724b",
   "metadata": {
    "deletable": false,
    "id": "26f7a5e3-f137-49ef-a135-a855029b724b",
    "nbgrader": {
     "cell_type": "markdown",
     "checksum": "ba287efa3849a2ddcb98b94b287fd199",
     "grade": true,
     "grade_id": "cell-4065672821a5801f",
     "locked": false,
     "points": 0,
     "schema_version": 3,
     "solution": true,
     "task": false
    }
   },
   "source": [
    "The nn.Embedding layer is designed to embed categorical variables, such as characters or words within a vocabulary, into continuous vectors of a specified dimension (embedding_dim). In the context of an input sequence, the layer transforms the sequence of indices into a tensor of size (len(input_seq), embedding_dim). Each row of this tensor represents the embedding of the corresponding index in the input sequence, projecting it into an embedding_dim-dimensional space.\n",
    "\n",
    "In the example above, the initial representation is randomized. However, when a learning model is applied, the weights of this layer are adjusted through training to capture textual relationships that cannot be represented using inddices in the vocabulary. As the model learns, the embedding vectors adapt to represent semantic connections between the inputs. For instance, characters or words that frequently co-occur in the training set will have proximate representations in the embedding space.\n",
    "\n",
    "This dynamic adjustment of weights during training allows the nn.Embedding layer to create embeddings that encode meaningful relationships between categorical inputs, enhancing the model's ability to understand and generalize from the input data."
   ]
  },
  {
   "cell_type": "markdown",
   "id": "7ebc7b1c-6469-4c63-9965-7a7f39734302",
   "metadata": {
    "deletable": false,
    "editable": false,
    "id": "7ebc7b1c-6469-4c63-9965-7a7f39734302",
    "nbgrader": {
     "cell_type": "markdown",
     "checksum": "6897eae892e4aa50cceac9bca0a83f82",
     "grade": false,
     "grade_id": "base-rnn",
     "locked": true,
     "points": 2,
     "schema_version": 3,
     "solution": false,
     "task": true
    }
   },
   "source": [
    "**(Question)** Setup a single-layer RNN with `nn.RNN` (without defining a custom class). Use `hidden_dim` size for hidden states. Explain precisely the outputs of this layer for a given input sequence."
   ]
  },
  {
   "cell_type": "code",
   "execution_count": 6,
   "id": "162dd7af-cf96-4279-b512-1507433c7826",
   "metadata": {
    "deletable": false,
    "id": "162dd7af-cf96-4279-b512-1507433c7826",
    "nbgrader": {
     "cell_type": "code",
     "checksum": "095b1c904c7c5fa3d5371de208f7300a",
     "grade": true,
     "grade_id": "cell-c0b3cdd14603b6d1",
     "locked": false,
     "points": 0,
     "schema_version": 3,
     "solution": true,
     "task": false
    }
   },
   "outputs": [
    {
     "name": "stdout",
     "output_type": "stream",
     "text": [
      "torch.Size([8, 20])\n",
      "torch.Size([2, 20])\n"
     ]
    }
   ],
   "source": [
    "# YOUR CODE HERE\n",
    "hidden_dim = 20\n",
    "rnn = nn.RNN(input_size=embedding_dim, hidden_size=hidden_dim, num_layers=2)\n",
    "output, hidden = rnn(emb)\n",
    "\n",
    "print(output.size())\n",
    "print(hidden.size())"
   ]
  },
  {
   "cell_type": "markdown",
   "id": "56780e84-8767-4941-ba0a-2047b106fc35",
   "metadata": {
    "deletable": false,
    "id": "56780e84-8767-4941-ba0a-2047b106fc35",
    "nbgrader": {
     "cell_type": "markdown",
     "checksum": "2f3230528c7fabd5b26931934ac4e8b0",
     "grade": true,
     "grade_id": "cell-9c6c3e3359e2c37e",
     "locked": false,
     "points": 0,
     "schema_version": 3,
     "solution": true,
     "task": false
    }
   },
   "source": [
    "For a given input sequence, the nn.RNN layer returns two tensors. The first tensor, named 'output', is of size (len(input), hidden_size). This tensor stores the output of the RNN layer at each time step in the input sequence. Each row of the 'output' tensor represents the hidden state of the RNN at a specific time step.\n",
    "\n",
    "The second tensor, named 'hidden', is of size (num_layers, hidden_dim). This tensor stores the final hidden state of the RNN. In the context of 'hidden' contains the summarization of information from the entire input sequence in each layer of the RNN. It serves as a compact representation that captures the essential features learned by the RNN during the processing of the input sequence."
   ]
  },
  {
   "cell_type": "markdown",
   "id": "76df8c7a-2a3d-43a0-9666-a797d1a3dbca",
   "metadata": {
    "deletable": false,
    "editable": false,
    "id": "76df8c7a-2a3d-43a0-9666-a797d1a3dbca",
    "nbgrader": {
     "cell_type": "markdown",
     "checksum": "3993b8b02d0be0e16de189c4850bbfce",
     "grade": false,
     "grade_id": "rnn-model",
     "locked": true,
     "points": 2,
     "schema_version": 3,
     "solution": false,
     "task": true
    }
   },
   "source": [
    "**(Question)** Create a simple RNN model with a custom `nn.Module` class. It should contain: an embedding layer, a single-layer RNN, and a dense output layer. For each character of the input sequence, the model should predict the probability of the next character. The forward method should return the probabilities for next characters and the corresponding hidden states.\n",
    "After completing the class, create a model and apply the forward pass on some input text. Understand and explain the results.\n",
    "\n",
    "*Note:* depending on how you implement the loss function later, it can be convenient to return logits instead of probabilities, i.e. raw values of the output layer before any activation function."
   ]
  },
  {
   "cell_type": "code",
   "execution_count": 7,
   "id": "6cc835a8-a05f-4f78-b50e-4edbdb04305f",
   "metadata": {
    "deletable": false,
    "id": "6cc835a8-a05f-4f78-b50e-4edbdb04305f",
    "nbgrader": {
     "cell_type": "code",
     "checksum": "b587c6f505f5d3719869ae8a57fcb5c6",
     "grade": true,
     "grade_id": "cell-e55d41dd89bcf74f",
     "locked": false,
     "points": 0,
     "schema_version": 3,
     "solution": true,
     "task": false
    }
   },
   "outputs": [
    {
     "name": "stdout",
     "output_type": "stream",
     "text": [
      "L\n",
      "torch.Size([1, 71])\n"
     ]
    }
   ],
   "source": [
    "class CharRNN(nn.Module):\n",
    "    def __init__(self, vocab_size, embedding_dim, hidden_dim, num_layers=1):\n",
    "        '''Initialize model parameters and layers.'''\n",
    "        super().__init__()\n",
    "        # YOUR CODE HERE\n",
    "        self.embedding = nn.Embedding(vocab_size,embedding_dim)\n",
    "        self.rnn = nn.RNN(input_size=embedding_dim, hidden_size=hidden_dim, num_layers=num_layers)\n",
    "        self.dense = nn.Linear(hidden_dim, vocab_size)\n",
    "\n",
    "    def forward(self, tensor_data, hidden_state=None):\n",
    "        '''Apply the forward pass for some text data already converted to tensor.'''\n",
    "        # YOUR CODE HERE\n",
    "        embedding = self.embedding(tensor_data)\n",
    "        output, hidden = self.rnn(embedding, hidden_state)\n",
    "        logits = self.dense(output)\n",
    "        return logits, hidden\n",
    "\n",
    "# Initialize a model and apply the forward pass on some input text\n",
    "# YOUR CODE HERE\n",
    "\n",
    "\n",
    "vocab_size = len(ctoi)\n",
    "embedding_dim = 200\n",
    "hidden_dim = 100\n",
    "\n",
    "charRNN = CharRNN(vocab_size,embedding_dim,hidden_dim)\n",
    "logits, _ = charRNN.forward(text_to_tensor(text_data[:1],ctoi))\n",
    "\n",
    "print(text_data[0])\n",
    "print(logits.shape)"
   ]
  },
  {
   "cell_type": "markdown",
   "id": "41614741-8bf2-4ead-8205-788623404a27",
   "metadata": {
    "deletable": false,
    "editable": false,
    "id": "41614741-8bf2-4ead-8205-788623404a27",
    "nbgrader": {
     "cell_type": "markdown",
     "checksum": "9bb6ca5b49b7c8b46253cf2a7f1200c5",
     "grade": false,
     "grade_id": "rnn-overfit",
     "locked": true,
     "schema_version": 3,
     "solution": false,
     "task": false
    }
   },
   "source": [
    "**(Question)** Implement a simple training loop to overfit on a small input sequence. The loss function should be a categorical cross entropy on the predicted characters. Monitor the loss function value over the iterations."
   ]
  },
  {
   "cell_type": "code",
   "execution_count": 8,
   "id": "474f97eb-685f-41c1-8249-1eb4df9e168c",
   "metadata": {
    "colab": {
     "base_uri": "https://localhost:8080/",
     "height": 442
    },
    "deletable": false,
    "id": "474f97eb-685f-41c1-8249-1eb4df9e168c",
    "nbgrader": {
     "cell_type": "code",
     "checksum": "fa15210da5aabdca4ecf3228efec88be",
     "grade": true,
     "grade_id": "cell-1904f4989149b1ef",
     "locked": false,
     "points": 3,
     "schema_version": 3,
     "solution": true,
     "task": false
    },
    "outputId": "36089518-13b4-4dc8-8cea-4f9c680adb96"
   },
   "outputs": [
    {
     "name": "stdout",
     "output_type": "stream",
     "text": [
      "tensor([23,  1,  6,  7, 18, 23,  1, 36]) tensor([6])\n",
      "torch.Size([8]) torch.Size([8])\n",
      "Iteration 10/200, Loss: 1.9554550647735596\n",
      "Iteration 20/200, Loss: 0.19256284832954407\n",
      "Iteration 30/200, Loss: 0.056652314960956573\n",
      "Iteration 40/200, Loss: 0.0120839299634099\n",
      "Iteration 50/200, Loss: 0.007024620659649372\n",
      "Iteration 60/200, Loss: 0.005442512221634388\n",
      "Iteration 70/200, Loss: 0.0047719902358949184\n",
      "Iteration 80/200, Loss: 0.004523928742855787\n",
      "Iteration 90/200, Loss: 0.00447916379198432\n",
      "Iteration 100/200, Loss: 0.004535422660410404\n",
      "Iteration 110/200, Loss: 0.0046462747268378735\n",
      "Iteration 120/200, Loss: 0.004790342412889004\n",
      "Iteration 130/200, Loss: 0.004957183264195919\n",
      "Iteration 140/200, Loss: 0.00514143705368042\n",
      "Iteration 150/200, Loss: 0.005339182913303375\n",
      "Iteration 160/200, Loss: 0.0055473302491009235\n",
      "Iteration 170/200, Loss: 0.0057634287513792515\n",
      "Iteration 180/200, Loss: 0.005984853487461805\n",
      "Iteration 190/200, Loss: 0.00620912853628397\n",
      "Iteration 200/200, Loss: 0.006433810107409954\n"
     ]
    }
   ],
   "source": [
    "# Sample a small input sequence into tensor `input_seq` and store its corresponding expected sequence into tensor `target_seq`\n",
    "# YOUR CODE HERE\n",
    "vocab_size = len(ctoi)\n",
    "embedding_dim = 20\n",
    "hidden_dim = 100\n",
    "input_seq = text_to_tensor(text_data[:10], ctoi)\n",
    "input_seq, last_seq = input_seq[:-2], input_seq[-1:]\n",
    "print(input_seq, last_seq)\n",
    "\n",
    "target_seq = torch.cat([input_seq[1:], last_seq])\n",
    "\n",
    "criterion = nn.CrossEntropyLoss()\n",
    "\n",
    "print(input_seq.shape, target_seq.shape)\n",
    "\n",
    "# Implement a training loop overfitting an input sequence and monitoring the loss function\n",
    "def train_overfit(model, input_seq, target_seq, n_iters=200, learning_rate=0.02):\n",
    "    # YOUR CODE HERE\n",
    "    optimizer = torch.optim.SGD(model.parameters(), lr = learning_rate, weight_decay=5e-3, momentum=0.9)\n",
    "    hidden = None\n",
    "\n",
    "    for iter in range(1, n_iters + 1):\n",
    "      logits, hidden = model.forward(input_seq, hidden)\n",
    "      hidden = hidden.detach() #Once we update the hidden state we need to detach it, to not backpropagate through it in the next batch\n",
    "      #output = F.softmax(logits, dim=1)\n",
    "      loss = criterion(logits, target_seq)\n",
    "\n",
    "      optimizer.zero_grad()\n",
    "      loss.backward()\n",
    "      optimizer.step()\n",
    "\n",
    "      if iter % 10 == 0:\n",
    "          print(f'Iteration {iter}/{n_iters}, Loss: {loss.item()}')\n",
    "\n",
    "\n",
    "\n",
    "# Initialize a model and make it overfit the input sequence\n",
    "# YOUR CODE HERE\n",
    "\n",
    "charRNN = CharRNN(vocab_size, embedding_dim, hidden_dim)\n",
    "train_overfit(charRNN, input_seq, target_seq)"
   ]
  },
  {
   "cell_type": "markdown",
   "id": "68c66f34-7afb-4920-b6d2-5642d28a0770",
   "metadata": {
    "deletable": false,
    "editable": false,
    "id": "68c66f34-7afb-4920-b6d2-5642d28a0770",
    "nbgrader": {
     "cell_type": "markdown",
     "checksum": "9cd6d0a90166cea96ce250f8d8f2e083",
     "grade": false,
     "grade_id": "rnn-argmax",
     "locked": true,
     "points": 2,
     "schema_version": 3,
     "solution": false,
     "task": true
    }
   },
   "source": [
    "**(Question)** Implement a `predict_argmax` method for your `RNN` model. Then, verify your overfitting: use some characters of your input sequence as context to predict the remaining ones. Experiment with the current model and analyze the results."
   ]
  },
  {
   "cell_type": "code",
   "execution_count": 9,
   "id": "4d0350ae-a23a-4802-a2a5-012193ede15b",
   "metadata": {
    "colab": {
     "base_uri": "https://localhost:8080/",
     "height": 210
    },
    "deletable": false,
    "id": "4d0350ae-a23a-4802-a2a5-012193ede15b",
    "nbgrader": {
     "cell_type": "code",
     "checksum": "0114ed939e7dd8b656bd0f03bd576a89",
     "grade": true,
     "grade_id": "cell-2d706c010aeccb0d",
     "locked": false,
     "points": 0,
     "schema_version": 3,
     "solution": true,
     "task": false
    },
    "outputId": "615e47b2-8178-4d39-cb7b-ade0f6c71a1b"
   },
   "outputs": [
    {
     "name": "stdout",
     "output_type": "stream",
     "text": [
      "tensor([3, 6, 4, 4, 1, 5, 8, 1, 2, 4, 0, 7]) tensor([6, 4, 4, 1, 5, 8, 1, 2, 4, 0, 7, 5])\n",
      "Iteration 10/200, Loss: 1.5233383178710938\n",
      "Iteration 20/200, Loss: 0.783195972442627\n",
      "Iteration 30/200, Loss: 0.32838568091392517\n",
      "Iteration 40/200, Loss: 0.1534775346517563\n",
      "Iteration 50/200, Loss: 0.0832783505320549\n",
      "Iteration 60/200, Loss: 0.05514344573020935\n",
      "Iteration 70/200, Loss: 0.04263845086097717\n",
      "Iteration 80/200, Loss: 0.03613058105111122\n",
      "Iteration 90/200, Loss: 0.03223803639411926\n",
      "Iteration 100/200, Loss: 0.029654113575816154\n",
      "Iteration 110/200, Loss: 0.027799280360341072\n",
      "Iteration 120/200, Loss: 0.026394164189696312\n",
      "Iteration 130/200, Loss: 0.025290435180068016\n",
      "Iteration 140/200, Loss: 0.024401918053627014\n",
      "Iteration 150/200, Loss: 0.02367417700588703\n",
      "Iteration 160/200, Loss: 0.02307082526385784\n",
      "Iteration 170/200, Loss: 0.022565973922610283\n",
      "Iteration 180/200, Loss: 0.022140586748719215\n",
      "Iteration 190/200, Loss: 0.0217799823731184\n",
      "Iteration 200/200, Loss: 0.021473055705428123\n",
      "hello world! \n"
     ]
    }
   ],
   "source": [
    "class CharRNN(CharRNN):\n",
    "    def predict_argmax(self, context_tensor, n_predictions):\n",
    "        # Apply the forward pass for the context tensor\n",
    "        # Then, store the last prediction and last hidden state\n",
    "        # YOUR CODE HERE\n",
    "        predictions = []\n",
    "        logits, hidden = self.forward(context_tensor)\n",
    "        output = F.softmax(logits, dim=1)[-1]\n",
    "        last_pred = torch.argmax(output)\n",
    "        last_pred = torch.LongTensor(last_pred).unsqueeze(-1)\n",
    "        predictions.append(last_pred)\n",
    "        # Use the last prediction and last hidden state as inputs to the next forward pass\n",
    "        # Do this in a loop to predict the next `n_predictions` characters\n",
    "        # YOUR CODE HERE\n",
    "        for _ in range(n_predictions):\n",
    "            logits, hidden = self.forward(last_pred, hidden)\n",
    "            output = F.softmax(logits, dim=1)\n",
    "            last_pred = torch.argmax(output).unsqueeze(-1)\n",
    "            predictions.append(last_pred)\n",
    "        return predictions\n",
    "\n",
    "overfit_data = \"hello world!\"\n",
    "target_overfit = \"ello world! \"\n",
    "voc_ = set(overfit_data)\n",
    "\n",
    "ctoi_ = {}\n",
    "itoc_ = {}\n",
    "\n",
    "idx_ = 0\n",
    "\n",
    "for elt in voc_:\n",
    "    ctoi_[elt] = idx_\n",
    "    itoc_[idx_] = elt\n",
    "    idx_ += 1\n",
    "# Initialize a model and make it overfit as above\n",
    "# Then, verify your overfitting by predicting characters given some context\n",
    "# YOUR CODE HERE\n",
    "\n",
    "vocab_size = len(ctoi_)\n",
    "embedding_dim = 20\n",
    "hidden_dim = 32\n",
    "\n",
    "\n",
    "input_seq = text_to_tensor(overfit_data, ctoi_)\n",
    "target_seq = text_to_tensor(target_overfit,ctoi_)\n",
    "\n",
    "print(input_seq, target_seq)\n",
    "charRNN = CharRNN(vocab_size, embedding_dim, hidden_dim)\n",
    "train_overfit(charRNN, input_seq, target_seq)\n",
    "\n",
    "print(\"hello\" + tensor_to_text(charRNN.predict_argmax(text_to_tensor(\"hello\",ctoi_),7),itoc_))\n"
   ]
  },
  {
   "cell_type": "markdown",
   "id": "4b3e9b8b-f952-43af-a2f0-084451d85759",
   "metadata": {
    "deletable": false,
    "id": "4b3e9b8b-f952-43af-a2f0-084451d85759",
    "nbgrader": {
     "cell_type": "markdown",
     "checksum": "25bd5ff990e4cf55e89b26541d0acf34",
     "grade": true,
     "grade_id": "cell-b783299fd35282d3",
     "locked": false,
     "points": 0,
     "schema_version": 3,
     "solution": true,
     "task": false
    }
   },
   "source": [
    "The model trained on \"hello world!\" manages to overfit on this sequence, and when asked to generate text given \"hello\" as a context, the model manages to predict \"world!\""
   ]
  },
  {
   "cell_type": "markdown",
   "id": "e4f5d3e9-9a68-48b8-a549-0fc2b9f2b2ff",
   "metadata": {
    "deletable": false,
    "editable": false,
    "id": "e4f5d3e9-9a68-48b8-a549-0fc2b9f2b2ff",
    "nbgrader": {
     "cell_type": "markdown",
     "checksum": "f34d247477f051d257bc1337cfc611fa",
     "grade": false,
     "grade_id": "cell-52baebc1e4eb464c",
     "locked": true,
     "schema_version": 3,
     "solution": false,
     "task": false
    }
   },
   "source": [
    "Using the argmax function to predict the next character can yield a deterministic generator always predicting the same characters. Instead, it is common to predict the next character by sampling from the distribution of output predictions, adding some randomness into the generator."
   ]
  },
  {
   "cell_type": "markdown",
   "id": "5701d4df-dca5-4884-8ac2-c8efe4fe4641",
   "metadata": {
    "deletable": false,
    "editable": false,
    "id": "5701d4df-dca5-4884-8ac2-c8efe4fe4641",
    "nbgrader": {
     "cell_type": "markdown",
     "checksum": "9cefa534edd726def1328ea0b48ed29d",
     "grade": false,
     "grade_id": "cell-e85a5e3954f17ad2",
     "locked": true,
     "schema_version": 3,
     "solution": false,
     "task": false
    }
   },
   "source": [
    "**(Question)** Implement a `predict_proba` method for your `RNN` model. It should be very similar to `predict_argmax`, but instead of using argmax, it should randomly sample from the output predictions. To do that, you can use the `torch.distribution.Categorical` class and its `sample()` method. Verify that your method correctly added some randomness."
   ]
  },
  {
   "cell_type": "code",
   "execution_count": 10,
   "id": "9cf7dbb7",
   "metadata": {},
   "outputs": [
    {
     "name": "stdout",
     "output_type": "stream",
     "text": [
      "argmax :  tensor(2) tensor(0.3000)\n",
      "sample distribution :  tensor(3) tensor(0.2000)\n",
      "sample distribution :  tensor(1) tensor(0.0400)\n",
      "sample distribution :  tensor(2) tensor(0.3000)\n"
     ]
    }
   ],
   "source": [
    "from torch.distributions import Categorical\n",
    "\n",
    "\n",
    "tensor = torch.tensor([0.06,0.04,0.3,0.2,0.1,0.05,0.09,0.06,0.1])\n",
    "distribution = Categorical(probs=tensor)\n",
    "last_pred1 = distribution.sample()\n",
    "last_pred2 = distribution.sample()\n",
    "last_pred3 = distribution.sample()\n",
    "argmax = tensor.argmax()\n",
    "\n",
    "\n",
    "print(\"argmax : \" ,argmax, tensor[argmax])\n",
    "print(\"sample distribution : \", last_pred1, tensor[last_pred1])\n",
    "print(\"sample distribution : \", last_pred2, tensor[last_pred2])\n",
    "print(\"sample distribution : \", last_pred3, tensor[last_pred3])"
   ]
  },
  {
   "cell_type": "code",
   "execution_count": 52,
   "id": "72da1efb-39b8-496d-9c8f-cea241c41364",
   "metadata": {
    "deletable": false,
    "id": "72da1efb-39b8-496d-9c8f-cea241c41364",
    "nbgrader": {
     "cell_type": "code",
     "checksum": "2ba3d32edc8f535eb8923fb8e71c9fe4",
     "grade": true,
     "grade_id": "rnn-sample",
     "locked": false,
     "points": 2,
     "schema_version": 3,
     "solution": true,
     "task": false
    }
   },
   "outputs": [
    {
     "name": "stdout",
     "output_type": "stream",
     "text": [
      "tensor([3, 6, 4, 4, 1, 5, 8, 1, 2, 4, 0, 7]) tensor([6, 4, 4, 1, 5, 8, 1, 2, 4, 0, 7, 5])\n",
      "Iteration 10/200, Loss: 1.9770393371582031\n",
      "Iteration 20/200, Loss: 1.5594006776809692\n",
      "Iteration 30/200, Loss: 1.0353912115097046\n",
      "Iteration 40/200, Loss: 0.5800424218177795\n",
      "Iteration 50/200, Loss: 0.3222600519657135\n",
      "Iteration 60/200, Loss: 0.20012183487415314\n",
      "Iteration 70/200, Loss: 0.14171545207500458\n",
      "Iteration 80/200, Loss: 0.10973448306322098\n",
      "Iteration 90/200, Loss: 0.09056443721055984\n",
      "Iteration 100/200, Loss: 0.07795416563749313\n",
      "Iteration 110/200, Loss: 0.06901571899652481\n",
      "Iteration 120/200, Loss: 0.06235348805785179\n",
      "Iteration 130/200, Loss: 0.05720638111233711\n",
      "Iteration 140/200, Loss: 0.05311970040202141\n",
      "Iteration 150/200, Loss: 0.049804817885160446\n",
      "Iteration 160/200, Loss: 0.04706993326544762\n",
      "Iteration 170/200, Loss: 0.04478207603096962\n",
      "Iteration 180/200, Loss: 0.04284609854221344\n",
      "Iteration 190/200, Loss: 0.041191816329956055\n",
      "Iteration 200/200, Loss: 0.03976643458008766\n",
      "hello world! \n"
     ]
    }
   ],
   "source": [
    "class CharRNN(CharRNN):\n",
    "    def predict_proba(self, input_context, n_predictions):\n",
    "        # YOUR CODE HERE\n",
    "        predictions = []\n",
    "        logits, hidden = self.forward(input_context)\n",
    "        output = F.softmax(logits, dim=1)[-1]\n",
    "        from torch.distributions import Categorical\n",
    "        distribution = Categorical(probs=output)\n",
    "        last_pred = distribution.sample()\n",
    "        #max_pred = torch.argmax(output)\n",
    "        #print(last_pred, max_pred, max(output))\n",
    "        last_pred = torch.LongTensor(last_pred).unsqueeze(-1)\n",
    "        predictions.append(last_pred)\n",
    "        # Use the last prediction and last hidden state as inputs to the next forward pass\n",
    "        # Do this in a loop to predict the next `n_predictions` characters\n",
    "        # YOUR CODE HERE\n",
    "        for _ in range(n_predictions):\n",
    "            logits, hidden = self.forward(last_pred, hidden)\n",
    "            output = F.softmax(logits, dim=1)\n",
    "            #last_pred = torch.argmax(output).unsqueeze(-1)     \n",
    "            distribution = Categorical(logits=output)\n",
    "            last_pred = distribution.sample()\n",
    "            predictions.append(last_pred)\n",
    "        return predictions\n",
    "        \n",
    "\n",
    "vocab_size = len(ctoi_)\n",
    "embedding_dim = 5\n",
    "hidden_dim = 20\n",
    "\n",
    "print(input_seq, target_seq)\n",
    "charRNN = CharRNN(vocab_size, embedding_dim, hidden_dim)\n",
    "train_overfit(charRNN, input_seq, target_seq)\n",
    "\n",
    "print(\"hello\" + tensor_to_text(charRNN.predict_argmax(text_to_tensor(overfit_data,ctoi_),7),itoc_))\n"
   ]
  },
  {
   "cell_type": "markdown",
   "id": "9912f5cc-3627-41e8-b5ef-6d30f7c4868a",
   "metadata": {
    "deletable": false,
    "editable": false,
    "id": "9912f5cc-3627-41e8-b5ef-6d30f7c4868a",
    "nbgrader": {
     "cell_type": "markdown",
     "checksum": "e56bfe8d33a343e270cfe35720aeea26",
     "grade": false,
     "grade_id": "cell-6389d46b2b8abaa0",
     "locked": true,
     "schema_version": 3,
     "solution": false,
     "task": false
    }
   },
   "source": [
    "## 3. Train the RNN model on text data"
   ]
  },
  {
   "cell_type": "markdown",
   "id": "8024df30-af42-4ca9-be0e-16614ead56cb",
   "metadata": {
    "deletable": false,
    "editable": false,
    "id": "8024df30-af42-4ca9-be0e-16614ead56cb",
    "nbgrader": {
     "cell_type": "markdown",
     "checksum": "44f87a393c4ae266b59141953d170a7e",
     "grade": false,
     "grade_id": "rnn-train",
     "locked": true,
     "points": 4,
     "schema_version": 3,
     "solution": false,
     "task": true
    }
   },
   "source": [
    "**(Question)** Adapt your previous code to implement a proper training loop for a text dataset. To do so, we need to specify a sequence length `seq_len`, acting similarly to the batch size in classic neural networks. Then, you can either randomly sample sequences of length `seq_len` from the text dataset over `n_iters` iterations, or properly loop over the text dataset for `n_epochs` epochs (with a random starting point for each epoch to ensure different sequences), to make sure the whole dataset is seen by the model. Feel free to adjust training and model parameters empirically. Start with a small model and a small subset of the text dataset, then move on to larger experiments. Remember to use GPU if available."
   ]
  },
  {
   "cell_type": "code",
   "execution_count": 26,
   "id": "f65d237e-d095-45c4-ab12-6307a5bda255",
   "metadata": {
    "deletable": false,
    "id": "f65d237e-d095-45c4-ab12-6307a5bda255",
    "nbgrader": {
     "cell_type": "code",
     "checksum": "17faecb7751e77b7fe8cae66820687ea",
     "grade": true,
     "grade_id": "cell-a4695fabcf78e1a8",
     "locked": false,
     "points": 0,
     "schema_version": 3,
     "solution": true,
     "task": false
    }
   },
   "outputs": [
    {
     "name": "stdout",
     "output_type": "stream",
     "text": [
      "tensor([23,  1,  6,  7, 18, 23,  1, 36, 30,  6])\n",
      "Epoch 1, Loss: 5.885560512542725\n",
      "Epoch 2, Loss: 5.094353199005127\n",
      "Epoch 3, Loss: 4.323110580444336\n",
      "Epoch 4, Loss: 3.7375683784484863\n",
      "Epoch 5, Loss: 3.367299795150757\n",
      "Epoch 6, Loss: 2.9117343425750732\n",
      "Epoch 7, Loss: 2.5556092262268066\n",
      "Epoch 8, Loss: 2.1915972232818604\n",
      "Epoch 9, Loss: 1.919665813446045\n",
      "Epoch 10, Loss: 1.5312891006469727\n",
      "Epoch 11, Loss: 1.350659966468811\n",
      "Epoch 12, Loss: 1.0119707584381104\n",
      "Epoch 13, Loss: 0.9105053544044495\n",
      "Epoch 14, Loss: 0.7413322925567627\n",
      "Epoch 15, Loss: 0.705493152141571\n",
      "Epoch 16, Loss: 0.582102358341217\n",
      "Epoch 17, Loss: 0.5269046425819397\n",
      "Epoch 18, Loss: 0.4788762331008911\n",
      "Epoch 19, Loss: 0.4838051497936249\n",
      "Epoch 20, Loss: 0.45311132073402405\n",
      "Epoch 21, Loss: 0.39722150564193726\n",
      "Epoch 22, Loss: 0.5340391397476196\n",
      "Epoch 23, Loss: 0.3462653160095215\n",
      "Epoch 24, Loss: 0.2952503561973572\n",
      "Epoch 25, Loss: 0.29238584637641907\n",
      "Epoch 26, Loss: 0.3000987470149994\n",
      "Epoch 27, Loss: 0.2876540720462799\n",
      "Epoch 28, Loss: 0.3902178704738617\n",
      "Epoch 29, Loss: 0.27868273854255676\n",
      "Epoch 30, Loss: 0.20819562673568726\n",
      "Epoch 31, Loss: 0.3398880958557129\n",
      "Epoch 32, Loss: 0.2209274172782898\n",
      "Epoch 33, Loss: 0.22200536727905273\n",
      "Epoch 34, Loss: 0.19677996635437012\n",
      "Epoch 35, Loss: 0.20655259490013123\n",
      "Epoch 36, Loss: 0.18682311475276947\n",
      "Epoch 37, Loss: 0.323672890663147\n",
      "Epoch 38, Loss: 0.20372343063354492\n",
      "Epoch 39, Loss: 0.15141765773296356\n",
      "Epoch 40, Loss: 0.14903657138347626\n",
      "Epoch 41, Loss: 0.1466686725616455\n",
      "Epoch 42, Loss: 0.14149951934814453\n",
      "Epoch 43, Loss: 0.17817801237106323\n",
      "Epoch 44, Loss: 0.14787448942661285\n",
      "Epoch 45, Loss: 0.18381886184215546\n",
      "Epoch 46, Loss: 0.35195979475975037\n",
      "Epoch 47, Loss: 0.24277742207050323\n",
      "Epoch 48, Loss: 0.15899011492729187\n",
      "Epoch 49, Loss: 0.17445418238639832\n",
      "Epoch 50, Loss: 0.17044030129909515\n"
     ]
    }
   ],
   "source": [
    "# Create the text dataset, compute its mappings and convert it to tensor\n",
    "# YOUR CODE HERE\n",
    "seq_len = 10\n",
    "dataset_size = int(len(text_data) / seq_len) + 1\n",
    "text_dataset_input = torch.empty((dataset_size, seq_len)).long()\n",
    "text_dataset_output = torch.empty((dataset_size, seq_len)).long()\n",
    "for i in range(1,len(text_data), seq_len):\n",
    "    target_input = text_to_tensor(text_data[i-1:i-1+seq_len], ctoi)\n",
    "    target_output = text_to_tensor(text_data[i:i + seq_len], ctoi)\n",
    "    if target_input.size(dim=0) != seq_len:\n",
    "        pad = torch.cat([torch.tensor([len(ctoi) - 1]) for _ in range(seq_len - target_input.size(dim=0))])\n",
    "        target_input = torch.cat((target_input,pad))\n",
    "    if target_output.size(dim=0) != seq_len:\n",
    "        pad = torch.cat([torch.tensor([len(ctoi) - 1]) for _ in range(seq_len - target_output.size(dim=0))])\n",
    "        target_output = torch.cat((target_output,pad))\n",
    "    text_dataset_input[int(i / seq_len)] = target_input\n",
    "    text_dataset_output[int(i / seq_len)] = target_output\n",
    "#print(text_to_tensor(text_data[i:i+seq_len],ctoi))\n",
    "print(text_dataset_input[0])\n",
    "\n",
    "# Initialize training parameters\n",
    "# YOUR CODE HERE\n",
    "vocab_size = len(ctoi)\n",
    "embedding_dim = 32\n",
    "hidden_dim = 256\n",
    "n_epochs = 50\n",
    "# Initialize a character-level RNN model\n",
    "# YOUR CODE HERE\n",
    "textRNN = CharRNN(vocab_size, embedding_dim, hidden_dim)\n",
    "\n",
    "optimizer = torch.optim.SGD(textRNN.parameters(), lr = 0.01)#, weight_decay=5e-3, momentum=0.9)\n",
    "criterion = nn.CrossEntropyLoss()\n",
    "# Setup the training loop\n",
    "# Regularly record the loss and sample from the model to monitor what is happening\n",
    "# YOUR CODE HERE\n",
    "def fit(model, text_dataset_input, text_dataset_output, dataset_size,n_epochs, optimizer):\n",
    "  hidden = None\n",
    "  for iter in range(1, n_epochs + 1):\n",
    "    start_idx = torch.randint(0,int(seq_len / 2),(1,)).item() #randomly select a start_idx\n",
    "    for i in range(dataset_size): \n",
    "      logits, hidden = model(text_dataset_input[i][start_idx:],hidden)\n",
    "      hidden = hidden.detach() #Once we update the hidden state we need to detach it, to not backpropagate through it in the next batch\n",
    "      loss = criterion(logits, text_dataset_output[i][start_idx:])\n",
    "      optimizer.zero_grad()\n",
    "      loss.backward()\n",
    "      optimizer.step()\n",
    "\n",
    "      \n",
    "    print(f'Epoch {iter}, Loss: {loss.item()}')\n",
    "  return model\n",
    "\n",
    "textRNN = fit(textRNN, text_dataset_input, text_dataset_output, dataset_size, n_epochs, optimizer)\n",
    "      "
   ]
  },
  {
   "cell_type": "markdown",
   "id": "7a318abd-5c3c-462d-9944-9aec1f78446c",
   "metadata": {
    "deletable": false,
    "editable": false,
    "id": "7a318abd-5c3c-462d-9944-9aec1f78446c",
    "nbgrader": {
     "cell_type": "markdown",
     "checksum": "113032562a0b82e504d636abf3164360",
     "grade": false,
     "grade_id": "rnn-predict",
     "locked": true,
     "points": 2,
     "schema_version": 3,
     "solution": false,
     "task": true
    }
   },
   "source": [
    "**(Question)** From your trained model, play around with its predictions: start with a custom input sequence and ask the model to predict the rest. Analyze and comment your results."
   ]
  },
  {
   "cell_type": "code",
   "execution_count": 50,
   "id": "53d516b1-477c-4237-956a-471062dd6019",
   "metadata": {
    "deletable": false,
    "id": "53d516b1-477c-4237-956a-471062dd6019",
    "nbgrader": {
     "cell_type": "code",
     "checksum": "5bd724d3a1f3ba5d0b965b9cf7905160",
     "grade": true,
     "grade_id": "cell-08bfe03b817a9908",
     "locked": false,
     "points": 0,
     "schema_version": 3,
     "solution": true,
     "task": false
    }
   },
   "outputs": [
    {
     "name": "stdout",
     "output_type": "stream",
     "text": [
      " des mers,\n",
      "Pour toutes des perce de chaque jeume de chaque jeume de chaque jeume de chaque jeume de chaque jeume de chaque jeume de chaque jeume de chaque jeume de chaque jeume de chaque jeume de chaqu\n"
     ]
    }
   ],
   "source": [
    "context_tensor = text_to_tensor(text_data[100:150],ctoi)\n",
    "print(tensor_to_text(textRNN.predict_argmax(context_tensor,200),itoc))\n"
   ]
  },
  {
   "cell_type": "markdown",
   "id": "ad02a4a5-5aab-403a-9bd3-fd752dc1dc9a",
   "metadata": {
    "deletable": false,
    "id": "ad02a4a5-5aab-403a-9bd3-fd752dc1dc9a",
    "nbgrader": {
     "cell_type": "markdown",
     "checksum": "288f4746f3c7d1906ca99b35f4a6a6e3",
     "grade": true,
     "grade_id": "cell-6b41d47e15ea128a",
     "locked": false,
     "points": 0,
     "schema_version": 3,
     "solution": true,
     "task": false
    }
   },
   "source": [
    "YOUR ANSWER HERE"
   ]
  },
  {
   "cell_type": "markdown",
   "id": "7de32122-8819-4d6b-8f7a-e96f671311d6",
   "metadata": {
    "deletable": false,
    "editable": false,
    "id": "7de32122-8819-4d6b-8f7a-e96f671311d6",
    "nbgrader": {
     "cell_type": "markdown",
     "checksum": "2eddbf9984d6a4d51a7ea1301800bdf3",
     "grade": false,
     "grade_id": "cell-a69a65798f792cfc",
     "locked": true,
     "schema_version": 3,
     "solution": false,
     "task": false
    }
   },
   "source": [
    "## 4. Experiment with different RNN architectures"
   ]
  },
  {
   "cell_type": "markdown",
   "id": "d5def498-9119-45fd-8807-8260cd0a05d8",
   "metadata": {
    "deletable": false,
    "editable": false,
    "id": "d5def498-9119-45fd-8807-8260cd0a05d8",
    "nbgrader": {
     "cell_type": "markdown",
     "checksum": "977d70928beb993f5bc6323199b1e363",
     "grade": false,
     "grade_id": "rnn-experiments",
     "locked": true,
     "points": 3,
     "schema_version": 3,
     "solution": false,
     "task": true
    }
   },
   "source": [
    "**(Question)** Experiment with different RNN architecures. Potential ideas are multi-layer RNNs, GRUs and LSTMs. All models can be extended to multi-layer using the `num_layers` parameter. Analyze and comment your results."
   ]
  },
  {
   "cell_type": "code",
   "execution_count": 103,
   "id": "38c6fe7d-d159-401d-9c7c-f7e9a5b86cba",
   "metadata": {
    "deletable": false,
    "id": "38c6fe7d-d159-401d-9c7c-f7e9a5b86cba",
    "nbgrader": {
     "cell_type": "code",
     "checksum": "77ebb731623feb1292e7758788ad56d4",
     "grade": true,
     "grade_id": "cell-7bbcfb8355f44b5d",
     "locked": false,
     "points": 0,
     "schema_version": 3,
     "solution": true,
     "task": false
    }
   },
   "outputs": [],
   "source": [
    "# YOUR CODE HERE\n",
    "class GruNN(CharRNN):\n",
    "    def __init__(self, vocab_size, embedding_dim, hidden_dim, num_layers=1):\n",
    "        '''Initialize model parameters and layers.'''\n",
    "        super().__init__(vocab_size, embedding_dim, hidden_dim, num_layers=1)\n",
    "        # YOUR CODE HERE\n",
    "        self.gru = nn.GRU(input_size=embedding_dim, hidden_size=hidden_dim, num_layers=num_layers)\n",
    "\n",
    "    def forward(self, tensor_data, hidden_state=None):\n",
    "        '''Apply the forward pass for some text data already converted to tensor.'''\n",
    "        # YOUR CODE HERE\n",
    "        embedding = self.embedding(tensor_data)\n",
    "        output, hidden = self.gru(embedding, hidden_state)\n",
    "        logits = self.dense(output)\n",
    "        return logits, hidden\n",
    "        \n",
    "    def predict_argmax(self, context_tensor, n_predictions):\n",
    "        # Apply the forward pass for the context tensor\n",
    "        # Then, store the last prediction and last hidden state\n",
    "        # YOUR CODE HERE\n",
    "        predictions = []\n",
    "        logits, hidden = self.forward(context_tensor)\n",
    "        output = F.softmax(logits, dim=1)[-1]\n",
    "        last_pred = torch.argmax(output)\n",
    "        last_pred = torch.LongTensor(last_pred).unsqueeze(-1)\n",
    "        predictions.append(last_pred)\n",
    "        # Use the last prediction and last hidden state as inputs to the next forward pass\n",
    "        # Do this in a loop to predict the next `n_predictions` characters\n",
    "        # YOUR CODE HERE\n",
    "        for _ in range(n_predictions):\n",
    "            logits, hidden = self.forward(last_pred, hidden)\n",
    "            output = F.softmax(logits, dim=1)\n",
    "            last_pred = torch.argmax(output).unsqueeze(-1)\n",
    "            predictions.append(last_pred)\n",
    "        return predictions"
   ]
  },
  {
   "cell_type": "code",
   "execution_count": 104,
   "id": "e2ca6f76",
   "metadata": {},
   "outputs": [],
   "source": [
    "# YOUR CODE HERE\n",
    "class LSTMNN(CharRNN):\n",
    "    def __init__(self, vocab_size, embedding_dim, hidden_dim, num_layers=1):\n",
    "        '''Initialize model parameters and layers.'''\n",
    "        super().__init__(vocab_size, embedding_dim, hidden_dim)\n",
    "        # YOUR CODE HERE\n",
    "        self.lstm = nn.LSTM(input_size=embedding_dim, hidden_size=hidden_dim, num_layers=num_layers)\n",
    "\n",
    "    def forward(self, tensor_data, hidden_state=None, c=None):\n",
    "        '''Apply the forward pass for some text data already converted to tensor.'''\n",
    "        # YOUR CODE HERE\n",
    "        hidden, c = hidden_state, c\n",
    "        embedding = self.embedding(tensor_data)\n",
    "        if(c is None or hidden is None):\n",
    "            output, (hidden, c) = self.lstm(embedding)\n",
    "        else:\n",
    "            output, (hidden, c) = self.lstm(embedding, (hidden_state, c))\n",
    "        logits = self.dense(output)\n",
    "        return logits, hidden, c\n",
    "\n",
    "    def predict_argmax(self, context_tensor, n_predictions):\n",
    "        # Apply the forward pass for the context tensor\n",
    "        # Then, store the last prediction and last hidden state\n",
    "        # YOUR CODE HERE\n",
    "        predictions = []\n",
    "        logits, hidden, c = self.forward(context_tensor)\n",
    "        output = F.softmax(logits, dim=1)[-1]\n",
    "        last_pred = torch.argmax(output)\n",
    "        last_pred = torch.LongTensor(last_pred).unsqueeze(-1)\n",
    "        predictions.append(last_pred)\n",
    "        # Use the last prediction and last hidden state as inputs to the next forward pass\n",
    "        # Do this in a loop to predict the next `n_predictions` characters\n",
    "        # YOUR CODE HERE\n",
    "        for _ in range(n_predictions):\n",
    "            logits, hidden, c = self.forward(last_pred, hidden)\n",
    "            output = F.softmax(logits, dim=1)\n",
    "            last_pred = torch.argmax(output).unsqueeze(-1)\n",
    "            predictions.append(last_pred)\n",
    "        return predictions\n"
   ]
  },
  {
   "cell_type": "code",
   "execution_count": 105,
   "id": "a46239dc",
   "metadata": {},
   "outputs": [],
   "source": [
    "vocab_size = len(ctoi)\n",
    "embedding_dim = 32\n",
    "hidden_dim = 256\n",
    "\n",
    "n_epochs = 50"
   ]
  },
  {
   "cell_type": "code",
   "execution_count": 106,
   "id": "0bbdf7c0",
   "metadata": {},
   "outputs": [],
   "source": [
    "context_tensor = text_to_tensor(text_data[10:50], ctoi)"
   ]
  },
  {
   "cell_type": "code",
   "execution_count": 57,
   "id": "2dd9daa4",
   "metadata": {},
   "outputs": [
    {
     "name": "stdout",
     "output_type": "stream",
     "text": [
      "Epoch 1, Loss: 6.422689914703369\n",
      "Epoch 2, Loss: 6.2804951667785645\n",
      "Epoch 3, Loss: 5.785146236419678\n",
      "Epoch 4, Loss: 5.048469543457031\n",
      "Epoch 5, Loss: 4.8103814125061035\n",
      "Epoch 6, Loss: 4.400051116943359\n",
      "Epoch 7, Loss: 4.671872615814209\n",
      "Epoch 8, Loss: 4.374535083770752\n",
      "Epoch 9, Loss: 3.7471237182617188\n",
      "Epoch 10, Loss: 3.0568227767944336\n",
      "Epoch 11, Loss: 2.755739450454712\n",
      "Epoch 12, Loss: 2.3996903896331787\n",
      "Epoch 13, Loss: 2.741488218307495\n",
      "Epoch 14, Loss: 2.3396313190460205\n",
      "Epoch 15, Loss: 1.7182997465133667\n",
      "Epoch 16, Loss: 1.5921144485473633\n",
      "Epoch 17, Loss: 1.4816151857376099\n",
      "Epoch 18, Loss: 1.4913387298583984\n",
      "Epoch 19, Loss: 1.1968955993652344\n",
      "Epoch 20, Loss: 1.1413242816925049\n",
      "Epoch 21, Loss: 1.11558997631073\n",
      "Epoch 22, Loss: 1.139900803565979\n",
      "Epoch 23, Loss: 1.0630971193313599\n",
      "Epoch 24, Loss: 0.9689602851867676\n",
      "Epoch 25, Loss: 0.9149562120437622\n",
      "Epoch 26, Loss: 1.072037696838379\n",
      "Epoch 27, Loss: 0.8277516961097717\n",
      "Epoch 28, Loss: 0.7358985543251038\n",
      "Epoch 29, Loss: 0.6720336675643921\n",
      "Epoch 30, Loss: 0.7510306239128113\n",
      "Epoch 31, Loss: 0.5904718637466431\n",
      "Epoch 32, Loss: 0.47719547152519226\n",
      "Epoch 33, Loss: 0.42318397760391235\n",
      "Epoch 34, Loss: 0.432966023683548\n",
      "Epoch 35, Loss: 0.33997467160224915\n",
      "Epoch 36, Loss: 0.30752724409103394\n",
      "Epoch 37, Loss: 0.3029305338859558\n",
      "Epoch 38, Loss: 0.2648831307888031\n",
      "Epoch 39, Loss: 0.26639658212661743\n",
      "Epoch 40, Loss: 0.24704428017139435\n",
      "Epoch 41, Loss: 0.2250116765499115\n",
      "Epoch 42, Loss: 0.35503843426704407\n",
      "Epoch 43, Loss: 0.211681067943573\n",
      "Epoch 44, Loss: 0.1766316145658493\n",
      "Epoch 45, Loss: 0.30361294746398926\n",
      "Epoch 46, Loss: 0.28678929805755615\n",
      "Epoch 47, Loss: 0.1894015669822693\n",
      "Epoch 48, Loss: 0.29937219619750977\n",
      "Epoch 49, Loss: 0.10491537302732468\n",
      "Epoch 50, Loss: 0.12810248136520386\n"
     ]
    }
   ],
   "source": [
    "multilayer_rnn = CharRNN(vocab_size, embedding_dim, hidden_dim, num_layers=4)\n",
    "optimizer = torch.optim.SGD(multilayer_rnn.parameters(), lr = 0.01)#, weight_decay=5e-3, momentum=0.9)\n",
    "\n",
    "multilayer_rnn = fit(multilayer_rnn, text_dataset_input, text_dataset_output, dataset_size, n_epochs, optimizer)"
   ]
  },
  {
   "cell_type": "code",
   "execution_count": 58,
   "id": "8de90ec5",
   "metadata": {},
   "outputs": [
    {
     "name": "stdout",
     "output_type": "stream",
     "text": [
      "ChENENALE\n",
      "\n",
      "\n",
      "\n",
      "L'ENNEER\n",
      "\n",
      "\n",
      "\n",
      "\n",
      "LENENALE\n",
      "\n",
      "\n",
      "\n",
      "LENENALE\n",
      "\n",
      "\n",
      "\n",
      "LENENALE\n",
      "\n",
      "\n",
      "\n",
      "LENENALE\n",
      "\n",
      "\n",
      "\n",
      "LENENALE\n",
      "\n",
      "\n",
      "\n",
      "LENENALE\n",
      "\n",
      "\n",
      "\n",
      "LENENALE\n",
      "\n",
      "\n",
      "\n",
      "LENENALE\n",
      "\n",
      "\n",
      "\n",
      "LENENALE\n",
      "\n",
      "\n",
      "\n",
      "LENENALE\n",
      "\n",
      "\n",
      "\n",
      "LENENALE\n",
      "\n",
      "\n",
      "\n",
      "LENENALE\n",
      "\n",
      "\n",
      "\n",
      "LENENALE\n",
      "\n",
      "\n",
      "\n",
      "LENENALE\n",
      "\n",
      "\n",
      "\n",
      "LENENAL\n"
     ]
    }
   ],
   "source": [
    "print(tensor_to_text(multilayer_rnn.predict_argmax(context_tensor,200),itoc))"
   ]
  },
  {
   "cell_type": "code",
   "execution_count": 59,
   "id": "aa59b532",
   "metadata": {},
   "outputs": [
    {
     "name": "stdout",
     "output_type": "stream",
     "text": [
      "Epoch 1, Loss: 4.153772830963135\n",
      "Epoch 2, Loss: 4.206570148468018\n",
      "Epoch 3, Loss: 4.404646873474121\n",
      "Epoch 4, Loss: 4.801566123962402\n",
      "Epoch 5, Loss: 5.138530254364014\n",
      "Epoch 6, Loss: 5.401076316833496\n",
      "Epoch 7, Loss: 5.583259105682373\n",
      "Epoch 8, Loss: 5.684397220611572\n",
      "Epoch 9, Loss: 5.806121349334717\n",
      "Epoch 10, Loss: 5.855288505554199\n",
      "Epoch 11, Loss: 5.929509162902832\n",
      "Epoch 12, Loss: 5.958600997924805\n",
      "Epoch 13, Loss: 5.997044563293457\n",
      "Epoch 14, Loss: 5.990281105041504\n",
      "Epoch 15, Loss: 6.029736042022705\n",
      "Epoch 16, Loss: 6.007689476013184\n",
      "Epoch 17, Loss: 6.011616230010986\n",
      "Epoch 18, Loss: 6.039679050445557\n",
      "Epoch 19, Loss: 6.033377647399902\n",
      "Epoch 20, Loss: 6.0259552001953125\n",
      "Epoch 21, Loss: 6.030393600463867\n",
      "Epoch 22, Loss: 6.027670383453369\n",
      "Epoch 23, Loss: 6.024017810821533\n",
      "Epoch 24, Loss: 5.9795403480529785\n",
      "Epoch 25, Loss: 5.9704694747924805\n",
      "Epoch 26, Loss: 6.000383377075195\n",
      "Epoch 27, Loss: 5.949653625488281\n",
      "Epoch 28, Loss: 5.983710765838623\n",
      "Epoch 29, Loss: 5.975042819976807\n",
      "Epoch 30, Loss: 5.9661335945129395\n",
      "Epoch 31, Loss: 5.956897258758545\n",
      "Epoch 32, Loss: 5.887571811676025\n",
      "Epoch 33, Loss: 5.934154987335205\n",
      "Epoch 34, Loss: 5.858874797821045\n",
      "Epoch 35, Loss: 5.846588134765625\n",
      "Epoch 36, Loss: 5.829597473144531\n",
      "Epoch 37, Loss: 5.813501358032227\n",
      "Epoch 38, Loss: 5.871999263763428\n",
      "Epoch 39, Loss: 5.813076496124268\n",
      "Epoch 40, Loss: 5.756941795349121\n",
      "Epoch 41, Loss: 5.758675575256348\n",
      "Epoch 42, Loss: 5.7772369384765625\n",
      "Epoch 43, Loss: 5.813570499420166\n",
      "Epoch 44, Loss: 5.7033843994140625\n",
      "Epoch 45, Loss: 5.738495826721191\n",
      "Epoch 46, Loss: 5.721497058868408\n",
      "Epoch 47, Loss: 5.6634650230407715\n",
      "Epoch 48, Loss: 5.695785999298096\n",
      "Epoch 49, Loss: 5.630429267883301\n",
      "Epoch 50, Loss: 5.617970943450928\n"
     ]
    }
   ],
   "source": [
    "\n",
    "\n",
    "multilayer_gru = GruNN(vocab_size, embedding_dim, hidden_dim, num_layers=2)\n",
    "optimizer = torch.optim.SGD(multilayer_gru.parameters(), lr = 0.001)#, weight_decay=5e-3, momentum=0.9)\n",
    "multilayer_gru = fit(multilayer_gru, text_dataset_input, text_dataset_output, dataset_size, n_epochs, optimizer)\n"
   ]
  },
  {
   "cell_type": "code",
   "execution_count": 101,
   "id": "97c4f91d",
   "metadata": {},
   "outputs": [
    {
     "name": "stdout",
     "output_type": "stream",
     "text": [
      "u le le le le le le le le le le le le le le le le le le le le le le le le le le le le le le le le le le le le le le le le le le le le le le le le le le le le le le le le le le le le le le le le le le l\n"
     ]
    }
   ],
   "source": [
    "print(tensor_to_text(multilayer_gru.predict_argmax(context_tensor,200),itoc))"
   ]
  },
  {
   "cell_type": "code",
   "execution_count": 98,
   "id": "e700c6f3",
   "metadata": {},
   "outputs": [],
   "source": [
    "def fit_lstm(model, text_dataset_input, text_dataset_output, dataset_size,n_epochs, optimizer):\n",
    "  start_idx = torch.randint(0,int(seq_len / 2),(1,)).item() #randomly select a start_idx\n",
    "  hidden = None\n",
    "  for iter in range(1, n_epochs + 1):\n",
    "        indices = torch.randperm(dataset_size) #randomly permute the indices\n",
    "        for i in range(dataset_size): \n",
    "          logits, hidden, c = model(text_dataset_input[i][start_idx:], hidden)\n",
    "          hidden[0] = hidden[0].detach()\n",
    "          hidden[1] = hidden[1].detach() #Once we update the hidden state we need to detach it, to not backpropagate through it in the next batch\n",
    "          loss = criterion(logits, text_dataset_output[i][start_idx:])\n",
    "          optimizer.zero_grad()\n",
    "          loss.backward()\n",
    "          optimizer.step()\n",
    "\n",
    "        \n",
    "        print(f'Epoch {iter}, Loss: {loss.item()}')\n",
    "  return model"
   ]
  },
  {
   "cell_type": "code",
   "execution_count": null,
   "id": "5d796634",
   "metadata": {},
   "outputs": [
    {
     "name": "stdout",
     "output_type": "stream",
     "text": [
      "Epoch 1, Loss: 4.678082466125488\n",
      "Epoch 2, Loss: 5.584222316741943\n",
      "Epoch 3, Loss: 6.010735988616943\n",
      "Epoch 4, Loss: 6.216280460357666\n",
      "Epoch 5, Loss: 6.331568241119385\n",
      "Epoch 6, Loss: 6.400148868560791\n",
      "Epoch 7, Loss: 6.44180965423584\n",
      "Epoch 8, Loss: 6.467369079589844\n",
      "Epoch 9, Loss: 6.483094692230225\n",
      "Epoch 10, Loss: 6.492684841156006\n",
      "Epoch 11, Loss: 6.498358726501465\n",
      "Epoch 12, Loss: 6.501486778259277\n",
      "Epoch 13, Loss: 6.502933502197266\n",
      "Epoch 14, Loss: 6.503262519836426\n",
      "Epoch 15, Loss: 6.502846717834473\n",
      "Epoch 16, Loss: 6.501940727233887\n"
     ]
    }
   ],
   "source": [
    "multilayer_lstm = LSTMNN(vocab_size, embedding_dim, hidden_dim, num_layers=4)\n",
    "optimizer = torch.optim.SGD(multilayer_lstm.parameters(), lr = 0.01)#, weight_decay=5e-3, momentum=0.9)\n",
    "\n",
    "multilayer_lstm = fit_lstm(multilayer_lstm, text_dataset_input, text_dataset_output, dataset_size, n_epochs, optimizer)"
   ]
  },
  {
   "cell_type": "code",
   "execution_count": 107,
   "id": "5eb1bff1",
   "metadata": {},
   "outputs": [
    {
     "ename": "ValueError",
     "evalue": "too many values to unpack (expected 2)",
     "output_type": "error",
     "traceback": [
      "\u001b[0;31m---------------------------------------------------------------------------\u001b[0m",
      "\u001b[0;31mValueError\u001b[0m                                Traceback (most recent call last)",
      "Cell \u001b[0;32mIn[107], line 1\u001b[0m\n\u001b[0;32m----> 1\u001b[0m \u001b[43mmultilayer_lstm\u001b[49m\u001b[38;5;241;43m.\u001b[39;49m\u001b[43mpredict_argmax\u001b[49m\u001b[43m(\u001b[49m\u001b[43mcontext_tensor\u001b[49m\u001b[43m,\u001b[49m\u001b[38;5;241;43m200\u001b[39;49m\u001b[43m)\u001b[49m\n\u001b[1;32m      2\u001b[0m \u001b[38;5;28mprint\u001b[39m(tensor_to_text(multilayer_lstm\u001b[38;5;241m.\u001b[39mpredict_argmax(context_tensor,\u001b[38;5;241m200\u001b[39m),itoc))\n",
      "Cell \u001b[0;32mIn[9], line 7\u001b[0m, in \u001b[0;36mCharRNN.predict_argmax\u001b[0;34m(self, context_tensor, n_predictions)\u001b[0m\n\u001b[1;32m      2\u001b[0m \u001b[38;5;28;01mdef\u001b[39;00m \u001b[38;5;21mpredict_argmax\u001b[39m(\u001b[38;5;28mself\u001b[39m, context_tensor, n_predictions):\n\u001b[1;32m      3\u001b[0m     \u001b[38;5;66;03m# Apply the forward pass for the context tensor\u001b[39;00m\n\u001b[1;32m      4\u001b[0m     \u001b[38;5;66;03m# Then, store the last prediction and last hidden state\u001b[39;00m\n\u001b[1;32m      5\u001b[0m     \u001b[38;5;66;03m# YOUR CODE HERE\u001b[39;00m\n\u001b[1;32m      6\u001b[0m     predictions \u001b[38;5;241m=\u001b[39m []\n\u001b[0;32m----> 7\u001b[0m     logits, hidden \u001b[38;5;241m=\u001b[39m \u001b[38;5;28mself\u001b[39m\u001b[38;5;241m.\u001b[39mforward(context_tensor)\n\u001b[1;32m      8\u001b[0m     output \u001b[38;5;241m=\u001b[39m F\u001b[38;5;241m.\u001b[39msoftmax(logits, dim\u001b[38;5;241m=\u001b[39m\u001b[38;5;241m1\u001b[39m)[\u001b[38;5;241m-\u001b[39m\u001b[38;5;241m1\u001b[39m]\n\u001b[1;32m      9\u001b[0m     last_pred \u001b[38;5;241m=\u001b[39m torch\u001b[38;5;241m.\u001b[39margmax(output)\n",
      "\u001b[0;31mValueError\u001b[0m: too many values to unpack (expected 2)"
     ]
    }
   ],
   "source": [
    "multilayer_lstm.predict_argmax(context_tensor,200)\n",
    "print(tensor_to_text(multilayer_lstm.predict_argmax(context_tensor,200),itoc))"
   ]
  },
  {
   "cell_type": "markdown",
   "id": "13329eaa-6a48-47cf-912d-424a79680f91",
   "metadata": {
    "deletable": false,
    "id": "13329eaa-6a48-47cf-912d-424a79680f91",
    "nbgrader": {
     "cell_type": "markdown",
     "checksum": "5bffac2e6bdfed739aea204b3c40a792",
     "grade": true,
     "grade_id": "cell-3961b7f97f038a4b",
     "locked": false,
     "points": 0,
     "schema_version": 3,
     "solution": true,
     "task": false
    }
   },
   "source": [
    "YOUR ANSWER HERE"
   ]
  }
 ],
 "metadata": {
  "colab": {
   "provenance": []
  },
  "kernelspec": {
   "display_name": "Python 3 (ipykernel)",
   "language": "python",
   "name": "python3"
  },
  "language_info": {
   "codemirror_mode": {
    "name": "ipython",
    "version": 3
   },
   "file_extension": ".py",
   "mimetype": "text/x-python",
   "name": "python",
   "nbconvert_exporter": "python",
   "pygments_lexer": "ipython3",
   "version": "3.10.12"
  }
 },
 "nbformat": 4,
 "nbformat_minor": 5
}

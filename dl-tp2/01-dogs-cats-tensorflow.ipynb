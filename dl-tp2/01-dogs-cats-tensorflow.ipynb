{
 "cells": [
  {
   "cell_type": "markdown",
   "id": "76bd5de9-2239-4bd9-8304-a93cc1718701",
   "metadata": {
    "deletable": false,
    "editable": false,
    "nbgrader": {
     "cell_type": "markdown",
     "checksum": "72ddeaa9f28d1b17fff1aef62a3ac754",
     "grade": false,
     "grade_id": "cell-f4b1cb35e89ed84f",
     "locked": true,
     "schema_version": 3,
     "solution": false,
     "task": false
    },
    "tags": []
   },
   "source": [
    "# IS319 - Deep Learning\n",
    "\n",
    "## TP2 - Dogs vs. cats (TensorFlow/Keras)\n",
    "\n",
    "Credits: Baptiste Pesquet\n",
    "\n",
    "![Woof Meow](woof_meow.jpg)\n",
    "\n",
    "In this TP, the goal is to train neural networks to classify images of dogs and cats, using the TensorFlow/Keras library.\n",
    "\n",
    "The images used in this TP are extracted from the [Dogs vs. Cats](https://www.kaggle.com/c/dogs-vs-cats/) dataset available on Kaggle, which contains 25000 images. First, we use a subset of 2000 images to decrease training time, for educational purposes. Later on, you can experiment with the full dataset using a GPU.\n",
    "\n",
    "Most questions are open-ended: feel free to experiment with different settings. **Remember to analyze and explain what you are doing in additional cells.**"
   ]
  },
  {
   "cell_type": "markdown",
   "id": "171dfe34-6c0d-42c1-bdcb-0d4af7b6b576",
   "metadata": {
    "deletable": false,
    "editable": false,
    "nbgrader": {
     "cell_type": "markdown",
     "checksum": "661cb0949c72603e8c127a3fc46d926d",
     "grade": false,
     "grade_id": "cell-1b87c3cdd6e4e6f0",
     "locked": true,
     "schema_version": 3,
     "solution": false,
     "task": false
    },
    "tags": []
   },
   "source": [
    "## Environment setup"
   ]
  },
  {
   "cell_type": "code",
   "execution_count": null,
   "id": "939b9f5d-f247-4d40-b7b3-b3b8481926c2",
   "metadata": {},
   "outputs": [],
   "source": [
    "import os\n",
    "import zipfile\n",
    "import numpy as np\n",
    "import matplotlib.pyplot as plt"
   ]
  },
  {
   "cell_type": "code",
   "execution_count": null,
   "id": "83ac84a2-2eb6-4e78-8087-f250bfee41b5",
   "metadata": {},
   "outputs": [],
   "source": [
    "# Import TensorFlow modules (edit this list if needed)\n",
    "import tensorflow as tf\n",
    "print(f'TensorFlow version: {tf.__version__}')\n",
    "from tensorflow.keras.preprocessing.image import ImageDataGenerator, img_to_array, array_to_img, load_img\n",
    "from tensorflow.keras import Model\n",
    "from tensorflow.keras.models import Sequential\n",
    "from tensorflow.keras.layers import Dense, Flatten, Conv2D, MaxPooling2D, Input, Dropout\n",
    "from tensorflow.keras.applications import VGG16"
   ]
  },
  {
   "cell_type": "markdown",
   "id": "f0a4cc4b-78e3-45d9-9718-651fc5147564",
   "metadata": {
    "deletable": false,
    "editable": false,
    "nbgrader": {
     "cell_type": "markdown",
     "checksum": "652bc551b5020deb604999aa7c2f5fa9",
     "grade": false,
     "grade_id": "cell-de441609300c1508",
     "locked": true,
     "schema_version": 3,
     "solution": false,
     "task": false
    },
    "tags": []
   },
   "source": [
    "## Utility function"
   ]
  },
  {
   "cell_type": "code",
   "execution_count": null,
   "id": "61ef8210-9a65-43e7-82b2-bf1db43fc77b",
   "metadata": {},
   "outputs": [],
   "source": [
    "def plot_loss_acc(history):\n",
    "    \"\"\"Plot training and (optionally) validation loss and accuracy\"\"\"\n",
    "    loss = history.history['loss']\n",
    "    acc = history.history['accuracy']\n",
    "    epochs = range(1, len(loss) + 1)\n",
    "\n",
    "    plt.figure(figsize=(10, 10))\n",
    "\n",
    "    plt.subplot(2, 1, 1)\n",
    "    plt.plot(epochs, loss, '.--', label='Training loss')\n",
    "    final_loss = loss[-1]\n",
    "    title = 'Training loss: {:.4f}'.format(final_loss)\n",
    "    plt.xlabel('Epochs')\n",
    "    plt.ylabel('Loss')\n",
    "    if 'val_loss' in history.history:\n",
    "        val_loss = history.history['val_loss']\n",
    "        plt.plot(epochs, val_loss, 'o-', label='Validation loss')\n",
    "        final_val_loss = val_loss[-1]\n",
    "        title += ', Validation loss: {:.4f}'.format(final_val_loss)\n",
    "    plt.title(title)\n",
    "    plt.legend()\n",
    "\n",
    "    plt.subplot(2, 1, 2)\n",
    "    plt.plot(epochs, acc, '.--', label='Training acc')\n",
    "    final_acc = acc[-1]\n",
    "    title = 'Training accuracy: {:.2f}%'.format(final_acc * 100)\n",
    "    plt.xlabel('Epochs')\n",
    "    plt.ylabel('Accuracy')\n",
    "    if 'val_accuracy' in history.history:\n",
    "        val_acc = history.history['val_accuracy']\n",
    "        plt.plot(epochs, val_acc, 'o-', label='Validation acc')\n",
    "        final_val_acc = val_acc[-1]\n",
    "        title += ', Validation accuracy: {:.2f}%'.format(final_val_acc * 100)\n",
    "    plt.title(title)\n",
    "    plt.legend()\n",
    "\n",
    "    plt.tight_layout()"
   ]
  },
  {
   "cell_type": "markdown",
   "id": "1a6ba18f-1209-41ae-851b-b1a157dd613d",
   "metadata": {
    "deletable": false,
    "editable": false,
    "nbgrader": {
     "cell_type": "markdown",
     "checksum": "5f56c1ce493bf84dacbe40ae0bea9080",
     "grade": false,
     "grade_id": "cell-f94dcdaa420dcb0a",
     "locked": true,
     "schema_version": 3,
     "solution": false,
     "task": false
    },
    "tags": []
   },
   "source": [
    "## 1. Load and explore the dataset"
   ]
  },
  {
   "cell_type": "code",
   "execution_count": null,
   "id": "0a29f836-9630-49e1-a6d4-69be89aed904",
   "metadata": {},
   "outputs": [],
   "source": [
    "# Downloading our example data, a .zip of 2000 JPG pictures, and extracting it locally in `/tmp`\n",
    "!wget --no-check-certificate --no-clobber \\\n",
    "    https://storage.googleapis.com/mledu-datasets/cats_and_dogs_filtered.zip \\\n",
    "    -O /tmp/cats_and_dogs_filtered.zip\n",
    "\n",
    "# Extracting zip file to the base directory `/tmp/cats_and_dogs_filtered`\n",
    "local_zip = '/tmp/cats_and_dogs_filtered.zip'\n",
    "zip_ref = zipfile.ZipFile(local_zip, 'r')\n",
    "zip_ref.extractall('/tmp')\n",
    "zip_ref.close()\n",
    "\n",
    "base_dir = '/tmp/cats_and_dogs_filtered'\n",
    "train_dir = os.path.join(base_dir, 'train')\n",
    "valid_dir = os.path.join(base_dir, 'validation')\n",
    "\n",
    "# Directories with training/validation cat/dogs pictures\n",
    "train_cats_dir = os.path.join(train_dir, 'cats')\n",
    "train_dogs_dir = os.path.join(train_dir, 'dogs')\n",
    "valid_cats_dir = os.path.join(valid_dir, 'cats')\n",
    "valid_dogs_dir = os.path.join(valid_dir, 'dogs')\n",
    "\n",
    "# Display the sizes of our dataset\n",
    "print(f'Number of train cat images: {len(os.listdir(train_cats_dir))}')\n",
    "print(f'Number of train dog images: {len(os.listdir(train_dogs_dir))}')\n",
    "print(f'Number of valid cat images: {len(os.listdir(valid_cats_dir))}')\n",
    "print(f'Number of valid dog images: {len(os.listdir(valid_dogs_dir))}')\n",
    "\n",
    "# Display some images files for cats and dogs\n",
    "train_cat_fnames = os.listdir(train_cats_dir)\n",
    "print(train_cat_fnames[:10])\n",
    "train_dog_fnames = os.listdir(train_dogs_dir)\n",
    "print(train_dog_fnames[:10])"
   ]
  },
  {
   "cell_type": "markdown",
   "id": "08d58fe0-0048-49dd-b238-a53fb1e640f6",
   "metadata": {
    "deletable": false,
    "editable": false,
    "nbgrader": {
     "cell_type": "markdown",
     "checksum": "e6578efd32969619f82c6f92cef6063a",
     "grade": false,
     "grade_id": "cell-578817b54a4d7015",
     "locked": true,
     "schema_version": 3,
     "solution": false,
     "task": false
    }
   },
   "source": [
    "**(Question)** Display some images of cats and dogs from the train set and the validation set."
   ]
  },
  {
   "cell_type": "code",
   "execution_count": null,
   "id": "5dd2cb22-a244-4997-91a8-dd344d760966",
   "metadata": {
    "deletable": false,
    "nbgrader": {
     "cell_type": "code",
     "checksum": "dcc03539fc7edfdfa9b7dbc9bbd3ca86",
     "grade": true,
     "grade_id": "show-dataset",
     "locked": false,
     "points": 1,
     "schema_version": 3,
     "solution": true,
     "task": false
    }
   },
   "outputs": [],
   "source": [
    "# YOUR CODE HERE\n",
    "raise NotImplementedError()"
   ]
  },
  {
   "cell_type": "markdown",
   "id": "54a167d2-e9c0-4263-82c0-1191077a6bb3",
   "metadata": {
    "deletable": false,
    "editable": false,
    "nbgrader": {
     "cell_type": "markdown",
     "checksum": "56fb7e97b3bc6312a5ef2457cc690cf4",
     "grade": false,
     "grade_id": "cell-f78f04a91d110846",
     "locked": true,
     "schema_version": 3,
     "solution": false,
     "task": false
    }
   },
   "source": [
    "## 2. Prepare the dataset"
   ]
  },
  {
   "cell_type": "markdown",
   "id": "49bf9352-2e67-4475-a2e1-854277a2d5ed",
   "metadata": {
    "deletable": false,
    "editable": false,
    "nbgrader": {
     "cell_type": "markdown",
     "checksum": "67113c4b3a5c4926fdda2095c7859d8f",
     "grade": false,
     "grade_id": "cell-96a5cf94d52d251c",
     "locked": true,
     "schema_version": 3,
     "solution": false,
     "task": false
    }
   },
   "source": [
    "**(Question)** Following the documentation, use the `tf.keras.utils.image_dataset_from_directory` function to create `train_dataset` and `valid_dataset` objects from the directory paths defined above. Make sure to have binary labels as we are doing binary classification. To start, you can use a lower image size (for example 128x128)."
   ]
  },
  {
   "cell_type": "code",
   "execution_count": null,
   "id": "25e27016-978e-4d57-9569-14f14b308ce5",
   "metadata": {
    "deletable": false,
    "nbgrader": {
     "cell_type": "code",
     "checksum": "a19339d204d91e5373b6d5c3efb1131b",
     "grade": true,
     "grade_id": "tensorflow-dataset",
     "locked": false,
     "points": 1,
     "schema_version": 3,
     "solution": true,
     "task": false
    }
   },
   "outputs": [],
   "source": [
    "# YOUR CODE HERE\n",
    "raise NotImplementedError()"
   ]
  },
  {
   "cell_type": "markdown",
   "id": "e44ec2d6-8fd1-4e44-b190-7b998f66a2bb",
   "metadata": {
    "deletable": false,
    "editable": false,
    "nbgrader": {
     "cell_type": "markdown",
     "checksum": "ed6e61380868ff596776652547f1c69c",
     "grade": false,
     "grade_id": "cell-9a5fe9463623002e",
     "locked": true,
     "schema_version": 3,
     "solution": false,
     "task": false
    }
   },
   "source": [
    "## 3. Training CNN models"
   ]
  },
  {
   "cell_type": "markdown",
   "id": "69188c72-3b5d-43fc-849a-6357a6eba77b",
   "metadata": {
    "deletable": false,
    "editable": false,
    "nbgrader": {
     "cell_type": "markdown",
     "checksum": "e331c4a1b6982afe3ce88c58a0878336",
     "grade": false,
     "grade_id": "cell-588cc15d5eda0534",
     "locked": true,
     "schema_version": 3,
     "solution": false,
     "task": false
    },
    "tags": []
   },
   "source": [
    "**(Question)** Create a CNN classification model able to be trained on your dataset. Show its summary with the `model.summary()`method.\n",
    "Make sure to include a layer to normalize input data (or to normalize your dataset object beforehand)."
   ]
  },
  {
   "cell_type": "code",
   "execution_count": null,
   "id": "f0216dc3-5ce2-4529-a3df-f900cb8ab049",
   "metadata": {
    "deletable": false,
    "nbgrader": {
     "cell_type": "code",
     "checksum": "b44f17e29f2a8871913c36d7eb919275",
     "grade": true,
     "grade_id": "model",
     "locked": false,
     "points": 2,
     "schema_version": 3,
     "solution": true,
     "task": false
    },
    "tags": []
   },
   "outputs": [],
   "source": [
    "# YOUR CODE HERE\n",
    "raise NotImplementedError()"
   ]
  },
  {
   "cell_type": "markdown",
   "id": "9cc9a864-081a-403a-b6f8-f71431a4867c",
   "metadata": {
    "deletable": false,
    "editable": false,
    "nbgrader": {
     "cell_type": "markdown",
     "checksum": "0ed71061241c7d2c7780158cc076b6a3",
     "grade": false,
     "grade_id": "model-training",
     "locked": true,
     "points": 3,
     "schema_version": 3,
     "solution": false,
     "task": true
    },
    "tags": []
   },
   "source": [
    "**(Question)** \"Compile\" and train your model with an appropriate loss function. Monitor train and validation accuracy (you can use the `plot_loss_acc` function defined above). You should be able to reach a validation accuracy >70%. Analyze your results."
   ]
  },
  {
   "cell_type": "code",
   "execution_count": null,
   "id": "9b1c2a54-1e65-4dab-b03a-2c51283e55df",
   "metadata": {
    "deletable": false,
    "nbgrader": {
     "cell_type": "code",
     "checksum": "7da350c042607f2b8e77d0d8aadc2522",
     "grade": true,
     "grade_id": "cell-be377edc245e6680",
     "locked": false,
     "points": 0,
     "schema_version": 3,
     "solution": true,
     "task": false
    }
   },
   "outputs": [],
   "source": [
    "# YOUR CODE HERE\n",
    "raise NotImplementedError()"
   ]
  },
  {
   "cell_type": "markdown",
   "id": "1cfe5dd2-6be6-418f-be0b-f8b092dd8c05",
   "metadata": {
    "deletable": false,
    "editable": false,
    "nbgrader": {
     "cell_type": "markdown",
     "checksum": "cd276889e82a147fe3847d265ab2fb88",
     "grade": false,
     "grade_id": "cell-68c2db0cda9a6c0d",
     "locked": true,
     "points": 0,
     "schema_version": 3,
     "solution": false,
     "task": true
    }
   },
   "source": []
  },
  {
   "cell_type": "markdown",
   "id": "dcc04d20-072f-43a0-bbc9-2bc55e1d3f6a",
   "metadata": {
    "deletable": false,
    "editable": false,
    "nbgrader": {
     "cell_type": "markdown",
     "checksum": "5139d0096a77c2c98e079d50aed0acfb",
     "grade": false,
     "grade_id": "cell-de35050b0fc69f9c",
     "locked": true,
     "schema_version": 3,
     "solution": false,
     "task": false
    }
   },
   "source": [
    "**(Question)** Make sure your code is using a GPU if one is available. Modify your code accordingly, if necessary. What kind of speedup do you observe? "
   ]
  },
  {
   "cell_type": "markdown",
   "id": "9faeb59c-5f81-4928-bbf4-94fb750cb642",
   "metadata": {
    "deletable": false,
    "editable": false,
    "nbgrader": {
     "cell_type": "markdown",
     "checksum": "f5055a8b2e98765550fde0444bd39caa",
     "grade": false,
     "grade_id": "gpu",
     "locked": true,
     "points": 2,
     "schema_version": 3,
     "solution": false,
     "task": true
    }
   },
   "source": []
  },
  {
   "cell_type": "markdown",
   "id": "e5474a6d-5f00-454a-9f06-69c085ca261c",
   "metadata": {
    "deletable": false,
    "editable": false,
    "nbgrader": {
     "cell_type": "markdown",
     "checksum": "e887fb61b46ff338c7286490272dec03",
     "grade": false,
     "grade_id": "cell-9e4c8832ed66317a",
     "locked": true,
     "schema_version": 3,
     "solution": false,
     "task": false
    }
   },
   "source": [
    "## 4. Preventing overfitting"
   ]
  },
  {
   "cell_type": "markdown",
   "id": "1f652edd-53f1-48cb-9833-63c316339c38",
   "metadata": {
    "deletable": false,
    "editable": false,
    "nbgrader": {
     "cell_type": "markdown",
     "checksum": "43cbb27cd2c0228c0a95a35080ad04af",
     "grade": false,
     "grade_id": "overfitting",
     "locked": true,
     "points": 4,
     "schema_version": 3,
     "solution": false,
     "task": true
    }
   },
   "source": [
    "**(Question)** Experiment with various deep learning techniques to prevent overfitting.\n",
    "\n",
    "Some suggested strategies are:\n",
    "\n",
    "- Adding data augmentation: possible transformations are random (horizontal) flips, rotations, translations, crops, and zooms\n",
    "    - (When using data augmentation, it is always good to visualize some of your transformations)\n",
    "- Adding dropout to the classification part\n",
    "- Adding appropriate batch normalization layers in different parts of the network"
   ]
  },
  {
   "cell_type": "code",
   "execution_count": null,
   "id": "83e7e12c-76d8-4494-9de0-5a65bbdeaf5e",
   "metadata": {
    "deletable": false,
    "nbgrader": {
     "cell_type": "code",
     "checksum": "c1db1d2dfd90770ae2a696fc4420d2b5",
     "grade": true,
     "grade_id": "cell-dbdcfcb812643910",
     "locked": false,
     "points": 0,
     "schema_version": 3,
     "solution": true,
     "task": false
    }
   },
   "outputs": [],
   "source": [
    "# YOUR CODE HERE\n",
    "raise NotImplementedError()"
   ]
  },
  {
   "cell_type": "markdown",
   "id": "82143c9f-61fc-4551-8db0-46aef2b92884",
   "metadata": {
    "deletable": false,
    "editable": false,
    "nbgrader": {
     "cell_type": "markdown",
     "checksum": "1bec98c77d8cf3e81099b83a99ea96fc",
     "grade": false,
     "grade_id": "cell-1b502776188bbe60",
     "locked": true,
     "points": 0,
     "schema_version": 3,
     "solution": false,
     "task": true
    }
   },
   "source": []
  },
  {
   "cell_type": "markdown",
   "id": "4dd95ac2-10bf-4c3a-b434-a3144870002f",
   "metadata": {
    "deletable": false,
    "editable": false,
    "nbgrader": {
     "cell_type": "markdown",
     "checksum": "4318a9eb2f46813d3da72caa4077fe80",
     "grade": false,
     "grade_id": "overfitting-training-analysis",
     "locked": true,
     "points": 3,
     "schema_version": 3,
     "solution": false,
     "task": true
    }
   },
   "source": [
    "**(Question)** Train your model with deep learning techniques. Analyze the results and compare with the previous model."
   ]
  },
  {
   "cell_type": "code",
   "execution_count": null,
   "id": "b7742574-6fd7-4eb4-957c-12419c902230",
   "metadata": {
    "deletable": false,
    "nbgrader": {
     "cell_type": "code",
     "checksum": "24944f36ad276b084fd8c6e06c1d5626",
     "grade": true,
     "grade_id": "cell-f578b136952870ac",
     "locked": false,
     "points": 0,
     "schema_version": 3,
     "solution": true,
     "task": false
    }
   },
   "outputs": [],
   "source": [
    "# YOUR CODE HERE\n",
    "raise NotImplementedError()"
   ]
  },
  {
   "cell_type": "markdown",
   "id": "12c4ed21-fbad-4450-8260-086f4e18b265",
   "metadata": {
    "deletable": false,
    "editable": false,
    "nbgrader": {
     "cell_type": "markdown",
     "checksum": "e25d12064a1bc9a94a01e3abe97d7e25",
     "grade": false,
     "grade_id": "cell-177692113ed4f24f",
     "locked": true,
     "points": 0,
     "schema_version": 3,
     "solution": false,
     "task": true
    }
   },
   "source": []
  },
  {
   "cell_type": "markdown",
   "id": "8e9d3750-06e8-4687-9091-20f6cd3e0096",
   "metadata": {
    "deletable": false,
    "editable": false,
    "nbgrader": {
     "cell_type": "markdown",
     "checksum": "dd8165a1d7da9cd974a17674a43290ea",
     "grade": false,
     "grade_id": "cell-1d6fcd56c31c21e6",
     "locked": true,
     "schema_version": 3,
     "solution": false,
     "task": false
    }
   },
   "source": [
    "## 5. Finetuning a pretrained model"
   ]
  },
  {
   "cell_type": "markdown",
   "id": "f41e66f4-72ad-4c5c-8b37-9fd7fbb3d47e",
   "metadata": {
    "deletable": false,
    "editable": false,
    "nbgrader": {
     "cell_type": "markdown",
     "checksum": "e188f20cac9c98664a57b85276b000c0",
     "grade": false,
     "grade_id": "cell-ff49d9da597f13d3",
     "locked": true,
     "schema_version": 3,
     "solution": false,
     "task": false
    }
   },
   "source": [
    "**(Question)** Load the feature extraction part of VGG16 model. The feature extraction part corresponds to the CNN part, without the MLP classifier at the end."
   ]
  },
  {
   "cell_type": "code",
   "execution_count": null,
   "id": "1a3c3d50-05f4-4a7a-a8d3-da0cf5294cb1",
   "metadata": {
    "deletable": false,
    "nbgrader": {
     "cell_type": "code",
     "checksum": "36727f1d9b521ae554745e9ee3bdcaff",
     "grade": true,
     "grade_id": "finetuning-model",
     "locked": false,
     "points": 2,
     "schema_version": 3,
     "solution": true,
     "task": false
    },
    "tags": []
   },
   "outputs": [],
   "source": [
    "# YOUR CODE HERE\n",
    "raise NotImplementedError()"
   ]
  },
  {
   "cell_type": "markdown",
   "id": "2a54fcea-5725-4784-ac77-d2308a43ad55",
   "metadata": {
    "deletable": false,
    "editable": false,
    "nbgrader": {
     "cell_type": "markdown",
     "checksum": "fa2cda7b62794e4a322ee5e0aa073440",
     "grade": false,
     "grade_id": "cell-dec8f3d935804057",
     "locked": true,
     "schema_version": 3,
     "solution": false,
     "task": false
    }
   },
   "source": [
    "**(Question)** Add a custom MLP classifier on top of the VGG16 feature extraction part."
   ]
  },
  {
   "cell_type": "code",
   "execution_count": null,
   "id": "55326996-43e9-417e-8c20-e1ca0e646367",
   "metadata": {
    "deletable": false,
    "nbgrader": {
     "cell_type": "code",
     "checksum": "55af4e889fe1f9061d377cce21316ebc",
     "grade": true,
     "grade_id": "finetuning-mlp",
     "locked": false,
     "points": 1,
     "schema_version": 3,
     "solution": true,
     "task": false
    },
    "tags": []
   },
   "outputs": [],
   "source": [
    "# YOUR CODE HERE\n",
    "raise NotImplementedError()"
   ]
  },
  {
   "cell_type": "markdown",
   "id": "f5d9976e-4443-4aff-acf5-21c48c6aed00",
   "metadata": {
    "deletable": false,
    "editable": false,
    "nbgrader": {
     "cell_type": "markdown",
     "checksum": "353ec23467e8cbfdbdffaaf691669ef2",
     "grade": false,
     "grade_id": "cell-aff6106f98066efb",
     "locked": true,
     "points": 3,
     "schema_version": 3,
     "solution": false,
     "task": true
    }
   },
   "source": [
    "**(Question)** Compile and train your model. You should be able to reach a validation accuracy >87%. Analyze your results and compare with your initial model trained from scratch."
   ]
  },
  {
   "cell_type": "code",
   "execution_count": null,
   "id": "54fbcbf9-555f-4376-9b78-533a9a589dc0",
   "metadata": {
    "deletable": false,
    "nbgrader": {
     "cell_type": "code",
     "checksum": "53ebe34bb4efc7ea0b8fdac44c3846d6",
     "grade": true,
     "grade_id": "cell-ceeb013d03d89f2d",
     "locked": false,
     "points": 0,
     "schema_version": 3,
     "solution": true,
     "task": false
    }
   },
   "outputs": [],
   "source": [
    "# YOUR CODE HERE\n",
    "raise NotImplementedError()"
   ]
  },
  {
   "cell_type": "markdown",
   "id": "280e4f40-788c-4369-99eb-2ec8f1e2f6ff",
   "metadata": {
    "deletable": false,
    "editable": false,
    "nbgrader": {
     "cell_type": "markdown",
     "checksum": "762f740af004a38812d176443ffd3646",
     "grade": false,
     "grade_id": "cell-02fa28b4e60c198f",
     "locked": true,
     "points": 0,
     "schema_version": 3,
     "solution": false,
     "task": true
    }
   },
   "source": []
  }
 ],
 "metadata": {
  "kernelspec": {
   "display_name": "Python 3 (ipykernel)",
   "language": "python",
   "name": "python3"
  },
  "language_info": {
   "codemirror_mode": {
    "name": "ipython",
    "version": 3
   },
   "file_extension": ".py",
   "mimetype": "text/x-python",
   "name": "python",
   "nbconvert_exporter": "python",
   "pygments_lexer": "ipython3",
   "version": "3.11.4"
  }
 },
 "nbformat": 4,
 "nbformat_minor": 5
}
